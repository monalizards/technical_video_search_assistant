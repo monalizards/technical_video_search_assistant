{
 "cells": [
  {
   "cell_type": "code",
   "execution_count": null,
   "id": "94919ea4",
   "metadata": {},
   "outputs": [],
   "source": [
    "from caption import pipeline\n",
    "from bertQA import qa\n",
    "import json\n",
    "import time"
   ]
  },
  {
   "cell_type": "code",
   "execution_count": null,
   "id": "f76b05cc",
   "metadata": {},
   "outputs": [],
   "source": [
    "def qa_tests(qa):\n",
    "#     short videos: angular\n",
    "    caption = pipeline('https://www.youtube.com/watch?v=Ata9cSC2WpM')\n",
    "    text = caption[\"caption_fulltext\"]\n",
    "    \n",
    "# short & no answer\n",
    "    question = 'what is the cheapest Investing App In the UK?'\n",
    "    time_function(question, text)\n",
    "# short & answer\n",
    "    question = 'what is angular'\n",
    "    time_function(question, text)\n",
    "    \n",
    "# long & no answer\n",
    "    caption = pipeline('https://www.youtube.com/watch?v=bHOeacf8GkY')\n",
    "    text = caption[\"caption_fulltext\"]\n",
    "    question = 'what is the angular?'\n",
    "    \n",
    "    time_function(question, text)\n",
    "# long & answer\n",
    "    question = 'what is the cheapest Investing App In the UK?'\n",
    "    time_function(question, text)\n",
    "\n",
    "def time_function(question, text):\n",
    "    start = time.time()\n",
    "    answer = qa(question, text)\n",
    "    end = time.time()\n",
    "    print('time passed:', end - start, ', answer:', answer)\n",
    "\n",
    "qa_tests(qa)"
   ]
  },
  {
   "cell_type": "markdown",
   "id": "66394985",
   "metadata": {},
   "source": [
    "Note: (BERT) ~7 seconds per 1 minute video"
   ]
  },
  {
   "cell_type": "markdown",
   "id": "48c9869a",
   "metadata": {},
   "source": [
    "## Synonym test code"
   ]
  },
  {
   "cell_type": "code",
   "execution_count": null,
   "id": "87937f99",
   "metadata": {},
   "outputs": [],
   "source": [
    "caption = pipeline('https://www.youtube.com/watch?v=Ata9cSC2WpM')"
   ]
  },
  {
   "cell_type": "code",
   "execution_count": null,
   "id": "9ec91baa",
   "metadata": {},
   "outputs": [],
   "source": [
    "caption"
   ]
  },
  {
   "cell_type": "code",
   "execution_count": null,
   "id": "e3a9eb98",
   "metadata": {},
   "outputs": [],
   "source": [
    "# import from nltk\n",
    "import nltk\n",
    "from nltk.corpus import stopwords, wordnet\n",
    "from nltk.tokenize import word_tokenize\n",
    "from nltk.stem import PorterStemmer, WordNetLemmatizer"
   ]
  },
  {
   "cell_type": "code",
   "execution_count": null,
   "id": "63353850",
   "metadata": {},
   "outputs": [],
   "source": [
    "search_word = 'fatigue'"
   ]
  },
  {
   "cell_type": "code",
   "execution_count": null,
   "id": "12b857af",
   "metadata": {},
   "outputs": [],
   "source": [
    "synonyms = []\n",
    "antonyms = []\n",
    "\n",
    "for syn in wordnet.synsets(search_word):\n",
    "    for l in syn.lemmas():\n",
    "        synonyms.append(l.name())\n",
    "        if l.antonyms():\n",
    "            antonyms.extend([n.name() for n in l.antonyms()])\n",
    "            \n",
    "print(set(synonyms), set(antonyms))"
   ]
  },
  {
   "cell_type": "code",
   "execution_count": null,
   "id": "6e133b25",
   "metadata": {},
   "outputs": [],
   "source": [
    "for section in json.loads(caption['caption_sections']):\n",
    "    if search_word in section['subtitle']:\n",
    "        print(section['section'])"
   ]
  },
  {
   "cell_type": "code",
   "execution_count": null,
   "id": "7f22e857",
   "metadata": {},
   "outputs": [],
   "source": [
    "caption['caption_sections']"
   ]
  },
  {
   "cell_type": "code",
   "execution_count": null,
   "id": "d245183a",
   "metadata": {},
   "outputs": [],
   "source": []
  },
  {
   "cell_type": "markdown",
   "id": "b807c91c",
   "metadata": {},
   "source": [
    "TODO: return search results in the form\n",
    "\n",
    "e.g. search word: 'component'\n",
    "\n",
    "{'results': [{'match': 'components', 'section': 1, 'match_type': 'exact'}, {'match': 'part', 'section': 2, 'match_type': 'synoynm'}]}"
   ]
  },
  {
   "cell_type": "code",
   "execution_count": null,
   "id": "832c64c4",
   "metadata": {},
   "outputs": [],
   "source": []
  },
  {
   "cell_type": "code",
   "execution_count": null,
   "id": "c430ede1",
   "metadata": {},
   "outputs": [],
   "source": []
  },
  {
   "cell_type": "code",
   "execution_count": null,
   "id": "cec1eb77",
   "metadata": {},
   "outputs": [],
   "source": []
  },
  {
   "cell_type": "code",
   "execution_count": null,
   "id": "57332dbd",
   "metadata": {},
   "outputs": [],
   "source": [
    "# Word tokenise\n",
    "tokens = word_tokenize(text)\n",
    "# print(tokens)\n",
    "# tag some text\n",
    "tagged = nltk.pos_tag(tokens)\n",
    "print(tagged[:5])\n",
    "POS = {\n",
    "    \"CD\": \"cardinal numbers\",\n",
    "    \"AT\": \"articles\",\n",
    "    \"JJ\": \"adjectives\",\n",
    "    \"NN\": \"nouns formed from oadjectives & nouns (default)\",\n",
    "    \"RB\": \"adverbs\",\n",
    "    \"NNS\": \"plural nouns\",\n",
    "    \"VBG\": \"gerunds\",\n",
    "    \"VBD\": \"past tense verbs\"\n",
    "}"
   ]
  },
  {
   "cell_type": "code",
   "execution_count": null,
   "id": "3a481e61",
   "metadata": {},
   "outputs": [],
   "source": [
    "# Stopword removal\n",
    "sw = stopwords.words(\"English\")\n",
    "content = [w for w in tokens if w.lower() not in sw]\n",
    "\" \".join(content)\n"
   ]
  }
 ],
 "metadata": {
  "kernelspec": {
   "display_name": "Python 3 (ipykernel)",
   "language": "python",
   "name": "python3"
  },
  "language_info": {
   "codemirror_mode": {
    "name": "ipython",
    "version": 3
   },
   "file_extension": ".py",
   "mimetype": "text/x-python",
   "name": "python",
   "nbconvert_exporter": "python",
   "pygments_lexer": "ipython3",
   "version": "3.9.5"
  }
 },
 "nbformat": 4,
 "nbformat_minor": 5
}
