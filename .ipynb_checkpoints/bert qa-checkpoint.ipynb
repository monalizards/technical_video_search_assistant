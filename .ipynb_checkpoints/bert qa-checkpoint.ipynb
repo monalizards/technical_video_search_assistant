{
 "cells": [
  {
   "cell_type": "code",
   "execution_count": 1,
   "id": "18d184fd",
   "metadata": {},
   "outputs": [],
   "source": [
    "import torch"
   ]
  },
  {
   "cell_type": "code",
   "execution_count": 2,
   "id": "6e6cc500",
   "metadata": {},
   "outputs": [],
   "source": [
    "from transformers import BertTokenizer, BertForQuestionAnswering"
   ]
  },
  {
   "cell_type": "code",
   "execution_count": 7,
   "id": "97ed486d",
   "metadata": {},
   "outputs": [
    {
     "data": {
      "application/vnd.jupyter.widget-view+json": {
       "model_id": "8611f7ff133d49cdb988a8d69d0eac13",
       "version_major": 2,
       "version_minor": 0
      },
      "text/plain": [
       "Downloading:   0%|          | 0.00/540 [00:00<?, ?B/s]"
      ]
     },
     "metadata": {},
     "output_type": "display_data"
    },
    {
     "data": {
      "application/vnd.jupyter.widget-view+json": {
       "model_id": "e3d60284371e462cb9d94b6ef1dcf975",
       "version_major": 2,
       "version_minor": 0
      },
      "text/plain": [
       "Downloading:   0%|          | 0.00/1.34G [00:00<?, ?B/s]"
      ]
     },
     "metadata": {},
     "output_type": "display_data"
    }
   ],
   "source": [
    "from transformers import BertTokenizer, BertForQuestionAnswering\n",
    "import torch\n",
    "\n",
    "tokenizer = BertTokenizer.from_pretrained('deepset/bert-large-uncased-whole-word-masking-squad2')\n",
    "model = BertForQuestionAnswering.from_pretrained('deepset/bert-large-uncased-whole-word-masking-squad2')"
   ]
  },
  {
   "cell_type": "code",
   "execution_count": 59,
   "id": "6dfc3fb5",
   "metadata": {},
   "outputs": [
    {
     "ename": "SyntaxError",
     "evalue": "EOL while scanning string literal (<ipython-input-59-3e5a6cad0228>, line 1)",
     "output_type": "error",
     "traceback": [
      "\u001b[0;36m  File \u001b[0;32m\"<ipython-input-59-3e5a6cad0228>\"\u001b[0;36m, line \u001b[0;32m1\u001b[0m\n\u001b[0;31m    question, text = \"How do you install transformer?\", \"Transformers is tested on Python 3.6+, and PyTorch 1.1.0+ or TensorFlow 2.0+.\u001b[0m\n\u001b[0m                                                                                                                                      ^\u001b[0m\n\u001b[0;31mSyntaxError\u001b[0m\u001b[0;31m:\u001b[0m EOL while scanning string literal\n"
     ]
    }
   ],
   "source": [
    "question, text = \"How do you install transformer?\", \"\"\"Transformers is tested on Python 3.6+, and PyTorch 1.1.0+ or TensorFlow 2.0+.\n",
    "\n",
    "You should install 🤗 Transformers in a virtual environment. If you’re unfamiliar with Python virtual environments, check out the user guide. Create a virtual environment with the version of Python you’re going to use and activate it.\n",
    "\n",
    "Now, if you want to use 🤗 Transformers, you can install it with pip. If you’d like to play with the examples, you must install it from source.\"\"\"\n",
    "inputs = tokenizer(question, text, return_tensors='pt')\n",
    "start_positions = torch.tensor([1])\n",
    "end_positions = torch.tensor([3])\n",
    "\n",
    "outputs = model(**inputs, start_positions=start_positions, end_positions=end_positions)\n",
    "loss = outputs.loss\n",
    "start_scores = outputs.start_logits\n",
    "end_scores = outputs.end_logits\n",
    "\n",
    "answer_start = torch.argmin(start_scores)\n",
    "answer_end = torch.argmax(end_scores)\n",
    "answer = ' '.join(tokens[answer_start:answer_end+1])"
   ]
  },
  {
   "cell_type": "code",
   "execution_count": 56,
   "id": "c53bd5d3",
   "metadata": {},
   "outputs": [
    {
     "data": {
      "text/plain": [
       "'? [SEP] jim henson was a nice puppet'"
      ]
     },
     "execution_count": 56,
     "metadata": {},
     "output_type": "execute_result"
    }
   ],
   "source": [
    "answer"
   ]
  },
  {
   "cell_type": "code",
   "execution_count": 48,
   "id": "97b0fc58",
   "metadata": {},
   "outputs": [
    {
     "data": {
      "text/plain": [
       "tensor([[ 0.2297, -8.4443, -8.1673, -2.6841, -5.1151, -9.8049, -2.2213,  0.5386,\n",
       "         -1.9725,  1.0984,  5.6213,  4.1591,  2.5469, -2.1138]],\n",
       "       grad_fn=<CopyBackwards>)"
      ]
     },
     "execution_count": 48,
     "metadata": {},
     "output_type": "execute_result"
    }
   ],
   "source": [
    "start_scores"
   ]
  },
  {
   "cell_type": "code",
   "execution_count": 57,
   "id": "c8c8ba34",
   "metadata": {},
   "outputs": [
    {
     "data": {
      "text/plain": [
       "{'input_ids': tensor([[  101,  2040,  2001,  3958, 27227,  1029,   102,  3958, 27227,  2001,\n",
       "          1037,  3835, 13997,   102]]), 'token_type_ids': tensor([[0, 0, 0, 0, 0, 0, 0, 1, 1, 1, 1, 1, 1, 1]]), 'attention_mask': tensor([[1, 1, 1, 1, 1, 1, 1, 1, 1, 1, 1, 1, 1, 1]])}"
      ]
     },
     "execution_count": 57,
     "metadata": {},
     "output_type": "execute_result"
    }
   ],
   "source": [
    "inputs"
   ]
  },
  {
   "cell_type": "code",
   "execution_count": 58,
   "id": "adfef5c0",
   "metadata": {},
   "outputs": [
    {
     "data": {
      "text/plain": [
       "QuestionAnsweringModelOutput(loss=tensor(13.0183, grad_fn=<DivBackward0>), start_logits=tensor([[ 0.2297, -8.4443, -8.1673, -2.6841, -5.1151, -9.8049, -2.2213,  0.5386,\n",
       "         -1.9725,  1.0984,  5.6213,  4.1591,  2.5469, -2.1138]],\n",
       "       grad_fn=<CopyBackwards>), end_logits=tensor([[ 0.8894, -7.2821, -7.7965, -5.5154, -2.8081, -6.2267, -1.4869, -3.2446,\n",
       "         -0.3814, -2.2402, -0.9659,  0.3314,  6.1808, -1.4165]],\n",
       "       grad_fn=<CopyBackwards>), hidden_states=None, attentions=None)"
      ]
     },
     "execution_count": 58,
     "metadata": {},
     "output_type": "execute_result"
    }
   ],
   "source": [
    "outputs"
   ]
  },
  {
   "cell_type": "code",
   "execution_count": null,
   "id": "d17c6dea",
   "metadata": {},
   "outputs": [],
   "source": []
  }
 ],
 "metadata": {
  "kernelspec": {
   "display_name": "Python 3",
   "language": "python",
   "name": "python3"
  },
  "language_info": {
   "codemirror_mode": {
    "name": "ipython",
    "version": 3
   },
   "file_extension": ".py",
   "mimetype": "text/x-python",
   "name": "python",
   "nbconvert_exporter": "python",
   "pygments_lexer": "ipython3",
   "version": "3.8.5"
  }
 },
 "nbformat": 4,
 "nbformat_minor": 5
}
