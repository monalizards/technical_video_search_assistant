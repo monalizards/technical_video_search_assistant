{
 "cells": [
  {
   "cell_type": "code",
   "execution_count": null,
   "id": "bc75df32",
   "metadata": {},
   "outputs": [],
   "source": [
    "from transformers import BertTokenizer, BertForQuestionAnswering\n",
    "import torch\n",
    "\n",
    "tokenizer = BertTokenizer.from_pretrained('deepset/bert-large-uncased-whole-word-masking-squad2')\n",
    "model = BertForQuestionAnswering.from_pretrained('deepset/bert-large-uncased-whole-word-masking-squad2')"
   ]
  },
  {
   "cell_type": "code",
   "execution_count": null,
   "id": "022709d3",
   "metadata": {},
   "outputs": [],
   "source": [
    "input_dict = tokenizer(question, text, return_tensors='pt')\n",
    "outputs = model(**input_dict)\n",
    "start_logits = outputs.start_logits\n",
    "end_logits = outputs.end_logits\n",
    "\n",
    "all_tokens = tokenizer.convert_ids_to_tokens(input_dict[\"input_ids\"].numpy()[0])\n",
    "answer = ' '.join(all_tokens[torch.argmax(start_logits, 1)[0] : torch.argmax(end_logits, 1)[0]+1])"
   ]
  },
  {
   "cell_type": "code",
   "execution_count": null,
   "id": "e8ddd248",
   "metadata": {},
   "outputs": [],
   "source": [
    "question, text = \"\"\"Who was Jim Henson?\"\"\", \"\"\"Jim Henson was a nice puppet\"\"\""
   ]
  },
  {
   "cell_type": "code",
   "execution_count": null,
   "id": "d59905c3",
   "metadata": {},
   "outputs": [],
   "source": [
    "answer"
   ]
  },
  {
   "cell_type": "markdown",
   "id": "6d47ff37",
   "metadata": {},
   "source": [
    "\n",
    "### transformer error: RuntimeError: The size of tensor a (1487) must match the size of tensor b (512) at non-singleton dimension 1\n",
    "https://stackoverflow.com/questions/65023526/runtimeerror-the-size-of-tensor-a-4000-must-match-the-size-of-tensor-b-512\n",
    "    "
   ]
  },
  {
   "cell_type": "code",
   "execution_count": null,
   "id": "889e8ca6",
   "metadata": {},
   "outputs": [],
   "source": [
    "from caption import pipeline"
   ]
  },
  {
   "cell_type": "code",
   "execution_count": null,
   "id": "c24ff8f9",
   "metadata": {},
   "outputs": [],
   "source": [
    "caption = pipeline('https://www.youtube.com/watch?v=Ata9cSC2WpM')\n",
    "text = caption[\"caption_fulltext\"]"
   ]
  },
  {
   "cell_type": "code",
   "execution_count": null,
   "id": "b32f4f1a",
   "metadata": {},
   "outputs": [],
   "source": [
    "q = \"what is angular?\""
   ]
  },
  {
   "cell_type": "code",
   "execution_count": null,
   "id": "662282a8",
   "metadata": {},
   "outputs": [],
   "source": [
    "print(qa_short(q, text))"
   ]
  },
  {
   "cell_type": "code",
   "execution_count": null,
   "id": "86e0d71e",
   "metadata": {},
   "outputs": [],
   "source": [
    "import time\n",
    "help(time)"
   ]
  },
  {
   "cell_type": "code",
   "execution_count": null,
   "id": "b4dae1ea",
   "metadata": {},
   "outputs": [],
   "source": [
    "from transformers import BertTokenizer, BertForQuestionAnswering\n",
    "import torch\n",
    "\n",
    "tokenizer = BertTokenizer.from_pretrained('deepset/bert-large-uncased-whole-word-masking-squad2')\n",
    "model = BertForQuestionAnswering.from_pretrained('deepset/bert-large-uncased-whole-word-masking-squad2')\n",
    "\n",
    "encoding = tokenizer(q, text, return_tensors=\"pt\")\n",
    "input_ids = encoding[\"input_ids\"]\n",
    "\n",
    "# default is local attention everywhere\n",
    "# the forward method will automatically set global attention on question tokens\n",
    "attention_mask = encoding[\"attention_mask\"]\n",
    "\n",
    "outputs = model(**input_ids, attention_mask=attention_mask)\n",
    "start_logits = outputs.start_logits\n",
    "end_logits = outputs.end_logits\n",
    "all_tokens = tokenizer.convert_ids_to_tokens(input_ids[0].tolist())\n",
    "\n",
    "answer_tokens = all_tokens[torch.argmax(start_logits) :torch.argmax(end_logits)+1]\n",
    "answer = tokenizer.decode(tokenizer.convert_tokens_to_ids(answer_tokens))"
   ]
  },
  {
   "cell_type": "markdown",
   "id": "53591687",
   "metadata": {},
   "source": [
    "# error: tokenizer.decode cause kernel to die\n",
    "answer = tokenizer.decode(tokenizer.convert_tokens_to_ids(answer_tokens))"
   ]
  },
  {
   "cell_type": "code",
   "execution_count": null,
   "id": "9fa004f9",
   "metadata": {},
   "outputs": [],
   "source": [
    "# solution\n",
    "answer = ' '.join(all_tokens[torch.argmax(start_logits, 1)[0] : torch.argmax(end_logits, 1)[0]+1])\n",
    "# remove weird character from longformer output\n",
    "answer = answer.replace('Ġ', '')"
   ]
  }
 ],
 "metadata": {
  "kernelspec": {
   "display_name": "Python 3",
   "language": "python",
   "name": "python3"
  },
  "language_info": {
   "codemirror_mode": {
    "name": "ipython",
    "version": 3
   },
   "file_extension": ".py",
   "mimetype": "text/x-python",
   "name": "python",
   "nbconvert_exporter": "python",
   "pygments_lexer": "ipython3",
   "version": "3.8.5"
  }
 },
 "nbformat": 4,
 "nbformat_minor": 5
}
