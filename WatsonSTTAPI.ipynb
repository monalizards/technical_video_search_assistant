{
 "cells": [
  {
   "cell_type": "markdown",
   "metadata": {},
   "source": [
    "## Speech to text using WatsonAPI\n",
    "https://cloud.ibm.com/apidocs/speech-to-text?code=python"
   ]
  },
  {
   "cell_type": "code",
   "execution_count": null,
   "metadata": {},
   "outputs": [],
   "source": [
    "from ibm_watson import SpeechToTextV1\n",
    "from ibm_cloud_sdk_core.authenticators import IAMAuthenticator"
   ]
  },
  {
   "cell_type": "markdown",
   "metadata": {},
   "source": [
    "[IBM Cloud STT](https://cloud.ibm.com/services/speech-to-text/crn%3Av1%3Abluemix%3Apublic%3Aspeech-to-text%3Aeu-gb%3Aa%2Fcbcf1066941f442db5371f549a81068c%3A33ecdf1d-e4a5-4521-83e6-d3c3c574d9b0%3A%3A?paneId=credentials)\n",
    "\n",
    "{\n",
    "  \"apikey\": \"PvFDc759NRCbfBhRgKlqi87QsDl7kpNvQYkJZTaEfGCA\",\n",
    "  \"iam_apikey_description\": \"Auto-generated for key cd3031b0-008d-4634-940a-50fe80c7eea9\",\n",
    "  \"iam_apikey_name\": \"Auto-generated service credentials\",\n",
    "  \"iam_role_crn\": \"crn:v1:bluemix:public:iam::::serviceRole:Manager\",\n",
    "  \"iam_serviceid_crn\": \"crn:v1:bluemix:public:iam-identity::a/cbcf1066941f442db5371f549a81068c::serviceid:ServiceId-27b746ea-0fb0-4654-830e-f59b8c1864e2\",\n",
    "  \"url\": \"https://api.eu-gb.speech-to-text.watson.cloud.ibm.com/instances/33ecdf1d-e4a5-4521-83e6-d3c3c574d9b0\"\n",
    "}"
   ]
  },
  {
   "cell_type": "code",
   "execution_count": null,
   "metadata": {},
   "outputs": [],
   "source": [
    "apikey = 'PvFDc759NRCbfBhRgKlqi87QsDl7kpNvQYkJZTaEfGCA'\n",
    "url = 'https://api.eu-gb.speech-to-text.watson.cloud.ibm.com/instances/33ecdf1d-e4a5-4521-83e6-d3c3c574d9b0'"
   ]
  },
  {
   "cell_type": "code",
   "execution_count": null,
   "metadata": {},
   "outputs": [],
   "source": [
    "# authentication\n",
    "authenticator = IAMAuthenticator(apikey)\n",
    "speech_to_text = SpeechToTextV1(authenticator=authenticator)\n",
    "speech_to_text.set_service_url(url)"
   ]
  },
  {
   "cell_type": "code",
   "execution_count": null,
   "metadata": {},
   "outputs": [],
   "source": [
    "with open(\"## TODO: audiofilepath\", 'rb') as audio_file:\n",
    "    speech_recognition_results_US = speech_to_text.recognize(\n",
    "        audio=audio_file,\n",
    "        content_type=\"audio/mp3\",\n",
    "        model='en-US_NarrowbandModel',\n",
    "        timestamps=True\n",
    "    ).get_result()"
   ]
  },
  {
   "cell_type": "code",
   "execution_count": null,
   "metadata": {},
   "outputs": [],
   "source": [
    "speech_recognition_results"
   ]
  },
  {
   "cell_type": "code",
   "execution_count": null,
   "metadata": {},
   "outputs": [],
   "source": [
    "speech_recognition_results_US"
   ]
  },
  {
   "cell_type": "code",
   "execution_count": null,
   "metadata": {},
   "outputs": [],
   "source": [
    "captions = yt.captions['a.en'].generate_srt_captions()\n",
    "with open('output.txt', 'w') as f:\n",
    "    f.writelines(captions)"
   ]
  }
 ],
 "metadata": {
  "interpreter": {
   "hash": "05cc906b02c9bc55cd27c8c2fcebeaf67195d7c3fcc9fcdb5982f06c3f5c2315"
  },
  "kernelspec": {
   "display_name": "Python 3",
   "language": "python",
   "name": "python3"
  },
  "language_info": {
   "codemirror_mode": {
    "name": "ipython",
    "version": 3
   },
   "file_extension": ".py",
   "mimetype": "text/x-python",
   "name": "python",
   "nbconvert_exporter": "python",
   "pygments_lexer": "ipython3",
   "version": "3.8.5"
  }
 },
 "nbformat": 4,
 "nbformat_minor": 4
}
