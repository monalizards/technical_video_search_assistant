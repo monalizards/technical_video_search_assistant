{
 "cells": [
  {
   "cell_type": "code",
   "execution_count": 5,
   "metadata": {},
   "outputs": [],
   "source": [
    "# YoutubeCaption class\n",
    "class YoutubeCaption:\n",
    "    def __init__(self, caption):\n",
    "        self.caption = caption\n",
    "        self.sectionlist = self.format_sections()\n",
    "        self.text = self.compile_sections()\n",
    "        \n",
    "#     print and preview caption\n",
    "    def __str__(self):\n",
    "        return f'<YoutubeCaption text=\"{self.text[:100]}... \">'\n",
    "    \n",
    "#     function to convert srt into a list of itmes in the format {\"time\": {time}, \"subtitle\": {subtitle}}\n",
    "    def format_sections(self):\n",
    "        sections = []\n",
    "        caption = self.caption.split('\\n')\n",
    "#         Divide caption into sections (each sections is 4 lines each: 1. section number, 2. timestamps, 3. text, 4. newline)\n",
    "        for index in range(len(caption) // 4):\n",
    "            base = index * 4\n",
    "#             create new item in subtitle\n",
    "            sections.append({\n",
    "            \"section\": caption[base],\n",
    "            \"time_original\": caption[base+1],\n",
    "            \"time\": self.format_time(caption[base + 1]),\n",
    "            \"subtitle\": caption[base + 2]\n",
    "            })\n",
    "        return sections\n",
    "    \n",
    "    def compile_sections(self):\n",
    "        text = \" \".join([section[\"subtitle\"] for section in self.sectionlist])\n",
    "        return text\n",
    "    \n",
    "    def list_sections(self):\n",
    "        return self.sectionlist\n",
    "    \n",
    "    def full_text(self):\n",
    "        return self.text\n",
    "    \n",
    "    @classmethod\n",
    "    def format_time(cls, time):\n",
    "        \"\"\"return starttime:endtime in seconds from original format, e.g. '00:00:00,000 --> 00:00:07,000'\"\"\"\n",
    "        start_time, end_time = time.split(' --> ')\n",
    "        start_time, end_time = cls.timestamp_to_seconds(start_time), cls.timestamp_to_seconds(end_time)\n",
    "        return f'{start_time}:{end_time}'\n",
    "        \n",
    "    @classmethod\n",
    "    def timestamp_to_seconds(cls, timestamp):\n",
    "        hh, mm, ss = timestamp.split(':')\n",
    "        ss, ms = ss.split(',')\n",
    "        seconds = int(hh) * 60 * 60 + int(mm) * 60 + int(ss) + int(ms) / 1000\n",
    "        return seconds\n",
    "        "
   ]
  },
  {
   "cell_type": "code",
   "execution_count": 40,
   "metadata": {},
   "outputs": [
    {
     "data": {
      "text/plain": [
       "\"in the not so distant future you'll likely be writing far fewer lines of code than you are today because artificial intelligence is coming to a vs code near you microsoft aka github just announced copilot yesterday a tool powered by gpt3 capable of writing code automatically all you have to do is write a descriptive function name or some comments and it will automatically fill in the implementation details for you and it's not just inserting a snippet this is actual novel code that has never been seen before it looks at the code you've already written in your project as context and attempts to generate new code to match it perfectly for example imagine you've written a react component and you now want to write a unit test for it just write a comment describing what you want to test and copilot will generate the code based on your component and the testing framework that you're using or say you want to calculate the number of days between two dates for me that's an instant google search then stack overflow copy and paste with copilot all i have to do is write a function name and it implements the function body for me automatically if i'm not perfectly happy with the implementation i can click a button to get the next prediction anything that might have brought you to stack overflow can be autocompleted in your ide and custom tailored to fit your code base developers like to joke about how often they google things and copy answers from stack overflow so you can only imagine how big of a time saver this is going to be i just got access to copilot myself so let's dive in and see how useful it really is i just installed the extension and bs code which required me to authenticate with my github account i've got a front-end vanilla javascript project here with files for my html css and javascript you'll notice a little copilot icon down here at the bottom that just allows you to toggle it on or off the first thing i want to try is to define a function called intersection of arrays and see if it can complete the body of that function successfully we'll give the function a name of intersection of o and it just predicts the name of the function that we're going to write and it looks like it's being implemented correctly but there are multiple ways we could implement this function let's go ahead and delete the code back to the function name if we hover over the automatically generated code we can click next to cycle through different suggestions i actually don't see any i like here so i'm going to click the open copilot option that will synthesize 10 different possible solutions and it happens very fast like within one or two seconds but looking closer at the solutions it looks like they are all pretty much the same even though i know there are multiple different approaches to implementing an intersection of arrays the top answer on stack overflow actually has a cleaner implementation and i would have expected this to at least be an option in the results but let's move on and see if we can build a little counter app that has multiple moving parts first i'm going to define some state which is just a variable equal to zero you'll notice that it's trying to make predictions as i'm writing out this variable that is one thing that's kind of annoying it's almost a little too aggressive when making predictions it would be nice if the ai could predict when i actually want predictions also it predicts things for react and view even though i'm not in a reactor view project in any case the next thing i want to do here is grab a button from the dom i'll give the ai a hint by writing a comment and you'll notice that it actually auto-completes the comment for me it knows exactly what i want to do because it's such a common thing to do now that we have a button let's set up an event listener on the click event to increment the state each time that it's clicked now i start writing another comment i don't even type anything and it fills out that entire comment for me that's pretty crazy because it's using the context of our previous line of code to figure out what to write next i'll hit tab a couple times and you'll notice that it sets up an event listener on the button variable that we defined then it proceeds to update the state by incrementing it by 1. it also adds a modulus 3 here i'm not sure what that's about that'll just make it count to three in a loop and i have no idea where it would get the idea to do that and finally it knows that we want to show this state in the ui so it takes our button and sets the inner html to the current state that's pretty wild but now i'm going to go into the html and add the button to the dom it doesn't seem to know that my javascript is looking for a certain button but if i add a button comment it will auto-complete with the expected id and finally let's jump into our css and give it some style if i add a comment for a red button with a blue background it will start implementing that code line by line but it's generally more efficient to just go straight to the copilot and see the available options here an interesting side note is that you'll get different results here each time you go to the co-pilot even if the comment is exactly the same the results are kind of all over the place but i think it's enough to give you some starting code to work with don't expect this thing to be turning out production grade code just yet that's not going to happen until protocol 4 is implemented now if we go ahead and open our app in the browser we should get this blue button and every time it's clicked it will increment the state by the modulus of three all things considered i think copilot did a pretty good job it feels a little rough around the edges but it's by far the best ai coding experience that i've ever had but how does this thing actually work well in order to build useful ai you need a ton of data luckily over the last 12 years developers have graciously donated their time and code to help other developers on the internet while foregoing their copyright to that content primarily on the website stack overflow which was just acquired this month for 1.8 billion dollars impeccable timing for their founders to cash out just weeks before a game-changing existential threat hits the industry it also takes code from public open source github repos now because it's generating unique code i don't think it has to worry about any open source licensing requirements because this data is public microsoft can freely use it to build their ai the deep learning model behind the data is gpt-3 or generative pre-trained transformer 3 which is easily one of the most impressive ai products ever developed people describe it as amazing humbling and terrifying and it's really good at being creative based on some initial context like it can take a complex article and summarize it for a second grader or it can take an idea that you have for an ad and generate the actual ad copy under the hood it's just a massive neural network that's been trained on over 175 billion parameters to put that in perspective there are many popular pre-trained neural networks out there and none of them have anywhere close to 1 billion parameters let alone 175 billion it's developed by a company called openai that was founded by people like elon musk sam altman and other high-profile tech figures it started in 2015 as a non-profit but i think they realized they could make a shitload of money and converted to a for-profit company in 2019. now microsoft doesn't control openai but they did make a 1 billion investment in 2019 then in september 2020 they announced they had licensed the exclusive use of gpt-3 other companies can still use the api but microsoft is the only company that can truly take full advantage of the gpt3 algorithm that means microsoft will be able to build products that nobody can really compete with unless of course you can build an algorithm that's better than gpt3 don't let the name fool you openai is not open a better name for it might be something like windows ai but this is all great news for developers right ever since microsoft acquired github the developer experience has been getting better and better you can get your github repos directly in vs code github actions make continuous integration super easy and copilot will just be one more awesome feature to add to the list but it makes me wonder why does microsoft love us developers so much historically microsoft has not had a great relationship with developers just google embrace extend extinguish modern microsoft has been doing a lot of embracing and extending but who knows if they have any plans for the extinguish step now i'm just joking around here but let's imagine that the goal was to replace developers with ai programmers are expensive in short supply and one of the biggest expenses for any tech company to replace them you need a four-step plan step one is to get them to share a bunch of public information about their code in step two we use that code to create a product that makes developers happier and more productive the initial version won't be perfect but as more and more developers use it we'll collect more and more data and reinforce the existing algorithm in theory the algorithm will get so good that we'll no longer need programmers who write code maybe just technicians who can help guide the algorithm to the right place at which point your company can fire its programmers and pay a bunch of artificial azure coders by the second copilot is free for now and only available through a technical preview but they do plan to develop it into a commercial product in the future aws already has code guru for ml powered code recommendations so the big players here are already introducing paid services that will replace the jobs normally done by human coders we're currently on step 3 of the plan but again i'm just joking around here this is just a meme channel i love bill gates and microsoft and if you think they're motivated by anything beyond their genuine love for developers then you must be the kind of person who thinks two plus two equals four all i ask is that you hit like and subscribe to my channel so i can keep you updated on the latest tools hitting our industry thanks for watching and i will see you\""
      ]
     },
     "execution_count": 40,
     "metadata": {},
     "output_type": "execute_result"
    }
   ],
   "source": [
    "c = find_en_caption(YouTube('https://www.youtube.com/watch?v=4duqI8WyfqE'))\n",
    "caption = YoutubeCaption(c.generate_srt_captions())\n",
    "caption.full_text()"
   ]
  },
  {
   "cell_type": "code",
   "execution_count": null,
   "metadata": {},
   "outputs": [],
   "source": []
  },
  {
   "cell_type": "code",
   "execution_count": 26,
   "metadata": {},
   "outputs": [],
   "source": [
    "# WatsonCaption class\n",
    "class WatsonCaption:\n",
    "    def __init__(self, result):\n",
    "        self.result = result\n",
    "        self.sectionlist = self.format_sections()\n",
    "        self.text = self.compile_sections()\n",
    "        \n",
    "#     print and preview caption\n",
    "    def __str__(self):\n",
    "        return f'<WatsonCaption text=\"{self.text[:100]}... \">'\n",
    "\n",
    "    # convert to srt-like format\n",
    "    @staticmethod\n",
    "    def format_section(section):\n",
    "        subtitle = ' '.join([timestamp[0] for timestamp in section])\n",
    "        start_time = section[0][1]\n",
    "        end_time = section[-1][2]\n",
    "        return {'time': f\"{start_time}:{end_time}\", 'subtitle': subtitle}\n",
    "    \n",
    "    def format_sections(self):\n",
    "        # compile result into a list of word and timestamps\n",
    "        timestamps = []\n",
    "        for result in self.result[\"results\"]:\n",
    "            timestamps.extend(result['alternatives'][0]['timestamps'])\n",
    "        # put words in 10 second sections\n",
    "        t, end = 0, timestamps[-1][1]\n",
    "        sections, section = [], []\n",
    "\n",
    "        while t < end:\n",
    "            t += 10\n",
    "            timestamps = timestamps[len(section):]\n",
    "            section = []\n",
    "            for timestamp in timestamps:\n",
    "                if timestamp[1] < t:\n",
    "                    section.append(timestamp)\n",
    "                else:\n",
    "                    break\n",
    "            sections.append(section)\n",
    "        \n",
    "        formatted_sections = []\n",
    "        for index, section in enumerate(sections):\n",
    "            s = {'section': index + 1}\n",
    "            s = {**s, **self.format_section(section)}\n",
    "            formatted_sections.append(s)\n",
    "        \n",
    "        return formatted_sections\n",
    "\n",
    "    def compile_sections(self):\n",
    "        text = \" \".join([section[\"subtitle\"] for section in self.sectionlist])\n",
    "        return text\n",
    "    \n",
    "    def list_sections(self):\n",
    "        return self.sectionlist\n",
    "    \n",
    "    def full_text(self):\n",
    "        return self.text\n",
    "    \n",
    "    \n",
    "    # format sections from result in format {'section', 'time', 'subtitle'}\n",
    "    # method 1. use pre-divided sections\n",
    "    #     def format_sections(self):\n",
    "    # #         // method 1. use pre-divided sections\n",
    "#         def format_section(section):\n",
    "#         subtitle = section['transcript']\n",
    "    #     start_time = section['timestamps'][0][1]\n",
    "    #     end_time = section['timestamps'][-1][2]\n",
    "#     def format_sections(self):\n",
    "\n",
    "#         print(section[0][1])\n",
    "    # #         sections = []\n",
    "    # #         for index, section in enumerate(self.result[\"results\"]):\n",
    "    # #             s = {'section': index + 1}\n",
    "    # #             s = {**s, **self.format_section(section['alternatives'][0])}\n",
    "    # #             sections.append(s)\n",
    "    # #         return sections\n",
    "    # #         // method 2. divide result in 10 second sections:"
   ]
  },
  {
   "cell_type": "code",
   "execution_count": 27,
   "metadata": {},
   "outputs": [],
   "source": [
    "# section\n",
    "caption = WatsonCaption(speech_recognition_result)"
   ]
  },
  {
   "cell_type": "code",
   "execution_count": 28,
   "metadata": {},
   "outputs": [
    {
     "data": {
      "text/plain": [
       "[{'section': 1,\n",
       "  'time': '0.21:10.08',\n",
       "  'subtitle': \"if you build a website and twenty twenty one you're likely use a framework like react angular view the actual code will be written with something like typescript or battle which itself is an abstraction on top of\"},\n",
       " {'section': 2,\n",
       "  'time': '10.08:20.1',\n",
       "  'subtitle': 'Java script or ecma script which is code that needs to run somewhere like a browser or no J. S. which are run times that rely on a Java script engine like the eight to create an abstract syntax tree'},\n",
       " {'section': 3,\n",
       "  'time': '20.1:30.22',\n",
       "  'subtitle': 'and compile machine code which is a set of instructions that can be executed directly by the C. P. U. which uses a bunch of logic gates to compute things and manage memory which are formed by transistors'},\n",
       " {'section': 4,\n",
       "  'time': '30.22:39.36',\n",
       "  'subtitle': \"that use electrical signals to represent ones and zeros which is made possible by the laws of quantum mechanics which is perceived or something we don't understand it all human consciousness\"}]"
      ]
     },
     "execution_count": 28,
     "metadata": {},
     "output_type": "execute_result"
    }
   ],
   "source": [
    "caption.list_sections()"
   ]
  },
  {
   "cell_type": "markdown",
   "metadata": {},
   "source": [
    "## Pytube"
   ]
  },
  {
   "cell_type": "code",
   "execution_count": 34,
   "metadata": {},
   "outputs": [],
   "source": [
    "# imports\n",
    "import sys\n",
    "from pytube import YouTube, Caption, Playlist"
   ]
  },
  {
   "cell_type": "markdown",
   "metadata": {},
   "source": [
    "### helper functions"
   ]
  },
  {
   "cell_type": "code",
   "execution_count": 35,
   "metadata": {},
   "outputs": [],
   "source": [
    "# Original method a.en: English (auto-generated), en: English (US), en-GB: English (UK)\n",
    "# Failed case: <Caption lang=\"English - jamake\" code=\"en.FmoQciUtYSc\"> (https://en.jamake.io/)\n",
    "\n",
    "def find_en_caption(yt):\n",
    "    \"\"\"\n",
    "    returns English caption for a given Pytube's Youtube object\n",
    "    \"\"\"\n",
    "    for c in yt.caption_tracks:\n",
    "        if 'en' in c.code:\n",
    "            return c\n",
    "    return None"
   ]
  },
  {
   "cell_type": "code",
   "execution_count": 36,
   "metadata": {},
   "outputs": [],
   "source": [
    "def yt_find_id(yt):\n",
    "    \"\"\"\n",
    "    return videoID for a given Pytube's Youtube object\n",
    "    \"\"\"\n",
    "    return yt.initial_data[\"currentVideoEndpoint\"][\"watchEndpoint\"][\"videoId\"]"
   ]
  },
  {
   "cell_type": "code",
   "execution_count": 37,
   "metadata": {},
   "outputs": [
    {
     "data": {
      "text/plain": [
       "['https://www.youtube.com/watch?v=41qgdwd3zAg', 'https://www.youtube.com/watch?v=Lbs7vmx3YwU', 'https://www.youtube.com/watch?v=YtX-Rmoea0M', 'https://www.youtube.com/watch?v=GTpl5yq3bvk', 'https://www.youtube.com/watch?v=dw3jaIj1ylw', 'https://www.youtube.com/watch?v=xBDGux27Qrg', 'https://www.youtube.com/watch?v=dV9K6QMrIn4', 'https://www.youtube.com/watch?v=fDoYwL90WUg', 'https://www.youtube.com/watch?v=-nJvt_7l-sk', 'https://www.youtube.com/watch?v=1QfPTboc1Pw', 'https://www.youtube.com/watch?v=YuVcBm_J2js', 'https://www.youtube.com/watch?v=26VtIlzEcmU', 'https://www.youtube.com/watch?v=TkBLZk_hV5Y', 'https://www.youtube.com/watch?v=RDzm2oHSAug', 'https://www.youtube.com/watch?v=cJq_kuAKPCs', 'https://www.youtube.com/watch?v=NSssW0duUkQ', 'https://www.youtube.com/watch?v=JIVHiXXTUHQ', 'https://www.youtube.com/watch?v=K17DGXWqYDM', 'https://www.youtube.com/watch?v=R4hQkcjDbDw', 'https://www.youtube.com/watch?v=BTzav965P7w', 'https://www.youtube.com/watch?v=dX2-V2BocqQ', 'https://www.youtube.com/watch?v=hK8Fwelri5Y', 'https://www.youtube.com/watch?v=uA8SA81nivg', 'https://www.youtube.com/watch?v=dNFgRUD2w68', 'https://www.youtube.com/watch?v=0hGzGdRQeak', 'https://www.youtube.com/watch?v=mDqxeCqVsOg', 'https://www.youtube.com/watch?v=mpnBNGOSplA', 'https://www.youtube.com/watch?v=rVb1TqqbPj0', 'https://www.youtube.com/watch?v=Os4gZUI1ZlM', 'https://www.youtube.com/watch?v=OOvzRzS_eZs', 'https://www.youtube.com/watch?v=AovxLr8jUH4', 'https://www.youtube.com/watch?v=C7oahkeJRFg', 'https://www.youtube.com/watch?v=EYpOPmFPecs', 'https://www.youtube.com/watch?v=cHa85et7LK0', 'https://www.youtube.com/watch?v=cVROiVgR_qg', 'https://www.youtube.com/watch?v=PLC_Jn9qCbU', 'https://www.youtube.com/watch?v=0MBLkNlffT0', 'https://www.youtube.com/watch?v=qBpB_ve4sWo', 'https://www.youtube.com/watch?v=7P7KGVwMSIs', 'https://www.youtube.com/watch?v=MUJ1SuS-KoA', 'https://www.youtube.com/watch?v=XQOWZidQSnE', 'https://www.youtube.com/watch?v=OwDabRSs3h8', 'https://www.youtube.com/watch?v=aohKO3ferVU', 'https://www.youtube.com/watch?v=5mDYijMfSzs', 'https://www.youtube.com/watch?v=DY0DB_NwEu0', 'https://www.youtube.com/watch?v=L22zs3v6Rtg', 'https://www.youtube.com/watch?v=aD_If3Lr6dw', 'https://www.youtube.com/watch?v=u0ylwy4Mv7A', 'https://www.youtube.com/watch?v=4qw5atfs_As', 'https://www.youtube.com/watch?v=EHzKEh74sJI', 'https://www.youtube.com/watch?v=3nrm-aTCwdQ', 'https://www.youtube.com/watch?v=QOryrmkr1tA', 'https://www.youtube.com/watch?v=NL04MIIP0P0', 'https://www.youtube.com/watch?v=oE_dWWWqxQ0', 'https://www.youtube.com/watch?v=fQjopulaxME', 'https://www.youtube.com/watch?v=TFLo9m0jFEg', 'https://www.youtube.com/watch?v=aQz9_V8aoEw', 'https://www.youtube.com/watch?v=rY7zQ0zv-SM', 'https://www.youtube.com/watch?v=m6hhUBXcA-E', 'https://www.youtube.com/watch?v=o_GrDGjRUuQ', 'https://www.youtube.com/watch?v=aBexJgZ6GjI', 'https://www.youtube.com/watch?v=lhiH-6ygGl8', 'https://www.youtube.com/watch?v=rOo_BosuJBE', 'https://www.youtube.com/watch?v=PDMe3wgAsWg', 'https://www.youtube.com/watch?v=hJcv9JwiPlA', 'https://www.youtube.com/watch?v=qc5ec7UJbeU', 'https://www.youtube.com/watch?v=V3nqBxllUlI', 'https://www.youtube.com/watch?v=27GrUulGrWo', 'https://www.youtube.com/watch?v=EJHeSRKWtfM', 'https://www.youtube.com/watch?v=walXPsausPI', 'https://www.youtube.com/watch?v=T0cTJQX3ke8', 'https://www.youtube.com/watch?v=qwWwrqNheZY', 'https://www.youtube.com/watch?v=9G0hvmPbvmk', 'https://www.youtube.com/watch?v=i0toy3zfUUk', 'https://www.youtube.com/watch?v=QILBGC7TApM', 'https://www.youtube.com/watch?v=5bRDpzdcuf8', 'https://www.youtube.com/watch?v=a0fOBCqMz10', 'https://www.youtube.com/watch?v=o77mO0ZOzkI', 'https://www.youtube.com/watch?v=BqF_r0FDgEc', 'https://www.youtube.com/watch?v=38n9STvQsO0', 'https://www.youtube.com/watch?v=xuTDnFikBhw', 'https://www.youtube.com/watch?v=eLTLtUVuuy4', 'https://www.youtube.com/watch?v=sIan8TOz0GA', 'https://www.youtube.com/watch?v=KerrqE3Ou84', 'https://www.youtube.com/watch?v=gz_eN6nl5xA', 'https://www.youtube.com/watch?v=_QtM7QGuj1A', 'https://www.youtube.com/watch?v=VKY-0LEmrwk', 'https://www.youtube.com/watch?v=7qMhuVGqGY4', 'https://www.youtube.com/watch?v=JJmTO95AoqE', 'https://www.youtube.com/watch?v=2sb5JJLpzw8', 'https://www.youtube.com/watch?v=1NXFrQZfJQs', 'https://www.youtube.com/watch?v=M04E_Wr6dG4', 'https://www.youtube.com/watch?v=srmGbx7RVr0', 'https://www.youtube.com/watch?v=3wzu77zx5kU', 'https://www.youtube.com/watch?v=mPB2PyzkOfw', 'https://www.youtube.com/watch?v=Ld1A8QTDY3o', 'https://www.youtube.com/watch?v=M9C-_s3HQl8', 'https://www.youtube.com/watch?v=AmTD9BaL6zY', 'https://www.youtube.com/watch?v=daVgEXjv6DE', 'https://www.youtube.com/watch?v=D__VCSj4o6U', 'https://www.youtube.com/watch?v=xrUntlcfKGA', 'https://www.youtube.com/watch?v=bgATKeiNcL8', 'https://www.youtube.com/watch?v=VOZHjLls010', 'https://www.youtube.com/watch?v=znnzcYXzMVE', 'https://www.youtube.com/watch?v=RC5VX-ATODY', 'https://www.youtube.com/watch?v=9MeTAvQarDI', 'https://www.youtube.com/watch?v=70F0FjCl62Y', 'https://www.youtube.com/watch?v=rQTJuCCCLVo', 'https://www.youtube.com/watch?v=MvN7Wdh0Juk', 'https://www.youtube.com/watch?v=kdLM6AOd2vc', 'https://www.youtube.com/watch?v=d3AT9EGp4iw', 'https://www.youtube.com/watch?v=TGQcDaZ56ao', 'https://www.youtube.com/watch?v=cGmGOi2kkJ4', 'https://www.youtube.com/watch?v=TB-G1KqRb5o', 'https://www.youtube.com/watch?v=rrh-4NtuK-w', 'https://www.youtube.com/watch?v=wSjB_iaQ1wE', 'https://www.youtube.com/watch?v=fM6ff3VEviI', 'https://www.youtube.com/watch?v=NBtlWVXNNtE', 'https://www.youtube.com/watch?v=3D7O_kZi8-o', 'https://www.youtube.com/watch?v=rpgqdR-KHhE', 'https://www.youtube.com/watch?v=zIAnerzuCls', 'https://www.youtube.com/watch?v=OK_ntOcU28g', 'https://www.youtube.com/watch?v=CdltAssTMs8', 'https://www.youtube.com/watch?v=eCnqiFzOcsg', 'https://www.youtube.com/watch?v=bZ6NL59FMoc', 'https://www.youtube.com/watch?v=eRaO35fvsHs', 'https://www.youtube.com/watch?v=Zf1F4cz8GHU', 'https://www.youtube.com/watch?v=eX7wXfNLFDw', 'https://www.youtube.com/watch?v=xSzsD4kXhRw', 'https://www.youtube.com/watch?v=u3poUhCxx4k', 'https://www.youtube.com/watch?v=aDY4aBLFOIg', 'https://www.youtube.com/watch?v=CGfXCkHNemo', 'https://www.youtube.com/watch?v=EKC_jcFH98o', 'https://www.youtube.com/watch?v=8yvln2atFkA', 'https://www.youtube.com/watch?v=t51bT7WbeCM', 'https://www.youtube.com/watch?v=nIPHwRK51-k', 'https://www.youtube.com/watch?v=kzp7-0EFrIg', 'https://www.youtube.com/watch?v=hUVopUdXOVY', 'https://www.youtube.com/watch?v=xy_-uj75Nxs', 'https://www.youtube.com/watch?v=HfM9s2ehErE', 'https://www.youtube.com/watch?v=2MQEHYjfrf8', 'https://www.youtube.com/watch?v=FbR9Xr0TVdY', 'https://www.youtube.com/watch?v=MkcUgPhOlP8', 'https://www.youtube.com/watch?v=89a-onbToN8', 'https://www.youtube.com/watch?v=mVWQNeY1Pb4', 'https://www.youtube.com/watch?v=F9TZb0XBow0', 'https://www.youtube.com/watch?v=CsN77JZDcA4', 'https://www.youtube.com/watch?v=7m-RVJ6ABsY', 'https://www.youtube.com/watch?v=gbL3XKOiBvw', 'https://www.youtube.com/watch?v=rVBVqVmHtfc', 'https://www.youtube.com/watch?v=yvfI4p6Wyvk', 'https://www.youtube.com/watch?v=G0cHyaP9HaQ', 'https://www.youtube.com/watch?v=0se6_UPNWVc', 'https://www.youtube.com/watch?v=dp1r9oT_h9k', 'https://www.youtube.com/watch?v=LopYA64KmdE', 'https://www.youtube.com/watch?v=RvfF9CDzn1s', 'https://www.youtube.com/watch?v=YxHplztMQMc', 'https://www.youtube.com/watch?v=_Q8wtPCyMdo', 'https://www.youtube.com/watch?v=E9U-EBG8jVk', 'https://www.youtube.com/watch?v=YD8YP2_1354', 'https://www.youtube.com/watch?v=KH8Mq9FPVPw', 'https://www.youtube.com/watch?v=XJXWOqvj1So', 'https://www.youtube.com/watch?v=6vS_ZM3P1_U', 'https://www.youtube.com/watch?v=Ei-G0fEOu9I', 'https://www.youtube.com/watch?v=T-oBw6OVg3I', 'https://www.youtube.com/watch?v=E6xpTD_dRCI', 'https://www.youtube.com/watch?v=KPO0buTEFrY', 'https://www.youtube.com/watch?v=ENNGLXiRqZg', 'https://www.youtube.com/watch?v=mHOmVBRy9bQ', 'https://www.youtube.com/watch?v=2WztaC6kyLs', 'https://www.youtube.com/watch?v=PJHOuCIt9NE', 'https://www.youtube.com/watch?v=_bi0SqW_4L0', 'https://www.youtube.com/watch?v=UKwHaltYX3I', 'https://www.youtube.com/watch?v=itNxtzSNYB0', 'https://www.youtube.com/watch?v=NWFXW02f82w', 'https://www.youtube.com/watch?v=W-oqv3uezlY', 'https://www.youtube.com/watch?v=yNq5zzglSnI', 'https://www.youtube.com/watch?v=AOoGsVayiA4', 'https://www.youtube.com/watch?v=eZ2kDurOodI', 'https://www.youtube.com/watch?v=w7mNyGqpKzM', 'https://www.youtube.com/watch?v=2J7GXHpGz0w', 'https://www.youtube.com/watch?v=WYge0KZBhe0', 'https://www.youtube.com/watch?v=XEddZ3CCHew', 'https://www.youtube.com/watch?v=3h2kDnelAC4', 'https://www.youtube.com/watch?v=jN1Uw5HwAk4', 'https://www.youtube.com/watch?v=jNWn73y9EPA', 'https://www.youtube.com/watch?v=N81PCpADwKQ', 'https://www.youtube.com/watch?v=dK02TGVgBKI', 'https://www.youtube.com/watch?v=jgrE0IlsZ0M', 'https://www.youtube.com/watch?v=h3wFGW0D6Vc', 'https://www.youtube.com/watch?v=vU4ejtRc-vk', 'https://www.youtube.com/watch?v=W7UgaeedAHo', 'https://www.youtube.com/watch?v=YYz-F0SqQTY', 'https://www.youtube.com/watch?v=HToRDfbkR9s', 'https://www.youtube.com/watch?v=3XRSULw-HlE', 'https://www.youtube.com/watch?v=nQkk4yeBHCY', 'https://www.youtube.com/watch?v=4vgIS9ZId-I', 'https://www.youtube.com/watch?v=OV0eg1UrBTA', 'https://www.youtube.com/watch?v=83Y2qZvWxdE', 'https://www.youtube.com/watch?v=XxRtj-GU5_8', 'https://www.youtube.com/watch?v=yoqTQs9CBXI', 'https://www.youtube.com/watch?v=ypWwSv-zNKs', 'https://www.youtube.com/watch?v=ogWtR_DIGKs', 'https://www.youtube.com/watch?v=tTlqNTPujiA', 'https://www.youtube.com/watch?v=ZcP0Du4KFSU', 'https://www.youtube.com/watch?v=_5vjEuLfMUM', 'https://www.youtube.com/watch?v=mPFc3JHLnz8', 'https://www.youtube.com/watch?v=qqQfgIEQyuM', 'https://www.youtube.com/watch?v=LVbPzO42dT4', 'https://www.youtube.com/watch?v=7c-mnmpNYpk', 'https://www.youtube.com/watch?v=6RkGmqcfiTw', 'https://www.youtube.com/watch?v=YiZkTpuKT7g', 'https://www.youtube.com/watch?v=tWog40-jrdg', 'https://www.youtube.com/watch?v=9nUNPrvCFAE', 'https://www.youtube.com/watch?v=_MFXKysUljw', 'https://www.youtube.com/watch?v=K5cAu-Wro3M', 'https://www.youtube.com/watch?v=Q_OgdrsWmGM', 'https://www.youtube.com/watch?v=-5vWl6oOqvY', 'https://www.youtube.com/watch?v=JVkYfJuRhro']"
      ]
     },
     "execution_count": 37,
     "metadata": {},
     "output_type": "execute_result"
    }
   ],
   "source": [
    "# list url of videos in playlist\n",
    "p = Playlist('https://www.youtube.com/playlist?list=PLS1QulWo1RIaJECMeUT4LFwJ-ghgoSH6n')\n",
    "\n",
    "def list_videos(pl):\n",
    "    return pl.video_urls\n",
    "\n",
    "list_videos(p)"
   ]
  },
  {
   "cell_type": "markdown",
   "metadata": {},
   "source": [
    "## Download & extract audio"
   ]
  },
  {
   "cell_type": "code",
   "execution_count": 11,
   "metadata": {},
   "outputs": [],
   "source": [
    "# Download and extract audio\n",
    "def download_audio(yt):\n",
    "    if 'AudioFileClip' not in dir():\n",
    "        from moviepy.editor import AudioFileClip\n",
    "    videoId = yt_find_id(yt)\n",
    "    path = yt.streams.first().download(output_path=f\"download/{videoId}\", filename=f\"{videoId}\")\n",
    "\n",
    "    audioclip = AudioFileClip(path)\n",
    "    audio_filename = f\"download/{videoId}/{videoId}.mp3\"\n",
    "    audioclip.write_audiofile(audio_filename)\n",
    "    return audio_filename"
   ]
  },
  {
   "cell_type": "code",
   "execution_count": 12,
   "metadata": {},
   "outputs": [
    {
     "data": {
      "text/plain": [
       "<Stream: itag=\"18\" mime_type=\"video/mp4\" res=\"360p\" fps=\"30fps\" vcodec=\"avc1.42001E\" acodec=\"mp4a.40.2\" progressive=\"True\" type=\"video\">"
      ]
     },
     "execution_count": 12,
     "metadata": {},
     "output_type": "execute_result"
    }
   ],
   "source": [
    "url = \"https://www.youtube.com/watch?v=JMWNYfPIF2U\"\n",
    "yt = YouTube(url)\n",
    "yt.streams.first()"
   ]
  },
  {
   "cell_type": "markdown",
   "metadata": {},
   "source": [
    "## Transcription using watson speech to text"
   ]
  },
  {
   "cell_type": "code",
   "execution_count": 13,
   "metadata": {},
   "outputs": [],
   "source": [
    "def setup_watson():\n",
    "    if 'speech_to_text' in dir():\n",
    "        return speech_to_text\n",
    "    else:\n",
    "        from ibm_watson import SpeechToTextV1\n",
    "        from ibm_cloud_sdk_core.authenticators import IAMAuthenticator\n",
    "\n",
    "        apikey = 'PvFDc759NRCbfBhRgKlqi87QsDl7kpNvQYkJZTaEfGCA'\n",
    "        url = 'https://api.eu-gb.speech-to-text.watson.cloud.ibm.com/instances/33ecdf1d-e4a5-4521-83e6-d3c3c574d9b0'\n",
    "\n",
    "        # authentication\n",
    "        authenticator = IAMAuthenticator(apikey)\n",
    "        speech_to_text = SpeechToTextV1(authenticator=authenticator)\n",
    "        speech_to_text.set_service_url(url)\n",
    "    return speech_to_text"
   ]
  },
  {
   "cell_type": "code",
   "execution_count": 14,
   "metadata": {},
   "outputs": [],
   "source": [
    "def stt(file, sttmodel):\n",
    "    with open(file, 'rb') as audio_file:\n",
    "        result = sttmodel.recognize(\n",
    "            audio=audio_file,\n",
    "            content_type=\"audio/mp3\",\n",
    "            model='en-US_NarrowbandModel',\n",
    "            timestamps=True\n",
    "        ).get_result()\n",
    "    return result"
   ]
  },
  {
   "cell_type": "code",
   "execution_count": 15,
   "metadata": {},
   "outputs": [],
   "source": [
    "def generate_watson_caption(yt):\n",
    "    speech_to_text = setup_watson()\n",
    "    audio_filename = download_audio(yt)\n",
    "    speech_recognition_result = stt(audio_filename, speech_to_text)\n",
    "    return speech_recognition_result"
   ]
  },
  {
   "cell_type": "code",
   "execution_count": 16,
   "metadata": {},
   "outputs": [
    {
     "name": "stderr",
     "output_type": "stream",
     "text": [
      "chunk:  17%|███▎               | 153/877 [00:00<00:00, 1517.81it/s, now=None]"
     ]
    },
    {
     "name": "stdout",
     "output_type": "stream",
     "text": [
      "MoviePy - Writing audio in download/JMWNYfPIF2U/JMWNYfPIF2U.mp3\n"
     ]
    },
    {
     "name": "stderr",
     "output_type": "stream",
     "text": [
      "                                                                             \r"
     ]
    },
    {
     "name": "stdout",
     "output_type": "stream",
     "text": [
      "MoviePy - Done.\n"
     ]
    },
    {
     "data": {
      "text/plain": [
       "{'result_index': 0,\n",
       " 'results': [{'final': True,\n",
       "   'alternatives': [{'transcript': \"if you build a website and twenty twenty one you're likely use a framework like react angular view the actual code will be written with something like typescript or battle which itself is an abstraction on top of Java script or ecma script which is code that needs to run somewhere like a browser or no J. S. which are run times that rely on a Java script engine like the eight to create an abstract syntax tree and compile machine code which is a set of instructions that can be executed directly by the C. P. U. which uses a bunch of logic gates to compute things and manage memory which are formed by transistors that use electrical signals to represent ones and zeros which is made possible by the laws of quantum mechanics which is perceived or something we don't understand it all human consciousness \",\n",
       "     'confidence': 0.87,\n",
       "     'timestamps': [['if', 0.21, 0.36],\n",
       "      ['you', 0.36, 0.47],\n",
       "      ['build', 0.47, 0.64],\n",
       "      ['a', 0.64, 0.67],\n",
       "      ['website', 0.67, 1.07],\n",
       "      ['and', 1.07, 1.16],\n",
       "      ['twenty', 1.16, 1.39],\n",
       "      ['twenty', 1.39, 1.64],\n",
       "      ['one', 1.64, 2.04],\n",
       "      [\"you're\", 2.07, 2.18],\n",
       "      ['likely', 2.18, 2.51],\n",
       "      ['use', 2.51, 2.68],\n",
       "      ['a', 2.68, 2.75],\n",
       "      ['framework', 2.75, 3.29],\n",
       "      ['like', 3.29, 3.5],\n",
       "      ['react', 3.5, 3.96],\n",
       "      ['angular', 3.96, 4.4],\n",
       "      ['view', 4.4, 4.81],\n",
       "      ['the', 4.84, 4.93],\n",
       "      ['actual', 4.93, 5.26],\n",
       "      ['code', 5.26, 5.62],\n",
       "      ['will', 5.62, 5.72],\n",
       "      ['be', 5.72, 5.84],\n",
       "      ['written', 5.84, 6.09],\n",
       "      ['with', 6.09, 6.22],\n",
       "      ['something', 6.22, 6.53],\n",
       "      ['like', 6.53, 6.72],\n",
       "      ['typescript', 6.72, 7.31],\n",
       "      ['or', 7.31, 7.47],\n",
       "      ['battle', 7.47, 7.95],\n",
       "      ['which', 7.98, 8.17],\n",
       "      ['itself', 8.17, 8.63],\n",
       "      ['is', 8.63, 8.79],\n",
       "      ['an', 8.79, 8.86],\n",
       "      ['abstraction', 8.86, 9.51],\n",
       "      ['on', 9.51, 9.69],\n",
       "      ['top', 9.69, 9.97],\n",
       "      ['of', 9.97, 10.08],\n",
       "      ['Java', 10.08, 10.41],\n",
       "      ['script', 10.41, 10.77],\n",
       "      ['or', 10.77, 10.94],\n",
       "      ['ecma', 10.94, 11.28],\n",
       "      ['script', 11.28, 11.59],\n",
       "      ['which', 11.62, 11.87],\n",
       "      ['is', 11.87, 11.98],\n",
       "      ['code', 11.98, 12.21],\n",
       "      ['that', 12.21, 12.32],\n",
       "      ['needs', 12.32, 12.5],\n",
       "      ['to', 12.5, 12.61],\n",
       "      ['run', 12.61, 12.8],\n",
       "      ['somewhere', 12.8, 13.29],\n",
       "      ['like', 13.32, 13.51],\n",
       "      ['a', 13.51, 13.6],\n",
       "      ['browser', 13.6, 14.14],\n",
       "      ['or', 14.14, 14.35],\n",
       "      ['no', 14.35, 14.57],\n",
       "      ['J.', 14.57, 14.77],\n",
       "      ['S.', 14.77, 15.12],\n",
       "      ['which', 15.15, 15.33],\n",
       "      ['are', 15.33, 15.42],\n",
       "      ['run', 15.42, 15.61],\n",
       "      ['times', 15.61, 15.98],\n",
       "      ['that', 15.98, 16.14],\n",
       "      ['rely', 16.14, 16.46],\n",
       "      ['on', 16.46, 16.68],\n",
       "      ['a', 16.68, 16.75],\n",
       "      ['Java', 16.75, 17.08],\n",
       "      ['script', 17.08, 17.36],\n",
       "      ['engine', 17.36, 17.65],\n",
       "      ['like', 17.65, 17.84],\n",
       "      ['the', 17.84, 18.04],\n",
       "      ['eight', 18.04, 18.34],\n",
       "      ['to', 18.34, 18.49],\n",
       "      ['create', 18.49, 18.77],\n",
       "      ['an', 18.77, 18.85],\n",
       "      ['abstract', 18.85, 19.4],\n",
       "      ['syntax', 19.4, 19.8],\n",
       "      ['tree', 19.8, 20.1],\n",
       "      ['and', 20.1, 20.36],\n",
       "      ['compile', 20.36, 20.81],\n",
       "      ['machine', 20.81, 21.16],\n",
       "      ['code', 21.16, 21.47],\n",
       "      ['which', 21.51, 21.72],\n",
       "      ['is', 21.72, 21.85],\n",
       "      ['a', 21.85, 21.92],\n",
       "      ['set', 21.92, 22.12],\n",
       "      ['of', 22.12, 22.19],\n",
       "      ['instructions', 22.19, 22.86],\n",
       "      ['that', 22.86, 23.01],\n",
       "      ['can', 23.01, 23.13],\n",
       "      ['be', 23.13, 23.23],\n",
       "      ['executed', 23.23, 23.89],\n",
       "      ['directly', 23.89, 24.31],\n",
       "      ['by', 24.31, 24.43],\n",
       "      ['the', 24.43, 24.53],\n",
       "      ['C.', 24.53, 24.72],\n",
       "      ['P.', 24.72, 24.88],\n",
       "      ['U.', 24.88, 25.09],\n",
       "      ['which', 25.12, 25.31],\n",
       "      ['uses', 25.31, 25.66],\n",
       "      ['a', 25.66, 25.75],\n",
       "      ['bunch', 25.75, 25.98],\n",
       "      ['of', 25.98, 26.09],\n",
       "      ['logic', 26.09, 26.46],\n",
       "      ['gates', 26.46, 26.75],\n",
       "      ['to', 26.75, 26.92],\n",
       "      ['compute', 26.92, 27.31],\n",
       "      ['things', 27.31, 27.64],\n",
       "      ['and', 27.64, 27.89],\n",
       "      ['manage', 27.89, 28.17],\n",
       "      ['memory', 28.17, 28.63],\n",
       "      ['which', 28.66, 28.83],\n",
       "      ['are', 28.83, 28.92],\n",
       "      ['formed', 28.92, 29.26],\n",
       "      ['by', 29.26, 29.4],\n",
       "      ['transistors', 29.4, 30.22],\n",
       "      ['that', 30.22, 30.4],\n",
       "      ['use', 30.4, 30.59],\n",
       "      ['electrical', 30.59, 31.09],\n",
       "      ['signals', 31.09, 31.55],\n",
       "      ['to', 31.55, 31.71],\n",
       "      ['represent', 31.71, 32.29],\n",
       "      ['ones', 32.32, 32.61],\n",
       "      ['and', 32.61, 32.75],\n",
       "      ['zeros', 32.75, 33.23],\n",
       "      ['which', 33.26, 33.43],\n",
       "      ['is', 33.43, 33.53],\n",
       "      ['made', 33.53, 33.7],\n",
       "      ['possible', 33.7, 34.22],\n",
       "      ['by', 34.22, 34.35],\n",
       "      ['the', 34.35, 34.47],\n",
       "      ['laws', 34.47, 34.8],\n",
       "      ['of', 34.8, 34.9],\n",
       "      ['quantum', 34.9, 35.23],\n",
       "      ['mechanics', 35.23, 35.85],\n",
       "      ['which', 35.85, 36.04],\n",
       "      ['is', 36.04, 36.16],\n",
       "      ['perceived', 36.16, 36.69],\n",
       "      ['or', 36.69, 36.8],\n",
       "      ['something', 36.8, 37.11],\n",
       "      ['we', 37.11, 37.22],\n",
       "      [\"don't\", 37.22, 37.45],\n",
       "      ['understand', 37.45, 37.89],\n",
       "      ['it', 37.89, 37.98],\n",
       "      ['all', 37.98, 38.28],\n",
       "      ['human', 38.34, 38.6],\n",
       "      ['consciousness', 38.6, 39.36]]}]}]}"
      ]
     },
     "execution_count": 16,
     "metadata": {},
     "output_type": "execute_result"
    }
   ],
   "source": [
    "speech_recognition_result = generate_watson_caption(yt)\n",
    "speech_recognition_result"
   ]
  },
  {
   "cell_type": "code",
   "execution_count": 71,
   "metadata": {},
   "outputs": [],
   "source": [
    "def format_section(section):\n",
    "#     subtitle = section['transcript']\n",
    "#     start_time = section['timestamps'][0][1]\n",
    "#     end_time = section['timestamps'][-1][2]\n",
    "    subtitle = ' '.join([timestamp[0] for timestamp in section])\n",
    "    start_time = section[0][1]\n",
    "    end_time = section[-1][2]\n",
    "    return {'time': f\"{start_time}:{end_time}\", 'subtitle': subtitle}\n",
    "\n",
    "\n",
    "    \n",
    "    # format sections from result in format {'section', 'time', 'subtitle'}    \n",
    "def format_sections(self):\n",
    "# #         // 1. use pre-divided sections\n",
    "# #         sections = []\n",
    "# #         for index, section in enumerate(self.result[\"results\"]):\n",
    "# #             s = {'section': index + 1}\n",
    "# #             s = {**s, **self.format_section(section['alternatives'][0])}\n",
    "# #             sections.append(s)\n",
    "# #         return sections\n",
    "# #         // 2. divide result in 10 second sections\n",
    "    # compile result into a list of word and timestamps\n",
    "    timestamps = []\n",
    "    for result in self.result[\"results\"]:\n",
    "        timestamps.extend(result['alternatives'][0]['timestamps'])\n",
    "    # put words in 10 second sections\n",
    "    t, end = 0, timestamps[-1][1]\n",
    "    sections, section = [], []\n",
    "    while t < end:\n",
    "        t += 10\n",
    "        timestamps = timestamps[len(section):]\n",
    "        section = []\n",
    "        for timestamp in timestamps:\n",
    "            if timestamp[1] < t:\n",
    "                section.append(timestamp)\n",
    "            else:\n",
    "                break\n",
    "        sections.append(section)\n",
    "    for index, section in enumerate(sections):\n",
    "        s = {'section': index + 1}\n",
    "        s = {**s, **self.format_section(section)}\n",
    "        sections.append(s)\n",
    "    return sections\n"
   ]
  },
  {
   "cell_type": "code",
   "execution_count": 62,
   "metadata": {},
   "outputs": [
    {
     "name": "stdout",
     "output_type": "stream",
     "text": [
      "[['in', 0.11, 0.26], ['the', 0.26, 0.34], ['not', 0.34, 0.59], ['so', 0.59, 0.7], ['distant', 0.7, 1.03], ['future', 1.03, 1.54], [\"you'll\", 1.57, 1.71], ['likely', 1.71, 2.02], ['be', 2.02, 2.13], ['writing', 2.13, 2.48], ['for', 2.48, 2.76], ['fewer', 2.76, 2.99], ['lines', 2.99, 3.25], ['of', 3.25, 3.34], ['code', 3.34, 3.67], ['then', 3.67, 3.81], ['you', 3.81, 3.93], ['are', 3.93, 4.09], ['today', 4.09, 4.51], ['because', 4.54, 4.99], ['artificial', 5.02, 5.52], ['intelligence', 5.52, 6.13], ['is', 6.16, 6.32], ['coming', 6.32, 6.58], ['to', 6.58, 6.74], ['a', 6.74, 6.9], ['yes', 6.97, 7.24], ['could', 7.24, 7.5], ['near', 7.5, 7.67], ['you', 7.67, 7.99], ['Microsoft', 8.04, 8.77], ['H.', 8.8, 8.99], ['Kickin', 8.99, 9.49], ['%HESITATION', 9.54, 9.8], ['just', 9.83, 10.17], ['announced', 10.17, 10.52], ['co', 10.52, 10.68], ['pilot', 10.68, 11.07], ['yesterday', 11.07, 11.68], ['a', 11.74, 11.93], ['tool', 11.93, 12.31], ['powered', 12.31, 12.63], ['by', 12.63, 12.75], ['T.', 12.75, 12.96], ['Z.', 12.96, 13.28], ['three', 13.28, 13.76], ['capable', 13.79, 14.25], ['of', 14.25, 14.36], ['writing', 14.36, 14.62], ['code', 14.62, 15.0], ['automatically', 15.0, 15.81], ['all', 15.89, 16.03], ['you', 16.03, 16.19], ['have', 16.19, 16.3], ['to', 16.3, 16.39], ['do', 16.39, 16.65], ['is', 16.7, 16.82], ['write', 16.82, 17.03], ['a', 17.03, 17.08], ['descriptive', 17.08, 17.6], ['function', 17.6, 17.96], ['name', 17.96, 18.21], ['for', 18.21, 18.46], ['some', 18.46, 18.61], ['comments', 18.61, 19.18], ['and', 19.23, 19.39], ['it', 19.39, 19.46], ['will', 19.46, 19.58], ['automatically', 19.58, 20.19], ['fill', 20.19, 20.43], ['in', 20.43, 20.53], ['the', 20.53, 20.63], ['implementation', 20.63, 21.33], ['details', 21.33, 21.77], ['for', 21.77, 21.99], ['you', 21.99, 22.2], ['and', 22.3, 22.44], [\"it's\", 22.44, 22.56], ['not', 22.56, 22.76], ['just', 22.76, 22.99], ['inserting', 22.99, 23.45], ['a', 23.45, 23.51], ['snippet', 23.51, 23.99], ['this', 24.02, 24.17], ['is', 24.17, 24.29], ['an', 24.29, 24.37], ['actual', 24.37, 24.74], ['novel', 24.74, 25.09], ['code', 25.09, 25.53], ['that', 25.53, 25.73], ['has', 25.73, 25.94], ['never', 25.94, 26.18], ['been', 26.18, 26.31], ['seen', 26.31, 26.55], ['before', 26.55, 27.0], ['it', 27.08, 27.23], ['looks', 27.23, 27.41], ['at', 27.41, 27.5], ['the', 27.5, 27.58], ['could', 27.58, 27.81]]\n",
      "1992\n"
     ]
    }
   ],
   "source": [
    "timestamps = []\n",
    "for timestamp in speech_recognition_result[\"results\"]:\n",
    "    timestamps.extend(timestamp['alternatives'][0]['timestamps'])\n",
    "print(timestamps[:100])\n",
    "print(len(timestamps))"
   ]
  },
  {
   "cell_type": "code",
   "execution_count": 63,
   "metadata": {},
   "outputs": [
    {
     "name": "stdout",
     "output_type": "stream",
     "text": [
      "[[['in', 0.11, 0.26], ['the', 0.26, 0.34], ['not', 0.34, 0.59], ['so', 0.59, 0.7], ['distant', 0.7, 1.03], ['future', 1.03, 1.54], [\"you'll\", 1.57, 1.71], ['likely', 1.71, 2.02], ['be', 2.02, 2.13], ['writing', 2.13, 2.48], ['for', 2.48, 2.76], ['fewer', 2.76, 2.99], ['lines', 2.99, 3.25], ['of', 3.25, 3.34], ['code', 3.34, 3.67], ['then', 3.67, 3.81], ['you', 3.81, 3.93], ['are', 3.93, 4.09], ['today', 4.09, 4.51], ['because', 4.54, 4.99], ['artificial', 5.02, 5.52], ['intelligence', 5.52, 6.13], ['is', 6.16, 6.32], ['coming', 6.32, 6.58], ['to', 6.58, 6.74], ['a', 6.74, 6.9], ['yes', 6.97, 7.24], ['could', 7.24, 7.5], ['near', 7.5, 7.67], ['you', 7.67, 7.99], ['Microsoft', 8.04, 8.77], ['H.', 8.8, 8.99], ['Kickin', 8.99, 9.49], ['%HESITATION', 9.54, 9.8], ['just', 9.83, 10.17]], [['announced', 10.17, 10.52], ['co', 10.52, 10.68], ['pilot', 10.68, 11.07], ['yesterday', 11.07, 11.68], ['a', 11.74, 11.93], ['tool', 11.93, 12.31], ['powered', 12.31, 12.63], ['by', 12.63, 12.75], ['T.', 12.75, 12.96], ['Z.', 12.96, 13.28], ['three', 13.28, 13.76], ['capable', 13.79, 14.25], ['of', 14.25, 14.36], ['writing', 14.36, 14.62], ['code', 14.62, 15.0], ['automatically', 15.0, 15.81], ['all', 15.89, 16.03], ['you', 16.03, 16.19], ['have', 16.19, 16.3], ['to', 16.3, 16.39], ['do', 16.39, 16.65], ['is', 16.7, 16.82], ['write', 16.82, 17.03], ['a', 17.03, 17.08], ['descriptive', 17.08, 17.6], ['function', 17.6, 17.96], ['name', 17.96, 18.21], ['for', 18.21, 18.46], ['some', 18.46, 18.61], ['comments', 18.61, 19.18], ['and', 19.23, 19.39], ['it', 19.39, 19.46], ['will', 19.46, 19.58], ['automatically', 19.58, 20.19]], [['fill', 20.19, 20.43], ['in', 20.43, 20.53], ['the', 20.53, 20.63], ['implementation', 20.63, 21.33], ['details', 21.33, 21.77], ['for', 21.77, 21.99], ['you', 21.99, 22.2], ['and', 22.3, 22.44], [\"it's\", 22.44, 22.56], ['not', 22.56, 22.76], ['just', 22.76, 22.99], ['inserting', 22.99, 23.45], ['a', 23.45, 23.51], ['snippet', 23.51, 23.99], ['this', 24.02, 24.17], ['is', 24.17, 24.29], ['an', 24.29, 24.37], ['actual', 24.37, 24.74], ['novel', 24.74, 25.09], ['code', 25.09, 25.53], ['that', 25.53, 25.73], ['has', 25.73, 25.94], ['never', 25.94, 26.18], ['been', 26.18, 26.31], ['seen', 26.31, 26.55], ['before', 26.55, 27.0], ['it', 27.08, 27.23], ['looks', 27.23, 27.41], ['at', 27.41, 27.5], ['the', 27.5, 27.58], ['could', 27.58, 27.81], [\"you've\", 27.81, 27.95], ['already', 27.95, 28.23], ['written', 28.23, 28.52], ['in', 28.52, 28.68], ['your', 28.68, 28.8], ['project', 28.8, 29.29], ['as', 29.29, 29.48], ['contacts', 29.48, 30.12]], [['and', 30.18, 30.33], ['attempt', 30.33, 30.64], ['to', 30.64, 30.74], ['generate', 30.74, 31.09], ['new', 31.09, 31.23], ['code', 31.23, 31.52], ['to', 31.52, 31.68], ['match', 31.68, 32.01], ['up', 32.01, 32.1], ['perfectly', 32.1, 32.69], ['for', 32.78, 32.93], ['example', 32.93, 33.5], ['imagine', 33.61, 33.94], [\"you've\", 33.94, 34.08], ['written', 34.08, 34.31], ['a', 34.31, 34.37], ['react', 34.37, 34.77], ['component', 34.77, 35.31], ['and', 35.35, 35.53], ['you', 35.53, 35.61], ['now', 35.61, 35.78], ['want', 35.78, 36.01], ['to', 36.01, 36.14], ['write', 36.14, 36.36], ['a', 36.36, 36.43], ['unit', 36.43, 36.76], ['test', 36.76, 37.07], ['for', 37.07, 37.29], ['it', 37.29, 37.47], ['just', 37.63, 37.99], ['write', 37.99, 38.14], ['a', 38.14, 38.19], ['comment', 38.19, 38.66], ['describing', 38.66, 39.12], ['what', 39.12, 39.28], ['you', 39.28, 39.36], ['want', 39.36, 39.49], ['to', 39.49, 39.55], ['test', 39.55, 40.03]], [['and', 40.06, 40.23], ['co', 40.23, 40.36], ['pilot', 40.36, 40.72], ['will', 40.72, 40.81], ['generate', 40.81, 41.14], ['the', 41.14, 41.22], ['code', 41.22, 41.55], ['based', 41.55, 41.83], ['on', 41.83, 41.92], ['your', 41.92, 42.02], ['component', 42.02, 42.62], ['and', 42.65, 42.86], ['the', 42.86, 42.92], ['testing', 42.92, 43.29], ['framework', 43.29, 43.66], ['that', 43.66, 43.8], [\"you're\", 43.8, 43.92], ['using', 43.92, 44.35], ['for', 44.39, 44.65], ['so', 44.65, 44.79], ['you', 44.79, 44.94], ['want', 44.94, 45.09], ['to', 45.09, 45.18], ['calculate', 45.18, 45.6], ['the', 45.6, 45.67], ['number', 45.67, 45.89], ['of', 45.89, 46.0], ['days', 46.0, 46.33], ['between', 46.33, 46.64], ['two', 46.64, 46.82], ['dates', 46.82, 47.25], ['for', 47.29, 47.48], ['me', 47.48, 47.66], [\"that's\", 47.66, 47.84], ['an', 47.84, 47.94], ['instant', 47.97, 48.33], ['Google', 48.33, 48.61], ['search', 48.61, 48.98], ['then', 48.98, 49.21], ['stack', 49.21, 49.55], ['overflow', 49.55, 49.95], ['copying', 49.95, 50.4]], [['pace', 50.4, 50.89], ['with', 50.97, 51.13], ['co', 51.13, 51.25], ['pilot', 51.25, 51.69], ['only', 51.8, 52.04], ['have', 52.04, 52.17], ['to', 52.17, 52.25], ['do', 52.25, 52.35], ['is', 52.35, 52.46], ['write', 52.46, 52.62], ['a', 52.62, 52.66], ['function', 52.66, 53.02], ['name', 53.02, 53.37], ['and', 53.44, 53.63], ['it', 53.63, 53.74], ['implements', 53.74, 54.14], ['the', 54.14, 54.24], ['function', 54.24, 54.56], ['body', 54.56, 54.84], ['for', 54.84, 55.06], ['me', 55.06, 55.21], ['automatically', 55.21, 56.0], ['if', 56.1, 56.24], [\"I'm\", 56.24, 56.34], ['not', 56.34, 56.53], ['perfectly', 56.53, 56.91], ['happy', 56.91, 57.25], ['with', 57.25, 57.42], ['the', 57.42, 57.52], ['implementation', 57.52, 58.3], ['I', 58.33, 58.42], ['can', 58.42, 58.55], ['click', 58.55, 58.74], ['a', 58.74, 58.8], ['button', 58.8, 59.19], ['to', 59.19, 59.38], ['get', 59.38, 59.53], ['the', 59.53, 59.61], ['next', 59.61, 59.88], ['production', 59.88, 60.43]], [['anything', 60.52, 60.87], ['that', 60.87, 60.98], ['might', 60.98, 61.12], ['have', 61.12, 61.21], ['brought', 61.21, 61.43], ['you', 61.43, 61.5], ['to', 61.5, 61.58], ['stack', 61.58, 61.87], ['overflow', 61.87, 62.34], ['can', 62.34, 62.59], ['be', 62.59, 62.74], ['auto', 62.74, 63.02], ['completed', 63.02, 63.51], ['in', 63.51, 63.68], ['your', 63.68, 63.8], ['I.', 63.8, 63.93], ['D.', 63.93, 64.07], ['E.', 64.07, 64.48], ['and', 64.53, 64.75], ['custom', 64.75, 65.08], ['tailored', 65.08, 65.5], ['to', 65.5, 65.66], ['fit', 65.66, 65.88], ['your', 65.88, 66.02], [\"Kobe's\", 66.02, 66.62], ['developers', 66.69, 67.25], ['like', 67.25, 67.4], ['to', 67.4, 67.5], ['joke', 67.5, 67.84], ['about', 67.84, 68.07], ['how', 68.07, 68.24], ['often', 68.24, 68.48], ['they', 68.48, 68.59], ['Google', 68.59, 68.86], ['things', 68.86, 69.25], ['and', 69.25, 69.54], ['copy', 69.54, 69.85], ['answers', 69.85, 70.19]], [['from', 70.19, 70.32], ['stack', 70.32, 70.65], ['overflow', 70.65, 71.21], ['so', 71.24, 71.38], ['you', 71.38, 71.49], ['can', 71.49, 71.62], ['only', 71.62, 71.84], ['imagine', 71.84, 72.3], ['how', 72.3, 72.45], ['big', 72.45, 72.65], ['of', 72.65, 72.74], ['a', 72.74, 72.82], ['time', 72.82, 73.13], ['saver', 73.13, 73.42], ['this', 73.42, 73.54], ['is', 73.54, 73.67], ['going', 73.67, 73.88], ['to', 73.88, 73.96], ['be', 73.96, 74.26], ['I', 74.31, 74.44], ['just', 74.44, 74.65], ['got', 74.65, 74.78], ['access', 74.78, 75.13], ['to', 75.13, 75.23], ['co', 75.23, 75.37], ['pilot', 75.37, 75.67], ['myself', 75.67, 76.18], ['so', 76.21, 76.44], [\"let's\", 76.44, 76.66], ['dive', 76.66, 76.95], ['in', 76.95, 77.19], ['and', 77.19, 77.48], ['see', 77.48, 77.61], ['how', 77.61, 77.73], ['useful', 77.73, 78.14], ['it', 78.14, 78.23], ['really', 78.23, 78.48], ['is', 78.48, 78.8], ['I', 78.83, 79.05], ['just', 79.05, 79.32], ['install', 79.32, 79.63], ['the', 79.63, 79.73], ['extension', 79.73, 80.24]], [['and', 80.24, 80.37], ['B.', 80.37, 80.46], ['S.', 80.46, 80.64], ['code', 80.64, 80.99], ['which', 81.02, 81.25], ['required', 81.25, 81.71], ['me', 81.71, 81.84], ['to', 81.84, 82.0], ['authenticate', 82.0, 82.63], ['with', 82.63, 82.79], ['my', 82.79, 82.91], ['get', 82.91, 83.1], ['hub', 83.1, 83.26], ['account', 83.26, 83.63], [\"I've\", 83.66, 83.86], ['got', 83.86, 84.12], ['a', 84.12, 84.24], ['friend', 84.24, 84.54], ['and', 84.54, 84.76], ['vanilla', 84.76, 85.08], ['Java', 85.08, 85.37], ['scrip', 85.37, 85.59], ['project', 85.59, 86.04], ['here', 86.04, 86.35], ['with', 86.38, 86.64], ['files', 86.64, 87.12], ['for', 87.12, 87.34], ['my', 87.34, 87.5], ['HTML', 87.5, 88.26], ['CSS', 88.26, 88.88], ['and', 88.88, 89.17], ['Java', 89.17, 89.46], ['script', 89.46, 89.81], [\"you'll\", 89.81, 89.95], ['notice', 89.95, 90.22]], [['a', 90.22, 90.29], ['little', 90.29, 90.5], ['co', 90.5, 90.67], ['pilot', 90.67, 91.0], ['icon', 91.0, 91.34], ['down', 91.34, 91.55], ['here', 91.55, 91.68], ['at', 91.68, 91.77], ['the', 91.77, 91.85], ['bottom', 91.85, 92.32], ['that', 92.48, 92.65], ['just', 92.65, 92.84], ['allows', 92.84, 93.15], ['you', 93.15, 93.26], ['to', 93.26, 93.46], ['toggle', 93.46, 93.87], ['it', 93.87, 93.97], ['on', 94.0, 94.21], ['or', 94.21, 94.3], ['off', 94.3, 94.68], ['the', 94.79, 94.89], ['first', 94.89, 95.09], ['thing', 95.09, 95.18], ['I', 95.18, 95.21], ['want', 95.21, 95.33], ['to', 95.33, 95.39], ['try', 95.39, 95.67], ['is', 95.67, 95.95], ['to', 95.95, 96.1], ['define', 96.1, 96.46], ['a', 96.46, 96.52], ['function', 96.52, 97.14], ['called', 97.19, 97.52], ['intersection', 97.52, 98.24], ['of', 98.24, 98.39], ['a', 98.39, 98.51], ['raise', 98.51, 99.02], ['and', 99.13, 99.39], ['see', 99.39, 99.51], ['if', 99.51, 99.6], ['they', 99.6, 99.67], ['can', 99.67, 99.85], ['complete', 99.85, 100.34]], [['the', 100.34, 100.43], ['body', 100.43, 100.74], ['of', 100.74, 100.84], ['that', 100.84, 101.02], ['function', 101.02, 101.42], ['successfully', 101.42, 102.22], ['will', 102.34, 102.48], ['give', 102.48, 102.62], ['the', 102.62, 102.7], ['function', 102.7, 103.05], ['a', 103.05, 103.12], ['name', 103.12, 103.36], ['of', 103.36, 103.49], ['the', 103.49, 103.55], ['intersection', 103.55, 104.38], ['of', 104.41, 104.86], ['%HESITATION', 104.89, 105.06], ['and', 105.06, 105.16], ['it', 105.16, 105.25], ['just', 105.25, 105.48], ['protects', 105.48, 105.84], ['the', 105.84, 105.95], ['name', 105.95, 106.22], ['of', 106.22, 106.32], ['the', 106.32, 106.39], ['function', 106.39, 106.72], ['that', 106.72, 106.81], [\"we're\", 106.81, 106.91], ['going', 106.91, 107.09], ['to', 107.09, 107.18], ['write', 107.18, 107.53], ['and', 107.61, 107.81], ['it', 107.81, 107.87], ['looks', 107.87, 108.04], ['like', 108.04, 108.2], [\"it's\", 108.2, 108.34], ['being', 108.34, 108.58], ['implemented', 108.61, 109.12], ['correctly', 109.12, 109.7], ['but', 109.76, 110.06]], [['there', 110.06, 110.22], ['are', 110.22, 110.39], ['multiple', 110.39, 110.74], ['ways', 110.74, 110.93], ['we', 110.93, 111.04], ['could', 111.04, 111.16], ['implement', 111.16, 111.56], ['this', 111.56, 111.7], ['function', 111.7, 112.25], [\"let's\", 112.35, 112.58], ['go', 112.58, 112.71], ['ahead', 112.71, 112.95], ['and', 112.95, 113.18], ['delete', 113.18, 113.45], ['the', 113.45, 113.54], ['code', 113.54, 113.79], ['back', 113.79, 114.02], ['to', 114.02, 114.1], ['the', 114.1, 114.18], ['function', 114.18, 114.55], ['name', 114.55, 114.87], ['if', 114.9, 115.06], ['we', 115.06, 115.17], ['hover', 115.17, 115.46], ['over', 115.46, 115.7], ['the', 115.7, 115.87], ['automatically', 115.87, 116.41], ['generated', 116.41, 116.83], ['code', 116.83, 117.26], ['we', 117.26, 117.38], ['can', 117.38, 117.5], ['click', 117.5, 117.78], ['next', 117.78, 118.29], ['to', 118.32, 118.53], ['cycle', 118.53, 118.91], ['through', 118.91, 119.15], ['different', 119.15, 119.46], ['suggestion', 119.46, 120.0]], [['and', 120.0, 120.18], ['I', 120.25, 120.34], ['actually', 120.34, 120.67], [\"don't\", 120.67, 120.86], ['see', 120.86, 120.97], ['any', 120.97, 121.12], ['I', 121.12, 121.22], ['like', 121.22, 121.46], ['here', 121.46, 121.83], ['so', 121.86, 121.99], [\"I'm\", 121.99, 122.1], ['going', 122.1, 122.32], ['to', 122.32, 122.5], ['click', 122.5, 122.82], ['that', 122.82, 123.12], ['open', 123.15, 123.42], ['co', 123.42, 123.66], ['pilot', 123.66, 124.03], ['option', 124.03, 124.54], ['that', 124.57, 124.8], ['will', 124.8, 124.92], ['synthesize', 124.92, 125.56], ['ten', 125.56, 125.79], ['different', 125.79, 126.05], ['possible', 126.05, 126.44], ['solutions', 126.44, 127.13], ['and', 127.16, 127.35], ['it', 127.35, 127.44], ['happens', 127.44, 127.78], ['very', 127.78, 128.0], ['fast', 128.0, 128.5], ['like', 128.54, 128.74], ['within', 128.74, 128.99], ['one', 128.99, 129.26], ['or', 129.26, 129.35], ['two', 129.35, 129.52], ['seconds', 129.52, 130.06]], [['but', 130.09, 130.39], ['looking', 130.39, 130.67], ['closer', 130.67, 131.06], ['at', 131.06, 131.28], ['the', 131.28, 131.38], ['solutions', 131.38, 132.09], ['it', 132.12, 132.32], ['looks', 132.32, 132.53], ['like', 132.53, 132.71], ['they', 132.71, 132.89], ['are', 132.89, 133.02], ['all', 133.02, 133.28], ['pretty', 133.28, 133.55], ['much', 133.55, 133.77], ['the', 133.77, 133.88], ['same', 133.88, 134.25], ['even', 134.28, 134.47], ['though', 134.47, 134.57], ['I', 134.57, 134.66], ['know', 134.66, 134.94], ['there', 134.94, 135.12], ['are', 135.12, 135.22], ['multiple', 135.22, 135.59], ['different', 135.59, 135.92], ['approaches', 135.92, 136.51], ['to', 136.51, 136.69], ['implementing', 136.69, 137.36], ['an', 137.36, 137.56], ['intersection', 137.56, 138.15], ['of', 138.15, 138.23], ['a', 138.23, 138.33], ['raise', 138.33, 138.72], ['the', 138.75, 138.84], ['top', 138.84, 139.09], ['answer', 139.09, 139.45], ['on', 139.45, 139.65], ['stack', 139.65, 139.96], ['overflow', 139.96, 140.42]], [['actually', 140.42, 140.88], ['has', 140.88, 141.12], ['a', 141.12, 141.2], ['cleaner', 141.2, 141.57], ['implementation', 141.57, 142.43], ['and', 142.46, 142.6], ['I', 142.6, 142.64], [\"would've\", 142.64, 142.83], ['expected', 142.83, 143.28], ['this', 143.28, 143.43], ['to', 143.43, 143.56], ['at', 143.56, 143.66], ['least', 143.66, 143.9], ['be', 143.9, 143.99], ['an', 143.99, 144.11], ['option', 144.11, 144.53], ['and', 144.53, 144.68], ['the', 144.68, 144.75], ['results', 144.75, 145.21], ['but', 145.21, 145.46], [\"let's\", 145.46, 145.64], ['move', 145.64, 145.82], ['on', 145.82, 146.15], ['and', 146.19, 146.4], ['see', 146.4, 146.51], ['if', 146.51, 146.6], ['we', 146.6, 146.69], ['can', 146.69, 146.83], ['build', 146.83, 147.14], ['a', 147.14, 147.24], ['little', 147.24, 147.43], ['counter', 147.43, 147.82], ['out', 147.82, 148.11], ['that', 148.11, 148.28], ['has', 148.28, 148.52], ['multiple', 148.52, 148.9], ['moving', 148.9, 149.18], ['parts', 149.18, 149.66], ['first', 149.69, 150.02]], [[\"I'm\", 150.02, 150.11], ['going', 150.11, 150.33], ['to', 150.33, 150.46], ['define', 150.46, 150.77], ['some', 150.77, 150.91], ['state', 150.91, 151.43], ['which', 151.47, 151.7], ['is', 151.7, 151.82], ['just', 151.82, 152.07], ['a', 152.07, 152.15], ['very', 152.15, 152.49], ['able', 152.49, 152.71], ['equal', 152.71, 153.05], ['to', 153.05, 153.17], ['zero', 153.17, 153.75], [\"you'll\", 154.34, 154.55], ['notice', 154.55, 154.85], ['that', 154.85, 155.0], [\"it's\", 155.0, 155.12], ['trying', 155.12, 155.45], ['to', 155.45, 155.64], ['make', 155.64, 155.91], ['predictions', 155.91, 156.54], ['as', 156.54, 156.8], [\"I'm\", 156.8, 156.93], ['writing', 156.93, 157.26], ['out', 157.26, 157.4], ['this', 157.4, 157.53], ['very', 157.53, 157.8], ['able', 157.8, 158.12], ['that', 158.15, 158.36], ['is', 158.36, 158.52], ['one', 158.52, 158.72], ['thing', 158.72, 158.88], [\"that's\", 158.88, 159.03], ['kind', 159.03, 159.17], ['of', 159.17, 159.24], ['annoying', 159.24, 159.7], [\"it's\", 159.73, 159.96], ['almost', 159.96, 160.29]], [['a', 160.29, 160.36], ['little', 160.36, 160.58], ['too', 160.58, 160.8], ['aggressive', 160.8, 161.37], ['when', 161.37, 161.54], ['making', 161.54, 161.86], ['predictions', 161.86, 162.54], ['it', 162.57, 162.66], ['would', 162.66, 162.78], ['be', 162.78, 162.88], ['nice', 162.88, 163.26], ['if', 163.26, 163.42], ['the', 163.42, 163.65], ['I', 163.65, 163.77], ['could', 163.77, 163.93], ['predict', 163.93, 164.46], ['when', 164.46, 164.58], ['I', 164.58, 164.64], ['actually', 164.64, 165.13], ['want', 165.13, 165.4], ['productions', 165.4, 166.06], ['also', 166.09, 166.42], ['it', 166.42, 166.52], ['protects', 166.52, 166.8], ['things', 166.8, 167.05], ['for', 167.05, 167.26], ['react', 167.26, 167.7], ['and', 167.7, 167.86], ['you', 167.86, 168.08], ['even', 168.08, 168.37], ['though', 168.37, 168.46], [\"I'm\", 168.46, 168.58], ['not', 168.58, 168.83], ['in', 168.83, 168.96], ['a', 168.96, 169.01], ['reactor', 169.01, 169.52], ['view', 169.52, 169.7], ['project', 169.7, 170.33]], [['in', 170.36, 170.46], ['any', 170.46, 170.61], ['case', 170.61, 171.06], ['%HESITATION', 171.1, 171.29], ['next', 171.29, 171.53], ['thing', 171.53, 171.64], ['I', 171.64, 171.69], ['want', 171.69, 171.81], ['to', 171.81, 171.87], ['do', 171.87, 171.99], ['here', 171.99, 172.27], ['is', 172.27, 172.51], ['grab', 172.51, 172.81], ['a', 172.81, 172.9], ['button', 172.9, 173.22], ['from', 173.22, 173.39], ['the', 173.39, 173.48], ['dom', 173.48, 173.92], [\"I'll\", 173.96, 174.09], ['give', 174.09, 174.24], ['the', 174.24, 174.36], ['A.', 174.36, 174.53], ['I.', 174.53, 174.65], ['hands', 174.65, 175.13], ['by', 175.13, 175.28], ['writing', 175.28, 175.55], ['a', 175.55, 175.61], ['comment', 175.61, 176.16], ['and', 176.28, 176.45], [\"you'll\", 176.45, 176.56], ['notice', 176.56, 176.83], ['that', 176.83, 176.94], ['it', 176.94, 177.04], ['actually', 177.04, 177.57], ['auto', 177.6, 177.83], ['completes', 177.83, 178.25], ['the', 178.25, 178.34], ['call', 178.34, 178.53], ['that', 178.53, 178.71], ['for', 178.71, 178.9], ['me', 178.9, 179.15], ['it', 179.18, 179.33], ['knows', 179.33, 179.52], ['exactly', 179.52, 179.95], ['what', 179.95, 180.06]], [['I', 180.06, 180.1], ['want', 180.1, 180.26], ['to', 180.26, 180.32], ['do', 180.32, 180.7], ['because', 180.73, 180.98], [\"it's\", 180.98, 181.13], ['such', 181.13, 181.38], ['a', 181.38, 181.48], ['common', 181.48, 181.86], ['thing', 181.86, 182.01], ['to', 182.01, 182.11], ['do', 182.11, 182.44], ['now', 182.53, 182.7], ['that', 182.7, 182.82], ['we', 182.82, 182.93], ['have', 182.93, 183.13], ['a', 183.13, 183.2], ['button', 183.2, 183.64], [\"let's\", 183.71, 183.92], ['set', 183.92, 184.06], ['up', 184.06, 184.19], ['an', 184.19, 184.27], ['event', 184.27, 184.59], ['listener', 184.59, 185.0], ['on', 185.0, 185.26], ['the', 185.26, 185.34], ['click', 185.34, 185.59], ['event', 185.59, 186.01], ['to', 186.15, 186.34], ['income', 186.34, 186.66], ['at', 186.66, 186.78], ['the', 186.78, 186.87], ['state', 186.87, 187.31], ['each', 187.34, 187.55], ['time', 187.55, 187.83], ['that', 187.83, 187.97], [\"it's\", 187.97, 188.09], ['clicked', 188.09, 188.52], ['now', 188.55, 188.72], ['I', 188.72, 188.8], ['start', 188.8, 189.05], ['writing', 189.05, 189.3], ['another', 189.3, 189.61], ['comment', 189.61, 190.12]], [['I', 190.15, 190.27], [\"don't\", 190.27, 190.45], ['even', 190.45, 190.6], ['type', 190.6, 190.89], ['anything', 190.89, 191.39], ['and', 191.42, 191.55], ['it', 191.55, 191.66], ['tells', 191.66, 191.89], ['out', 191.89, 192.03], ['that', 192.03, 192.16], ['entire', 192.16, 192.54], ['comment', 192.54, 192.99], ['for', 192.99, 193.18], ['me', 193.18, 193.47], [\"that's\", 193.5, 193.71], ['pretty', 193.71, 193.88], ['crazy', 193.88, 194.32], ['because', 194.32, 194.59], [\"it's\", 194.59, 194.72], ['using', 194.72, 194.97], ['the', 194.97, 195.05], ['context', 195.05, 195.68], ['of', 195.68, 195.78], ['our', 195.78, 195.91], ['previous', 195.91, 196.28], ['line', 196.28, 196.44], ['of', 196.44, 196.51], ['code', 196.51, 196.89], ['to', 196.92, 197.1], ['figure', 197.1, 197.35], ['out', 197.35, 197.55], ['what', 197.55, 197.7], ['to', 197.7, 197.83], ['write', 197.83, 198.05], ['next', 198.05, 198.52], ['%HESITATION', 198.57, 198.71], ['hit', 198.71, 198.89], ['tab', 198.89, 199.12], ['a', 199.12, 199.17], ['couple', 199.17, 199.39], ['times', 199.39, 199.88], ['and', 199.99, 200.15]], [[\"you'll\", 200.15, 200.25], ['notice', 200.25, 200.53], ['that', 200.53, 200.68], ['it', 200.68, 200.82], ['sets', 200.82, 201.07], ['up', 201.07, 201.25], ['an', 201.25, 201.34], ['event', 201.34, 201.66], ['listener', 201.66, 202.19], ['on', 202.23, 202.45], ['the', 202.45, 202.53], ['button', 202.53, 202.84], ['very', 202.84, 203.13], ['able', 203.13, 203.34], ['that', 203.34, 203.5], ['we', 203.5, 203.61], ['define', 203.61, 204.18], ['then', 204.21, 204.36], ['it', 204.36, 204.45], ['proceeds', 204.45, 204.91], ['to', 204.91, 205.08], ['update', 205.08, 205.46], ['the', 205.46, 205.54], ['state', 205.54, 205.98], ['by', 206.01, 206.2], ['incrementing', 206.2, 206.84], ['up', 206.84, 206.92], ['by', 206.92, 207.06], ['one', 207.06, 207.53], ['it', 207.62, 207.77], ['also', 207.77, 208.02], ['adds', 208.02, 208.27], ['a', 208.27, 208.34], ['modulus', 208.34, 208.93], ['three', 208.93, 209.19], ['year', 209.19, 209.58], [\"I'm\", 209.61, 209.77], ['not', 209.77, 209.99], ['sure', 209.99, 210.12]], [['what', 210.12, 210.22], [\"that's\", 210.22, 210.43], ['about', 210.43, 210.83], [\"that'll\", 210.86, 211.06], ['just', 211.06, 211.23], ['make', 211.23, 211.38], ['it', 211.38, 211.46], ['count', 211.46, 211.7], ['to', 211.7, 211.77], ['three', 211.77, 212.03], ['in', 212.03, 212.1], ['a', 212.1, 212.16], ['loop', 212.16, 212.57], ['and', 212.6, 212.74], ['I', 212.74, 212.77], ['have', 212.77, 212.9], ['no', 212.9, 213.04], ['idea', 213.04, 213.34], ['where', 213.34, 213.5], ['we', 213.5, 213.62], ['get', 213.62, 213.76], ['the', 213.76, 213.88], ['idea', 213.88, 214.22], ['to', 214.22, 214.34], ['do', 214.34, 214.5], ['that', 214.5, 214.84], ['and', 214.87, 215.08], ['finally', 215.08, 215.54], ['and', 215.57, 215.71], ['knows', 215.71, 215.89], ['that', 215.89, 216.02], ['we', 216.02, 216.12], ['want', 216.12, 216.33], ['to', 216.33, 216.47], ['show', 216.47, 216.73], ['the', 216.73, 216.86], ['state', 216.86, 217.19], ['in', 217.19, 217.29], ['the', 217.29, 217.4], ['U.', 217.4, 217.52], ['Y.', 217.52, 217.96], ['so', 217.99, 218.18], ['it', 218.18, 218.26], ['takes', 218.26, 218.48], ['R.', 218.48, 218.61], ['button', 218.61, 219.15], ['and', 219.22, 219.43], ['sets', 219.43, 219.65], ['the', 219.65, 219.84], ['inter', 219.84, 220.06]], [['HTML', 220.06, 220.83], ['to', 220.83, 221.07], ['the', 221.07, 221.18], ['current', 221.18, 221.46], ['state', 221.46, 221.83], [\"that's\", 221.87, 222.08], ['pretty', 222.08, 222.25], ['wild', 222.25, 222.69], ['but', 222.69, 222.9], ['now', 222.9, 223.03], [\"I'm\", 223.03, 223.12], ['going', 223.12, 223.34], ['to', 223.34, 223.5], ['go', 223.5, 223.65], ['into', 223.65, 223.81], ['the', 223.81, 223.91], ['H.', 223.91, 224.06], ['T.', 224.06, 224.2], ['M.', 224.2, 224.31], ['L.', 224.31, 224.57], ['and', 224.57, 224.88], ['add', 224.88, 225.09], ['the', 225.09, 225.18], ['button', 225.18, 225.52], ['to', 225.52, 225.69], ['the', 225.69, 225.79], ['dom', 225.79, 226.18], ['it', 226.21, 226.33], [\"doesn't\", 226.33, 226.58], ['seem', 226.58, 226.73], ['to', 226.73, 226.8], ['know', 226.8, 226.97], ['that', 226.97, 227.1], ['my', 227.1, 227.22], ['Java', 227.22, 227.52], ['script', 227.52, 227.79], ['is', 227.79, 227.9], ['looking', 227.9, 228.22], ['for', 228.22, 228.43], ['a', 228.43, 228.49], ['certain', 228.49, 228.79], ['button', 228.79, 229.32], ['but', 229.39, 229.54], ['if', 229.54, 229.64], ['I', 229.64, 229.71], ['had', 229.71, 229.88], ['a', 229.88, 229.94], ['button', 229.94, 230.21]], [['comment', 230.21, 230.83], ['it', 230.91, 231.1], ['will', 231.1, 231.27], ['auto', 231.27, 231.51], ['completes', 231.51, 232.03], ['with', 232.03, 232.25], ['the', 232.25, 232.36], ['expected', 232.36, 232.83], ['I.', 232.83, 232.91], ['D.', 232.91, 233.3], ['and', 233.41, 233.68], ['finally', 233.68, 234.04], ['it', 234.04, 234.15], [\"let's\", 234.15, 234.35], ['jump', 234.35, 234.57], ['into', 234.57, 234.78], ['our', 234.78, 234.89], ['CSS', 234.89, 235.52], ['and', 235.52, 235.85], ['give', 235.85, 235.99], ['it', 235.99, 236.1], ['some', 236.1, 236.23], ['style', 236.23, 236.77], ['if', 236.82, 237.0], ['I', 237.0, 237.08], ['add', 237.08, 237.32], ['a', 237.32, 237.4], ['comment', 237.4, 237.91], ['for', 237.91, 238.14], ['a', 238.14, 238.21], ['red', 238.21, 238.49], ['button', 238.49, 238.79], ['with', 238.79, 238.93], ['a', 238.93, 238.98], ['blue', 238.98, 239.18], ['background', 239.18, 239.82], ['well', 239.85, 240.0]], [['start', 240.0, 240.3], ['implementing', 240.33, 240.84], ['that', 240.84, 241.0], ['code', 241.0, 241.29], ['line', 241.29, 241.5], ['by', 241.5, 241.64], ['line', 241.64, 242.1], ['but', 242.15, 242.39], [\"it's\", 242.39, 242.51], ['generally', 242.51, 242.84], ['more', 242.84, 242.98], ['efficient', 242.98, 243.47], ['to', 243.47, 243.56], ['just', 243.56, 243.75], ['go', 243.75, 243.86], ['straight', 243.86, 244.13], ['to', 244.13, 244.21], ['the', 244.21, 244.3], ['copilot', 244.3, 244.99], ['and', 245.03, 245.3], ['see', 245.3, 245.45], ['the', 245.45, 245.56], ['available', 245.56, 245.94], ['options', 245.94, 246.36], ['here', 246.36, 246.68], ['an', 246.71, 246.86], ['interesting', 246.86, 247.29], ['side', 247.29, 247.57], ['note', 247.57, 247.85], ['is', 247.88, 248.03], ['that', 248.03, 248.15], [\"you'll\", 248.15, 248.27], ['get', 248.27, 248.44], ['different', 248.44, 248.72], ['results', 248.72, 249.1], ['here', 249.1, 249.52], ['each', 249.55, 249.74], ['time', 249.74, 249.96], ['you', 249.96, 250.1]], [['go', 250.1, 250.25], ['to', 250.25, 250.34], ['the', 250.34, 250.43], ['co', 250.43, 250.61], ['pilot', 250.61, 251.1], ['even', 251.15, 251.35], ['if', 251.35, 251.45], ['the', 251.45, 251.54], ['comment', 251.54, 251.99], ['is', 251.99, 252.08], ['exactly', 252.08, 252.56], ['the', 252.56, 252.64], ['same', 252.64, 253.06], ['the', 253.09, 253.22], ['results', 253.22, 253.52], ['are', 253.52, 253.6], ['kind', 253.6, 253.75], ['of', 253.75, 253.83], ['all', 253.83, 254.0], ['over', 254.0, 254.16], ['the', 254.16, 254.24], ['place', 254.24, 254.59], ['but', 254.59, 254.8], ['I', 254.8, 254.84], ['think', 254.84, 254.98], [\"it's\", 254.98, 255.09], ['enough', 255.09, 255.33], ['to', 255.33, 255.45], ['give', 255.45, 255.57], ['you', 255.57, 255.69], ['some', 255.69, 255.83], ['starting', 255.83, 256.23], ['code', 256.23, 256.46], ['to', 256.46, 256.57], ['work', 256.57, 256.8], ['with', 256.8, 257.05], [\"don't\", 257.11, 257.38], ['expect', 257.38, 257.72], ['this', 257.72, 257.85], ['thing', 257.85, 258.04], ['to', 258.04, 258.16], ['be', 258.16, 258.27], ['turning', 258.27, 258.58], ['out', 258.58, 258.75], ['production', 258.75, 259.11], ['Greco', 259.11, 259.53], ['just', 259.53, 259.83], ['yet', 259.83, 260.12]], [[\"that's\", 260.15, 260.35], ['not', 260.35, 260.5], ['going', 260.5, 260.64], ['to', 260.64, 260.7], ['happen', 260.7, 261.08], ['Intel', 261.08, 261.43], ['protocol', 261.43, 261.87], ['for', 261.87, 262.13], ['is', 262.13, 262.22], ['implemented', 262.22, 262.84], ['now', 262.89, 263.09], ['if', 263.09, 263.17], ['we', 263.17, 263.26], ['go', 263.26, 263.36], ['ahead', 263.36, 263.6], ['and', 263.6, 263.8], ['open', 263.8, 264.06], ['our', 264.06, 264.16], ['app', 264.16, 264.33], ['in', 264.33, 264.39], ['the', 264.39, 264.47], ['browser', 264.47, 265.07], ['we', 265.1, 265.24], ['should', 265.24, 265.44], ['get', 265.44, 265.58], ['this', 265.58, 265.75], ['blue', 265.75, 265.96], ['button', 265.96, 266.44], ['and', 266.59, 266.83], ['every', 266.83, 267.04], ['time', 267.04, 267.22], [\"it's\", 267.22, 267.36], ['clicked', 267.36, 267.8], ['it', 267.83, 267.98], ['will', 267.98, 268.1], ['increments', 268.1, 268.53], ['the', 268.53, 268.63], ['state', 268.63, 269.03], ['by', 269.03, 269.2], ['the', 269.2, 269.38], ['modulus', 269.38, 269.92], ['of', 269.92, 270.02]], [['three', 270.02, 270.46], ['all', 270.52, 270.69], ['things', 270.69, 270.92], ['considered', 270.92, 271.48], ['I', 271.48, 271.58], ['think', 271.58, 271.81], ['co', 271.81, 271.96], ['pilot', 271.96, 272.36], ['did', 272.36, 272.55], ['a', 272.55, 272.63], ['pretty', 272.63, 272.87], ['good', 272.87, 273.02], ['job', 273.02, 273.41], ['it', 273.44, 273.64], ['feels', 273.64, 273.93], ['a', 273.93, 274.03], ['little', 274.03, 274.27], ['rough', 274.27, 274.49], ['around', 274.49, 274.7], ['the', 274.7, 274.78], ['edges', 274.78, 275.19], ['but', 275.19, 275.38], [\"it's\", 275.38, 275.5], ['by', 275.5, 275.63], ['far', 275.63, 275.9], ['the', 275.9, 275.99], ['best', 275.99, 276.27], ['A.', 276.3, 276.45], ['I.', 276.45, 276.58], ['coding', 276.58, 276.9], ['experience', 276.9, 277.35], ['that', 277.35, 277.47], [\"I've\", 277.47, 277.64], ['ever', 277.64, 277.82], ['had', 277.82, 278.22], ['but', 278.39, 278.82], ['how', 278.82, 278.92], ['does', 278.92, 279.04], ['this', 279.04, 279.17], ['thing', 279.17, 279.3], ['actually', 279.3, 279.68], ['work', 279.68, 279.99]], [['well', 280.05, 280.22], ['in', 280.22, 280.31], ['order', 280.31, 280.54], ['to', 280.54, 280.77], ['build', 280.77, 281.09], ['useful', 281.09, 281.45], ['A.', 281.45, 281.6], ['I.', 281.6, 281.94], ['you', 281.98, 282.11], ['need', 282.11, 282.31], ['a', 282.31, 282.4], ['ton', 282.4, 282.65], ['of', 282.65, 282.76], ['data', 282.76, 283.17], ['luckily', 283.25, 283.75], ['over', 283.75, 284.0], ['the', 284.0, 284.08], ['last', 284.08, 284.37], ['twelve', 284.37, 284.6], ['years', 284.6, 285.0], ['developers', 285.03, 285.61], ['have', 285.61, 285.88], ['graciously', 285.88, 286.51], ['donated', 286.51, 286.96], ['their', 286.96, 287.1], ['time', 287.1, 287.6], ['and', 287.6, 287.91], ['code', 287.91, 288.35], ['to', 288.38, 288.56], ['help', 288.56, 288.81], ['other', 288.81, 289.03], ['developers', 289.03, 289.46], ['on', 289.46, 289.56], ['the', 289.56, 289.67], ['internet', 289.67, 290.14]], [['well', 290.17, 290.42], ['for', 290.42, 290.61], ['going', 290.61, 290.87], ['there', 290.87, 291.0], ['copy', 291.0, 291.34], ['right', 291.34, 291.58], ['to', 291.58, 291.68], ['that', 291.68, 291.84], ['content', 291.84, 292.4], ['primarily', 292.43, 292.96], ['on', 292.96, 293.14], ['the', 293.14, 293.21], ['website', 293.21, 293.74], ['stack', 293.74, 294.09], ['overflow', 294.09, 294.71], ['which', 294.74, 294.93], ['was', 294.93, 295.09], ['just', 295.09, 295.31], ['acquired', 295.31, 295.76], ['this', 295.76, 295.91], ['month', 295.91, 296.27], ['for', 296.27, 296.54], ['one', 296.54, 296.76], ['point', 296.76, 297.07], ['eight', 297.07, 297.31], ['billion', 297.34, 297.72], ['dollars', 297.72, 298.3], ['impeccable', 298.35, 298.88], ['timing', 298.88, 299.23], ['and', 299.23, 299.35], ['for', 299.35, 299.55], ['their', 299.55, 299.72], ['founders', 299.72, 300.15]], [['to', 300.15, 300.25], ['cash', 300.25, 300.56], ['out', 300.56, 300.85], ['just', 300.9, 301.29], ['weeks', 301.29, 301.57], ['before', 301.57, 301.91], ['a', 301.91, 302.02], ['game', 302.02, 302.32], ['changing', 302.32, 302.74], ['existential', 302.74, 303.38], ['threat', 303.38, 303.73], ['hits', 303.73, 303.98], ['the', 303.98, 304.11], ['industry', 304.11, 304.63], ['it', 304.66, 304.77], ['also', 304.77, 304.98], ['takes', 304.98, 305.25], ['code', 305.25, 305.52], ['from', 305.52, 305.73], ['public', 305.73, 306.25], ['open', 306.28, 306.54], ['source', 306.54, 306.85], ['get', 306.85, 307.03], ['hot', 307.03, 307.2], ['repose', 307.2, 307.74], ['now', 307.81, 308.02], ['because', 308.02, 308.28], [\"it's\", 308.28, 308.42], ['generating', 308.42, 308.91], ['unique', 308.91, 309.22], ['code', 309.22, 309.65], ['I', 309.68, 309.77], [\"don't\", 309.77, 309.94], ['think', 309.94, 310.06]], [['it', 310.06, 310.14], ['has', 310.14, 310.32], ['to', 310.32, 310.42], ['worry', 310.42, 310.74], ['about', 310.74, 310.98], ['any', 311.01, 311.26], ['open', 311.26, 311.55], ['source', 311.55, 311.84], ['licensing', 311.84, 312.37], ['requirements', 312.37, 313.0], ['because', 313.0, 313.37], ['this', 313.37, 313.52], ['data', 313.52, 313.75], ['is', 313.75, 313.89], ['public', 313.89, 314.39], ['Microsoft', 314.42, 315.04], ['can', 315.04, 315.14], ['freely', 315.14, 315.51], ['use', 315.51, 315.74], ['it', 315.74, 315.99], ['you', 315.99, 316.22], ['builder', 316.22, 316.63], ['A.', 316.63, 316.78], ['II', 316.78, 317.15], ['the', 317.24, 317.38], ['deportee', 317.38, 317.81], ['model', 317.81, 318.1], ['behind', 318.1, 318.4], ['the', 318.4, 318.46], ['data', 318.46, 318.88], ['is', 318.92, 319.17], ['G.', 319.17, 319.37], ['P.', 319.37, 319.52], ['T.', 319.52, 319.7], ['three', 319.7, 320.19]], [['or', 320.25, 320.43], ['generative', 320.43, 320.97], ['pre', 320.97, 321.18], ['train', 321.18, 321.44], ['transformer', 321.44, 322.09], ['three', 322.09, 322.54], ['which', 322.58, 322.76], ['is', 322.76, 322.86], ['usually', 322.86, 323.27], ['one', 323.27, 323.38], ['of', 323.38, 323.45], ['the', 323.45, 323.52], ['most', 323.52, 323.75], ['impressive', 323.75, 324.22], ['A.', 324.22, 324.39], ['I.', 324.39, 324.5], ['products', 324.5, 324.99], ['ever', 324.99, 325.22], ['developed', 325.22, 325.81], ['people', 325.84, 326.08], ['describe', 326.08, 326.46], ['it', 326.46, 326.56], ['as', 326.56, 326.79], ['amazing', 326.79, 327.36], ['humbling', 327.36, 328.06], ['and', 328.09, 328.4], ['terrifying', 328.4, 329.12], ['and', 329.17, 329.32], [\"it's\", 329.32, 329.43], ['really', 329.43, 329.69], ['good', 329.69, 329.88], ['at', 329.88, 330.1]], [['being', 330.1, 330.29], ['creative', 330.29, 330.84], ['based', 330.84, 331.21], ['on', 331.21, 331.36], ['some', 331.36, 331.53], ['initial', 331.53, 331.86], ['contacts', 331.86, 332.56], ['like', 332.59, 332.8], ['you', 332.8, 332.89], ['can', 332.89, 333.02], ['take', 333.02, 333.25], ['a', 333.25, 333.36], ['complex', 333.36, 333.92], ['article', 333.92, 334.37], ['and', 334.37, 334.71], ['summarize', 334.71, 335.17], ['it', 335.17, 335.3], ['for', 335.3, 335.49], ['a', 335.49, 335.57], ['second', 335.57, 335.92], ['grader', 335.92, 336.3], ['working', 336.33, 336.65], ['take', 336.65, 336.84], ['an', 336.84, 336.92], ['idea', 336.92, 337.26], ['that', 337.26, 337.37], ['you', 337.37, 337.48], ['have', 337.48, 337.69], ['for', 337.69, 337.87], ['an', 337.87, 337.94], ['ad', 337.94, 338.41], ['and', 338.44, 338.69], ['generate', 338.69, 339.12], ['the', 339.12, 339.22], ['actual', 339.22, 339.72], ['ad', 339.72, 340.01]], [['copy', 340.01, 340.48], ['under', 340.59, 340.83], ['the', 340.83, 340.93], ['hood', 340.93, 341.28], [\"it's\", 341.31, 341.49], ['just', 341.49, 341.75], ['a', 341.75, 341.81], ['mass', 341.81, 342.12], ['of', 342.12, 342.24], ['neural', 342.24, 342.46], ['network', 342.46, 342.94], [\"that's\", 342.94, 343.16], ['been', 343.16, 343.31], ['trained', 343.31, 343.74], ['on', 343.74, 343.98], ['over', 343.98, 344.25], ['one', 344.25, 344.48], ['hundred', 344.48, 344.76], ['and', 344.76, 344.86], ['seventy', 344.86, 345.14], ['five', 345.14, 345.45], ['billion', 345.45, 345.86], ['parameters', 345.86, 346.52], ['to', 346.55, 346.71], ['put', 346.71, 346.89], ['that', 346.89, 347.0], ['in', 347.0, 347.07], ['perspective', 347.07, 347.79], ['there', 347.83, 347.98], ['are', 347.98, 348.04], ['many', 348.04, 348.33], ['popular', 348.33, 348.87], ['pre', 348.87, 349.13], ['trainer', 349.13, 349.56], ['all', 349.56, 349.65], ['networks', 349.65, 350.02]], [['out', 350.02, 350.2], ['there', 350.2, 350.5], ['and', 350.61, 350.87], ['none', 350.87, 351.0], ['of', 351.0, 351.09], ['them', 351.09, 351.23], ['have', 351.23, 351.47], ['anywhere', 351.47, 351.78], ['close', 351.78, 352.18], ['to', 352.18, 352.34], ['one', 352.34, 352.61], ['billion', 352.61, 352.98], ['parameters', 352.98, 353.63], ['let', 353.67, 353.86], ['alone', 353.86, 354.11], ['a', 354.11, 354.17], ['hundred', 354.17, 354.62], ['seventy', 354.62, 354.94], ['five', 354.94, 355.29], ['billion', 355.29, 355.74], [\"it's\", 355.8, 356.01], ['developed', 356.01, 356.39], ['by', 356.39, 356.53], ['a', 356.53, 356.58], ['company', 356.58, 356.96], ['called', 356.96, 357.21], ['opening', 357.21, 357.65], ['I', 357.65, 357.98], ['that', 358.08, 358.26], ['was', 358.26, 358.39], ['founded', 358.39, 358.75], ['by', 358.75, 358.88], ['people', 358.88, 359.19], ['like', 359.19, 359.42], ['you', 359.42, 359.59], ['on', 359.59, 359.76], ['my', 359.76, 360.0]], [['Sam', 360.17, 360.54], ['old', 360.54, 360.76], ['men', 360.76, 361.13], ['and', 361.19, 361.41], ['other', 361.41, 361.67], ['high', 361.67, 361.85], ['profile', 361.85, 362.32], ['tech', 362.32, 362.55], ['figures', 362.55, 363.01], ['it', 363.04, 363.19], ['started', 363.19, 363.47], ['in', 363.47, 363.57], ['twenty', 363.57, 363.83], ['fifteen', 363.83, 364.18], ['as', 364.18, 364.29], ['a', 364.29, 364.34], ['non', 364.34, 364.52], ['profit', 364.52, 365.0], ['but', 365.03, 365.26], ['I', 365.26, 365.32], ['think', 365.32, 365.49], ['they', 365.49, 365.59], ['realize', 365.59, 365.98], ['they', 365.98, 366.07], ['could', 366.07, 366.2], ['make', 366.2, 366.35], ['a', 366.35, 366.39], ['****', 366.39, 366.6], ['load', 366.6, 366.74], ['of', 366.74, 366.81], ['money', 366.81, 367.2], ['and', 367.23, 367.39], ['converted', 367.39, 367.81], ['to', 367.81, 367.97], ['a', 367.97, 368.06], ['for', 368.06, 368.29], ['profit', 368.29, 368.61], ['company', 368.61, 368.97], ['and', 368.97, 369.08], ['twenty', 369.08, 369.33], ['nineteen', 369.33, 369.85], ['now', 369.88, 370.07]], [['Microsoft', 370.07, 370.58], [\"doesn't\", 370.58, 370.82], ['control', 370.82, 371.24], ['open', 371.24, 371.49], ['a', 371.49, 371.6], ['I', 371.6, 371.87], ['but', 371.87, 372.08], ['they', 372.08, 372.17], ['did', 372.17, 372.36], ['make', 372.36, 372.55], ['a', 372.55, 372.63], ['one', 372.63, 372.93], ['billion', 372.93, 373.23], ['dollar', 373.23, 373.48], ['investment', 373.48, 374.09], ['and', 374.09, 374.27], ['twenty', 374.27, 374.51], ['nineteen', 374.51, 375.1], ['then', 375.2, 375.38], ['in', 375.38, 375.48], ['September', 375.48, 375.89], ['twenty', 375.89, 376.16], ['twenty', 376.16, 376.48], ['eight', 376.48, 376.66], ['they', 376.72, 376.84], ['announced', 376.84, 377.24], ['they', 377.24, 377.32], ['have', 377.32, 377.48], ['license', 377.48, 377.91], ['the', 377.91, 378.0], ['exclusive', 378.0, 378.52], ['use', 378.52, 378.81], ['of', 378.81, 378.91], ['G.', 378.91, 379.08], ['P.', 379.08, 379.23], ['T.', 379.23, 379.4], ['three', 379.4, 379.85], ['other', 379.96, 380.18]], [['companies', 380.18, 380.55], ['can', 380.55, 380.67], ['still', 380.67, 380.87], ['use', 380.87, 381.06], ['the', 381.06, 381.17], ['API', 381.17, 381.78], ['but', 381.86, 382.11], ['Microsoft', 382.11, 382.75], ['is', 382.75, 382.86], ['the', 382.86, 382.94], ['only', 382.94, 383.14], ['company', 383.14, 383.56], ['that', 383.56, 383.76], ['can', 383.76, 383.91], ['truly', 383.91, 384.26], ['take', 384.26, 384.52], ['full', 384.52, 384.76], ['advantage', 384.76, 385.26], ['of', 385.29, 385.45], ['the', 385.45, 385.54], ['G.', 385.54, 385.71], ['P.', 385.71, 385.85], ['T.', 385.85, 386.01], ['three', 386.01, 386.24], ['algorithm', 386.24, 386.9], ['that', 386.98, 387.15], ['means', 387.15, 387.36], ['Microsoft', 387.36, 388.03], ['will', 388.03, 388.14], ['be', 388.14, 388.25], ['able', 388.25, 388.42], ['to', 388.42, 388.53], ['build', 388.53, 388.7], ['products', 388.7, 389.2], ['that', 389.2, 389.42], ['nobody', 389.42, 389.77], ['can', 389.77, 389.89], ['really', 389.89, 390.09]], [['compete', 390.09, 390.42], ['with', 390.42, 390.64], ['unless', 390.68, 390.97], ['of', 390.97, 391.07], ['course', 391.07, 391.33], ['you', 391.33, 391.42], ['can', 391.42, 391.55], ['build', 391.55, 391.74], ['an', 391.74, 391.81], ['algorithm', 391.81, 392.37], [\"that's\", 392.37, 392.64], ['better', 392.64, 392.89], ['than', 392.89, 393.03], ['G.', 393.03, 393.21], ['P.', 393.21, 393.34], ['T.', 393.34, 393.5], ['three', 393.5, 393.92], [\"don't\", 393.95, 394.14], ['let', 394.14, 394.27], ['the', 394.27, 394.35], ['name', 394.35, 394.54], ['for', 394.54, 394.76], ['you', 394.76, 394.93], ['open', 394.96, 395.2], ['a', 395.2, 395.33], ['I', 395.33, 395.46], ['is', 395.46, 395.59], ['not', 395.59, 395.79], ['open', 395.79, 396.14], ['a', 396.18, 396.34], ['better', 396.34, 396.57], ['name', 396.57, 396.75], ['for', 396.75, 396.96], ['it', 396.96, 397.16], ['might', 397.16, 397.36], ['be', 397.36, 397.48], ['something', 397.48, 397.9], ['like', 397.9, 398.18], ['windows', 398.18, 398.56], ['A.', 398.56, 398.67], ['I.', 398.67, 398.96], ['but', 399.08, 399.38], ['this', 399.38, 399.53], ['is', 399.53, 399.63], ['all', 399.63, 399.76], ['great', 399.76, 400.01]], [['news', 400.01, 400.26], ['for', 400.26, 400.43], ['developers', 400.43, 400.94], ['right', 400.94, 401.23], ['ever', 401.26, 401.46], ['since', 401.46, 401.67], ['Microsoft', 401.67, 402.18], ['acquired', 402.18, 402.47], ['get', 402.47, 402.66], ['hub', 402.66, 402.98], ['the', 403.02, 403.13], ['developer', 403.13, 403.52], ['experience', 403.52, 404.07], ['has', 404.07, 404.24], ['been', 404.24, 404.38], ['getting', 404.38, 404.64], ['better', 404.64, 404.9], ['and', 404.9, 405.02], ['better', 405.02, 405.43], ['you', 405.48, 405.63], ['can', 405.63, 405.77], ['get', 405.77, 405.9], ['your', 405.9, 406.03], ['get', 406.03, 406.23], ['help', 406.23, 406.41], ['repose', 406.41, 406.82], ['directly', 406.82, 407.2], ['in', 407.2, 407.29], ['the', 407.29, 407.42], ['S.', 407.42, 407.61], ['code', 407.61, 407.98], ['get', 408.01, 408.26], ['help', 408.26, 408.4], ['actions', 408.4, 408.97], ['make', 408.97, 409.13], ['continuous', 409.13, 409.61], ['integration', 409.61, 410.18]], [['super', 410.18, 410.46], ['easy', 410.46, 410.87], ['and', 410.9, 411.09], ['co', 411.09, 411.21], ['pilot', 411.21, 411.64], ['would', 411.67, 411.81], ['just', 411.81, 411.96], ['be', 411.96, 412.08], ['one', 412.08, 412.32], ['more', 412.32, 412.52], ['awesome', 412.52, 412.86], ['feature', 412.86, 413.24], ['to', 413.24, 413.47], ['add', 413.47, 413.76], ['to', 413.76, 413.84], ['the', 413.84, 413.93], ['list', 413.93, 414.37], ['but', 414.44, 414.68], ['it', 414.68, 414.75], ['makes', 414.75, 414.94], ['me', 414.94, 415.06], ['wonder', 415.06, 415.56], ['why', 415.59, 415.77], ['does', 415.77, 415.93], ['Microsoft', 415.93, 416.59], ['one', 416.59, 416.73], ['of', 416.73, 416.81], ['us', 416.81, 416.95], ['developer', 416.95, 417.39], ['so', 417.39, 417.57], ['much', 417.57, 417.95], ['historically', 417.99, 418.73], ['Microsoft', 418.76, 419.29], ['has', 419.29, 419.39], ['not', 419.39, 419.59], ['had', 419.59, 419.76], ['a', 419.76, 419.81], ['great', 419.81, 420.02]], [['relationship', 420.02, 420.63], ['with', 420.63, 420.79], ['developers', 420.79, 421.48], ['just', 421.53, 421.88], ['Google', 421.88, 422.26], ['and', 422.26, 422.51], ['brace', 422.51, 422.88], ['extend', 422.88, 423.51], ['extinguish', 423.51, 424.25], ['modern', 424.28, 424.6], ['Microsoft', 424.6, 425.17], ['has', 425.17, 425.29], ['been', 425.29, 425.42], ['doing', 425.42, 425.63], ['a', 425.63, 425.7], ['lot', 425.7, 425.87], ['of', 425.87, 425.95], ['embracing', 425.95, 426.54], ['and', 426.54, 426.71], ['extending', 426.71, 427.35], ['but', 427.38, 427.58], ['who', 427.58, 427.73], ['knows', 427.73, 427.92], ['if', 427.92, 428.0], ['they', 428.0, 428.1], ['have', 428.1, 428.26], ['any', 428.26, 428.4], ['plans', 428.4, 428.82], ['for', 428.82, 428.98], ['the', 428.98, 429.09], ['extinguished', 429.09, 429.71], ['at', 429.71, 429.93]], [['now', 430.01, 430.3], [\"I'm\", 430.3, 430.49], ['just', 430.49, 430.65], ['joking', 430.65, 430.89], ['around', 430.89, 431.2], ['here', 431.2, 431.55], ['but', 431.61, 431.84], [\"let's\", 431.84, 432.02], ['imagine', 432.02, 432.48], ['that', 432.48, 432.69], ['the', 432.69, 432.78], ['goal', 432.78, 433.12], ['was', 433.12, 433.37], ['to', 433.37, 433.6], ['replace', 433.6, 434.06], ['developers', 434.06, 434.6], ['with', 434.6, 434.76], ['A.', 434.76, 434.89], ['I.', 434.89, 435.18], ['programmers', 435.21, 435.74], ['are', 435.74, 435.89], ['expensive', 435.89, 436.59], ['in', 436.62, 436.77], ['short', 436.77, 437.06], ['supply', 437.06, 437.64], ['and', 437.7, 437.97], ['one', 437.97, 438.07], ['of', 438.07, 438.15], ['the', 438.15, 438.23], ['biggest', 438.23, 438.53], ['expenses', 438.53, 439.13], ['for', 439.13, 439.36], ['any', 439.36, 439.59], ['tech', 439.59, 439.81], ['company', 439.81, 440.25]], [['to', 440.41, 440.58], ['replace', 440.58, 440.94], ['them', 440.94, 441.15], ['you', 441.15, 441.29], ['need', 441.29, 441.43], ['a', 441.43, 441.48], ['four', 441.48, 441.71], ['step', 441.71, 441.94], ['plan', 441.94, 442.33], ['step', 442.37, 442.69], ['one', 442.69, 443.04], ['is', 443.07, 443.27], ['to', 443.27, 443.42], ['get', 443.42, 443.61], ['them', 443.61, 443.77], ['to', 443.77, 443.97], ['Cher', 443.97, 444.3], ['a', 444.3, 444.36], ['bunch', 444.36, 444.55], ['of', 444.55, 444.65], ['public', 444.65, 444.94], ['information', 444.94, 445.59], ['about', 445.59, 445.86], ['their', 445.86, 445.98], ['code', 445.98, 446.41], ['in', 446.44, 446.6], ['step', 446.6, 446.86], ['two', 446.86, 447.27], ['we', 447.31, 447.47], ['use', 447.47, 447.72], ['that', 447.72, 447.91], ['code', 447.91, 448.21], ['to', 448.21, 448.37], ['create', 448.37, 448.61], ['a', 448.61, 448.66], ['product', 448.66, 449.2], ['that', 449.23, 449.34], ['makes', 449.34, 449.52], ['developers', 449.52, 449.98], ['happier', 449.98, 450.45]], [['and', 450.45, 450.62], ['more', 450.62, 450.78], ['productive', 450.78, 451.34], ['the', 451.37, 451.47], ['initial', 451.47, 451.8], ['version', 451.8, 452.07], [\"won't\", 452.07, 452.24], ['be', 452.24, 452.34], ['perfect', 452.34, 452.9], ['but', 452.94, 453.15], ['as', 453.15, 453.36], ['more', 453.36, 453.58], ['and', 453.58, 453.67], ['more', 453.67, 453.81], ['developers', 453.81, 454.27], ['use', 454.27, 454.49], ['it', 454.49, 454.7], ['will', 454.74, 454.9], ['collect', 454.9, 455.32], ['more', 455.32, 455.46], ['and', 455.46, 455.55], ['more', 455.55, 455.7], ['data', 455.7, 456.11], ['and', 456.27, 456.48], ['reinforce', 456.48, 457.09], ['the', 457.09, 457.2], ['existing', 457.2, 457.63], ['algorithm', 457.63, 458.18], ['in', 458.28, 458.43], ['theory', 458.43, 458.87], ['the', 458.9, 459.0], ['algorithm', 459.0, 459.5], ['will', 459.5, 459.59], ['get', 459.59, 459.75], ['so', 459.75, 459.93], ['good', 459.93, 460.31]], [['that', 460.34, 460.51], ['we', 460.51, 460.61], ['no', 460.61, 460.74], ['longer', 460.74, 460.99], ['need', 460.99, 461.17], ['programmers', 461.17, 461.69], ['to', 461.69, 461.8], ['write', 461.8, 462.0], ['code', 462.0, 462.42], ['maybe', 462.45, 462.71], ['just', 462.71, 462.9], ['technicians', 462.9, 463.55], ['who', 463.55, 463.64], ['can', 463.64, 463.76], ['help', 463.76, 463.95], ['guide', 463.95, 464.19], ['the', 464.19, 464.27], ['algorithm', 464.27, 464.8], ['to', 464.8, 464.96], ['the', 464.96, 465.05], ['right', 465.05, 465.26], ['place', 465.26, 465.69], ['at', 465.72, 465.86], ['which', 465.86, 466.06], ['point', 466.06, 466.35], ['you', 466.35, 466.44], ['are', 466.44, 466.54], ['company', 466.54, 466.89], ['can', 466.89, 467.02], ['fire', 467.02, 467.3], [\"it's\", 467.3, 467.43], ['programmers', 467.43, 468.03], ['and', 468.06, 468.28], ['pay', 468.28, 468.41], ['a', 468.41, 468.49], ['bunch', 468.49, 468.68], ['of', 468.68, 468.77], ['artificial', 468.77, 469.33], ['Asher', 469.33, 469.68], ['coders', 469.68, 470.04]], [['by', 470.04, 470.18], ['the', 470.18, 470.29], ['second', 470.29, 470.72], ['copilot', 470.72, 471.23], ['is', 471.23, 471.37], ['free', 471.37, 471.58], ['for', 471.58, 471.72], ['now', 471.72, 472.13], ['and', 472.16, 472.38], ['only', 472.38, 472.6], ['available', 472.6, 473.01], ['through', 473.01, 473.18], ['a', 473.18, 473.28], ['technical', 473.28, 473.71], ['preview', 473.71, 474.22], ['but', 474.31, 474.6], ['they', 474.6, 474.7], ['do', 474.7, 474.85], ['plan', 474.85, 475.11], ['to', 475.11, 475.25], ['develop', 475.25, 475.6], ['it', 475.6, 475.72], ['into', 475.72, 475.97], ['a', 475.97, 476.02], ['commercial', 476.02, 476.43], ['product', 476.43, 476.87], ['in', 476.87, 476.95], ['the', 476.95, 477.01], ['future', 477.01, 477.46], ['D.', 477.73, 477.86], ['W.', 477.86, 478.14], ['S.', 478.14, 478.36], ['or', 478.36, 478.55], ['he', 478.55, 478.62], ['has', 478.62, 478.82], ['to', 478.82, 479.01], ['do', 479.01, 479.2], ['real', 479.2, 479.47], ['for', 479.47, 479.73], ['and', 479.73, 480.0]], [['L.', 480.0, 480.1], ['power', 480.1, 480.41], ['could', 480.41, 480.65], ['recommendations', 480.65, 481.49], ['so', 481.52, 481.68], ['the', 481.68, 481.78], ['big', 481.78, 481.95], ['players', 481.95, 482.26], ['here', 482.26, 482.51], ['are', 482.51, 482.74], ['party', 482.74, 483.03], ['introducing', 483.03, 483.56], ['paid', 483.56, 483.86], ['services', 483.86, 484.46], ['that', 484.46, 484.67], ['will', 484.67, 484.77], ['replace', 484.77, 485.2], ['the', 485.2, 485.29], ['jobs', 485.29, 485.63], ['normally', 485.63, 486.02], ['done', 486.02, 486.28], ['by', 486.28, 486.44], ['human', 486.44, 486.81], ['coders', 486.81, 487.33], [\"we're\", 487.36, 487.5], ['currently', 487.5, 487.89], ['on', 487.89, 488.02], ['step', 488.02, 488.26], ['three', 488.26, 488.44], ['of', 488.44, 488.52], ['the', 488.52, 488.59], ['plan', 488.59, 488.98], ['but', 489.01, 489.28], ['again', 489.28, 489.61], [\"I'm\", 489.61, 489.82], ['just', 489.82, 490.01]], [['joking', 490.01, 490.24], ['around', 490.24, 490.55], ['here', 490.55, 490.85], ['this', 490.88, 491.05], ['is', 491.05, 491.18], ['just', 491.18, 491.34], ['a', 491.34, 491.39], ['meme', 491.39, 491.64], ['channel', 491.64, 492.12], ['I', 492.12, 492.2], ['want', 492.2, 492.4], ['Bill', 492.4, 492.57], ['Gates', 492.57, 492.99], ['and', 492.99, 493.1], ['Microsoft', 493.1, 493.74], ['and', 493.77, 493.9], ['if', 493.9, 493.98], ['you', 493.98, 494.08], ['think', 494.08, 494.25], [\"they're\", 494.25, 494.37], ['motivated', 494.37, 494.92], ['by', 494.92, 495.18], ['anything', 495.21, 495.6], ['beyond', 495.6, 495.95], ['their', 495.95, 496.09], ['genuine', 496.09, 496.54], ['buyer', 496.54, 496.79], ['for', 496.79, 497.04], ['developers', 497.04, 497.66], ['then', 497.69, 497.82], ['you', 497.82, 497.91], ['must', 497.91, 498.09], ['be', 498.09, 498.16], ['the', 498.16, 498.25], ['kind', 498.25, 498.4], ['of', 498.4, 498.47], ['person', 498.47, 498.87], ['who', 498.87, 499.01], ['thinks', 499.01, 499.29], ['two', 499.29, 499.45], ['plus', 499.45, 499.73], ['two', 499.73, 499.98], ['equals', 499.98, 500.35]], [['four', 500.35, 500.79], ['all', 500.82, 500.98], ['I', 500.98, 501.04], ['ask', 501.04, 501.4], ['is', 501.4, 501.49], ['that', 501.49, 501.62], ['you', 501.62, 501.72], ['have', 501.72, 501.9], ['like', 501.9, 502.21], ['and', 502.21, 502.41], ['subscribe', 502.41, 502.8], ['my', 502.8, 502.93], ['channel', 502.93, 503.4], ['so', 503.4, 503.54], ['I', 503.54, 503.6], ['can', 503.6, 503.74], ['keep', 503.74, 503.95], ['you', 503.95, 504.11], ['updated', 504.11, 504.57], ['on', 504.57, 504.78], ['the', 504.78, 504.85], ['latest', 504.85, 505.2], ['tool', 505.2, 505.49], ['sit', 505.49, 505.68], ['in', 505.68, 505.77], ['our', 505.77, 505.88], ['industry', 505.88, 506.36], ['thanks', 506.39, 506.6], ['for', 506.6, 506.71], ['watching', 506.71, 507.24], ['and', 507.27, 507.51], ['I', 507.51, 507.6], ['will', 507.6, 507.81], ['see', 507.81, 508.04], ['you', 508.04, 508.19], ['in', 508.19, 508.35], ['the', 508.35, 508.42], ['next', 508.42, 508.69], ['one', 508.69, 508.94]]]\n"
     ]
    }
   ],
   "source": [
    "# put words in 10 second sections\n",
    "t, end = 0, timestamps[-1][1]\n",
    "sections, section = [], []\n",
    "while t < end:\n",
    "    t += 10\n",
    "    timestamps = timestamps[len(section):]\n",
    "    section = []\n",
    "    for timestamp in timestamps:\n",
    "        if timestamp[1] < t:\n",
    "            section.append(timestamp)\n",
    "        else:\n",
    "            break\n",
    "    sections.append(section)\n",
    "print(sections)"
   ]
  },
  {
   "cell_type": "code",
   "execution_count": 76,
   "metadata": {},
   "outputs": [
    {
     "data": {
      "text/plain": [
       "1992"
      ]
     },
     "execution_count": 76,
     "metadata": {},
     "output_type": "execute_result"
    }
   ],
   "source": [
    "l = [len(section) for section in sections]\n",
    "sum(l)"
   ]
  },
  {
   "cell_type": "code",
   "execution_count": 1,
   "metadata": {},
   "outputs": [
    {
     "ename": "NameError",
     "evalue": "name 'YouTube' is not defined",
     "output_type": "error",
     "traceback": [
      "\u001b[0;31m---------------------------------------------------------------------------\u001b[0m",
      "\u001b[0;31mNameError\u001b[0m                                 Traceback (most recent call last)",
      "\u001b[0;32m/var/folders/n1/w0jj77mn7yv1tywxf17vqh300000gn/T/ipykernel_30246/2177857657.py\u001b[0m in \u001b[0;36m<module>\u001b[0;34m\u001b[0m\n\u001b[1;32m      3\u001b[0m \u001b[0;34m\u001b[0m\u001b[0m\n\u001b[1;32m      4\u001b[0m \u001b[0murl\u001b[0m \u001b[0;34m=\u001b[0m \u001b[0;34m\"https://www.youtube.com/watch?v=DjdECYIfGgY\"\u001b[0m\u001b[0;34m\u001b[0m\u001b[0;34m\u001b[0m\u001b[0m\n\u001b[0;32m----> 5\u001b[0;31m \u001b[0myt\u001b[0m \u001b[0;34m=\u001b[0m \u001b[0mYouTube\u001b[0m\u001b[0;34m(\u001b[0m\u001b[0murl\u001b[0m\u001b[0;34m)\u001b[0m\u001b[0;34m\u001b[0m\u001b[0;34m\u001b[0m\u001b[0m\n\u001b[0m\u001b[1;32m      6\u001b[0m \u001b[0;34m\u001b[0m\u001b[0m\n\u001b[1;32m      7\u001b[0m \u001b[0;32mtry\u001b[0m\u001b[0;34m:\u001b[0m\u001b[0;34m\u001b[0m\u001b[0;34m\u001b[0m\u001b[0m\n",
      "\u001b[0;31mNameError\u001b[0m: name 'YouTube' is not defined"
     ]
    }
   ],
   "source": [
    "# Transcription pipeline\n",
    "# Create Youtube object with a link\n",
    "\n",
    "url = \"https://www.youtube.com/watch?v=DjdECYIfGgY\"\n",
    "yt = YouTube(url)\n",
    "\n",
    "try:\n",
    "#     Use youtube caption\n",
    "    c = find_en_caption(yt)\n",
    "    if c:\n",
    "        caption = YoutubeCaption(c.generate_srt_captions())\n",
    "        print(\"YoutubeCaption created\")\n",
    "    else:\n",
    "#     use Watson API\n",
    "        speech_recognition_result = generate_watson_caption(yt)\n",
    "        \n",
    "        caption = WatsonCaption(speech_recognition_result)\n",
    "        print(\"WatsonCaption created\")\n",
    "except:\n",
    "    print(\"no caption created\")\n",
    "    pass"
   ]
  },
  {
   "cell_type": "code",
   "execution_count": 48,
   "metadata": {},
   "outputs": [
    {
     "ename": "AttributeError",
     "evalue": "'NoneType' object has no attribute 'generate_srt_captions'",
     "output_type": "error",
     "traceback": [
      "\u001b[0;31m---------------------------------------------------------------------------\u001b[0m",
      "\u001b[0;31mAttributeError\u001b[0m                            Traceback (most recent call last)",
      "\u001b[0;32m<ipython-input-48-acca730e0f2b>\u001b[0m in \u001b[0;36m<module>\u001b[0;34m\u001b[0m\n\u001b[0;32m----> 1\u001b[0;31m \u001b[0myoutube\u001b[0m \u001b[0;34m=\u001b[0m \u001b[0mYoutubeCaption\u001b[0m\u001b[0;34m(\u001b[0m\u001b[0mc\u001b[0m\u001b[0;34m.\u001b[0m\u001b[0mgenerate_srt_captions\u001b[0m\u001b[0;34m(\u001b[0m\u001b[0;34m)\u001b[0m\u001b[0;34m)\u001b[0m\u001b[0;34m\u001b[0m\u001b[0;34m\u001b[0m\u001b[0m\n\u001b[0m\u001b[1;32m      2\u001b[0m \u001b[0mwatson\u001b[0m \u001b[0;34m=\u001b[0m \u001b[0mWatsonCaption\u001b[0m\u001b[0;34m(\u001b[0m\u001b[0mspeech_recognition_results_US\u001b[0m\u001b[0;34m)\u001b[0m\u001b[0;34m\u001b[0m\u001b[0;34m\u001b[0m\u001b[0m\n",
      "\u001b[0;31mAttributeError\u001b[0m: 'NoneType' object has no attribute 'generate_srt_captions'"
     ]
    }
   ],
   "source": [
    "youtube = YoutubeCaption(c.generate_srt_captions())\n",
    "watson = WatsonCaption(speech_recognition_results_US)"
   ]
  },
  {
   "cell_type": "code",
   "execution_count": 66,
   "metadata": {},
   "outputs": [
    {
     "data": {
      "text/plain": [
       "[{'section': 1,\n",
       "  'time': '0.0:120.0',\n",
       "  'subtitle': \"Hey guys news Justin by now stop old withdrawals in U. K. this is a really important element that is a major concern for any U. K. customers were using bina in fact I think this might be of concern to any other point of Christmas as well because if this is the response the finances going within U. K. one of a similar situation with the regulator was cool right in another country in the future anyway so today's news has broken up by NASA blocked old card withdrawal from the platform for you to use in this news comes in the back of the bank account withdrawals by a past the payment being blocked yesterday so this leave anybody in U. K. we've known by a way of getting that money out of finance this is a massive massive problem thank you you may be able to make it out to another platform but then you'll need to have an account now you have to Kerry at the transfer and then cash out from the other possible this is presuming the crypto transferred and get bands just like cash and card withdrawals already happy and for U. K. customers oldest comes on the back of the S. U. decision to buy I'm buying them on Friday last week I made a video about that were explain in detail exactly what happened feel free to check out the description below I like most of the comedy because I actually read that the note is not that much short a warning because the notice explained everything a lot more detail unfortunately quite a few people left coming from that you're saying that I am wrong and I. bypasses north bound but unfortunately that's just not correct the FAA has specifically said the need the finance market limited the U. K. coming no any other part of buying a group have S. C. permissions to run a regulated activities and U. K. buying a crypto is not regulated activity in U. K. I knew that but operating an exchange the last people to transfer money and buy and sell crypto ease a regulated entity so while the customers I'm not doing anything wrong with the operational Curtis change without being properly registered with the FDA is illegal in the U. K. and presumably this is what has caused the issues with the payments to okay so now if you \"},\n",
       " {'section': 2,\n",
       "  'time': '120.0:239.71',\n",
       "  'subtitle': \"live in U. K. and you have an account with by now the only two methods available for withdrawing pound starting back to your current account for whatever else %HESITATION both unavailable they have both mysteriously disappeared and being placed on the maintenance now over the weekend by has been lined the way any issues at all they said the best movie just in no way affect anything on the ramp or a minor dot com on Twitter by police to the chain that said we are aware of recent reports about next year you could notice in relation to finance markets limited B. M. L. B. a male is a separate legal entity and does not offer any products or services by %HESITATION by Nance dot the by nine dot com website the Bynum group acquired B. M. L. may twenty twenty and has not get lost if you can %HESITATION use this S. yeah regulation commission for questions please be email please contact compliance a binder U. K. I'm gonna continue to spread the S. C. you can I just have no direct impact on the service provided a minus dot com I relationship with a user has not changed we think the collaborative approach and working with regulators and we take a compliance obligations very seriously we are actively keeping abreast of changing policies rules and laws and you space it appears that this thread was somewhat misleading I would argue that the fact that you take a longer withdrawal money from the pineapple by any means within hours of the threes going up definitely a direct impact on the services provided abundance dot com and the relationship with users have most definitely changed they also they said that they take a collaborative approach him working with regulations but reports of the last couple days have just the opposite I cannot verify these reports but it has been reported very different force the by now it's pulled out of the process of registration would be S. A. F. U. either in may or June I missed a call from the SCA came shortly after that happened apparently the reason for pulling out of because the regulators wanted to know more information about finances company structure that for regal struck an old all the information \"},\n",
       " {'section': 3,\n",
       "  'time': '240.0:243.78',\n",
       "  'subtitle': 'but by now I did not want to disclose and there in lies '},\n",
       " {'section': 4,\n",
       "  'time': '244.81:279.04',\n",
       "  'subtitle': 'problem financial company does not want to disclose basic operational information to regulate the every other financial company that is authorized and regulated Nikkei does disclose surely question marks would naturally appear why would you pull out of the registration process what information is buying us wanting to hide from the regulated to the point of pulling out of the registration process well that information is requested with the payments yesterday it is not clear exactly what happened did faster payments block by now from being a personal payment %HESITATION the bi have simply stopped processing this payment '},\n",
       " {'section': 5,\n",
       "  'time': '279.92:308.24',\n",
       "  'subtitle': \"today's development would cost is much more serious the guardian is reporting that the visa spokesperson said there were no issues with his service and they %HESITATION the company providing the facility to buy now full coverage rules so based on that sounds are buying out some decided unilaterally to stop U. K. customers from being able to take the money out and this is extremely boring and concerning because that is a very bad sign I hope this actually is some we have temporary blog I read you read \"},\n",
       " {'section': 6,\n",
       "  'time': '309.12:312.1',\n",
       "  'subtitle': 'history shows that too often this is a very bad sign '},\n",
       " {'section': 7,\n",
       "  'time': '312.91:382.56',\n",
       "  'subtitle': \"now in the last few minutes not west to become the Lakers bank to block transfers to crypt those changes including finance joining a long list that is growing very fast W. T. bank %HESITATION service company so then exactly the same thing in the last few days is that you know how to find U. K. bank the dazzle out unfortunately it appears a bina I choosing to ignore this whole issue as if nothing happened there's been no update Adil Ahmed Twitter which is their primary social media account it seems I don't know about the payment situation you pay many customers are reporting absolutely no response to the queries and anytime that twisted by now since with the keep celebrating right at G. emails record number the transaction and I've even posted a letter from the U. K. southeastern regional organized crime unit which thanks for the help of battling illegal activities now if a company that holds the money decides to hold onto it and stop you from being able to get it back stop C. B. M. to access it would you expect them to maybe say something about it make some kind of a now according to financial times check out dot com pay you pay I'm clear junction %HESITATION involved in the processing of payments for you get customers from buying and all of them have declined to comment on the situation \"},\n",
       " {'section': 8,\n",
       "  'time': '383.61:399.03',\n",
       "  'subtitle': \"you make your own decisions as to what's happening it is clear that something's happening and it isn't looking good I hope you find it useful if you have please if you get hit the like button because I'm sure a lot of people are going to be doing the exact opposite thank you so much for watching every we appreciate another way I'll see you guys later \"}]"
      ]
     },
     "execution_count": 66,
     "metadata": {},
     "output_type": "execute_result"
    }
   ],
   "source": [
    "caption.full_text()\n",
    "caption.sectionlist"
   ]
  },
  {
   "cell_type": "code",
   "execution_count": null,
   "metadata": {},
   "outputs": [],
   "source": [
    "# Testing code\n",
    "\n",
    "# for c in yt.caption_tracks:\n",
    "#     print(c)\n",
    "\n",
    "caption.text.replace(\"\\'\",\"\")"
   ]
  },
  {
   "cell_type": "code",
   "execution_count": 70,
   "metadata": {},
   "outputs": [],
   "source": [
    "# import json \n",
    "\n",
    "# with open('example_watsoncaption.txt', 'w') as f:\n",
    "#     f.writelines(json.dumps(caption.sectionlist))"
   ]
  },
  {
   "cell_type": "markdown",
   "metadata": {},
   "source": [
    "# example output Youtube SRT caption.generate_srt_captions()\n",
    "\"\"\"'1\\n00:00:00,000 --> 00:00:07,000\\nTranscriber: Victor Borges Reviewer: David DeRuwe\\n\\n2\\n00:00:11,791 --> 00:00:12,799\\nWow,\\n\\n3\\n00:00:13,030 --> 00:00:14,220\\nwhat an audience.\\n\\n4\\n00:00:14,515 --> 00:00:17,531\\nBut if I\\'m being honest, I don\\'t care what you think of my talk.\\n\\n5\\n00:00:18,097 --> 00:00:19,101\\nI don\\'t.\\n\\n6\\n00:00:19,101 --> 00:00:21,100\\nI care what the internet thinks of my talk.\\n\\n7\\n00:00:21,100 --> 00:00:22,101\\n(Laughter)\\n\\n8\\n00:00:22,101 --> 00:00:24,579\\nBecause they are the ones who get it seen and shared.\\n\\n9\\n00:00:24,579 --> 00:00:26,907\\nAnd I think that\\'s where most people get it wrong.\\n\\n10\\n00:00:26,907 --> 00:00:28,574\\nThey\\'re talking to you, here,\\n\\n11\\n00:00:28,660 --> 00:00:33,290\\ninstead of talking to you, random person scrolling Facebook.\\n\\n12\\n00:00:34,323 --> 00:00:35,503\\nThanks for the click.\\n\\n13\\n00:00:36,141 --> 00:00:37,825\\nYou see, back in 2009,\\n\\n14\\n00:00:37,855 --> 00:00:41,400\\nwe all had these weird little things called attention spans.\\n\\n15\\n00:00:41,400 --> 00:00:42,400\\n(Laughter)\\n\\n16\\n00:00:42,400 --> 00:00:45,596\\nYeah, they\\'re gone. They\\'re gone. We killed them. They\\'re dead.\\n\\n17\\n00:00:46,287 --> 00:00:50,060\\nI\\'m trying to think of the last time I watched an 18-minute TED talk.\\n\\n18\\n00:00:50,140 --> 00:00:52,640\\nIt\\'s been years, literally years.\\n\\n19\\n00:00:52,865 --> 00:00:55,560\\nSo if you\\'re giving a TED talk, keep it quick.\\n\\n20\\n00:00:55,700 --> 00:00:57,500\\nI\\'m doing mine in under a minute.\\n\\n21\\n00:00:57,560 --> 00:00:59,155\\nI\\'m at 44 seconds right now;\\n\\n22\\n00:00:59,155 --> 00:01:01,283\\nthat means we\\'ve got time for one final joke.\\n\\n23\\n00:01:01,450 --> 00:01:04,500\\nWhy are balloons so expensive?\\n\\n24\\n00:01:04,580 --> 00:01:05,705\\n(Audience) \"Why?\"\\n\\n25\\n00:01:05,705 --> 00:01:06,941\\nWoody Roseland: Inflation.\\n\\n26\\n00:01:06,941 --> 00:01:08,000\\n(Laughter)\\n\\n27\\n00:01:08,000 --> 00:01:10,666\\n(Applause)'\"\"\""
   ]
  },
  {
   "cell_type": "markdown",
   "metadata": {},
   "source": [
    "# example output: speech_recognition_results_US\n",
    "\"\"\"\n",
    "{'result_index': 0, 'results': [{'final': True, 'alternatives': [{'transcript': '%HESITATION ', 'confidence': 0.79, 'timestamps': [['%HESITATION', 0.0, 0.64]]}]}, {'final': True, 'alternatives': [{'transcript': 'wow ', 'confidence': 0.96, 'timestamps': [['wow', 11.79, 12.17]]}]}, {'final': True, 'alternatives': [{'transcript': \"what an audience but if I'm being honest I don't care what you think of my talk \", 'confidence': 0.84, 'timestamps': [['what', 13.04, 13.25], ['an', 13.25, 13.34], ['audience', 13.34, 13.9], ['but', 14.5, 14.64], ['if', 14.64, 14.71], [\"I'm\", 14.71, 14.79], ['being', 14.79, 15.0], ['honest', 15.0, 15.47], ['I', 15.81, 15.9], [\"don't\", 15.9, 16.07], ['care', 16.07, 16.23], ['what', 16.23, 16.32], ['you', 16.32, 16.41], ['think', 16.41, 16.57], ['of', 16.57, 16.63], ['my', 16.63, 16.72], ['talk', 16.72, 17.13]]}]}, {'final': True, 'alternatives': [{'transcript': \"I don't like you're the internet thanks my talk \", 'confidence': 0.77, 'timestamps': [['I', 18.15, 18.26], [\"don't\", 18.26, 18.52], ['like', 19.02, 19.16], [\"you're\", 19.16, 19.3], ['the', 19.3, 19.45], ['internet', 19.45, 19.77], ['thanks', 19.77, 19.98], ['my', 19.98, 20.16], ['talk', 20.16, 20.54]]}]}, {'final': True, 'alternatives': [{'transcript': \"because they're the ones who get it seen and get a Cher and I think that's where most people get it wrong you're talking to you here sort of talking to you random person scrolling Facebook \", 'confidence': 0.83, 'timestamps': [['because', 21.84, 21.95], [\"they're\", 21.95, 22.11], ['the', 22.11, 22.21], ['ones', 22.21, 22.47], ['who', 22.47, 22.56], ['get', 22.56, 22.68], ['it', 22.68, 22.79], ['seen', 22.79, 23.25], ['and', 23.29, 23.45], ['get', 23.45, 23.56], ['a', 23.56, 23.61], ['Cher', 23.61, 24.02], ['and', 24.44, 24.58], ['I', 24.58, 24.63], ['think', 24.63, 24.84], [\"that's\", 24.84, 24.99], ['where', 24.99, 25.11], ['most', 25.11, 25.38], ['people', 25.38, 25.59], ['get', 25.59, 25.72], ['it', 25.72, 25.8], ['wrong', 25.8, 26.2], [\"you're\", 26.37, 26.5], ['talking', 26.5, 26.78], ['to', 26.78, 26.86], ['you', 26.86, 27.28], ['here', 27.59, 28.22], ['sort', 28.68, 28.93], ['of', 28.93, 29.0], ['talking', 29.0, 29.28], ['to', 29.28, 29.35], ['you', 29.35, 29.77], ['random', 30.08, 30.71], ['person', 30.75, 31.41], ['scrolling', 31.58, 32.36], ['Facebook', 32.43, 33.22]]}]}, {'final': True, 'alternatives': [{'transcript': 'thanks for the quick ', 'confidence': 0.71, 'timestamps': [['thanks', 34.36, 34.61], ['for', 34.61, 34.68], ['the', 34.68, 34.77], ['quick', 34.77, 35.17]]}]}, {'final': True, 'alternatives': [{'transcript': 'you see back in two thousand nine we all had these weird little things called attention spans ', 'confidence': 0.93, 'timestamps': [['you', 36.17, 36.33], ['see', 36.33, 36.54], ['back', 36.54, 36.85], ['in', 36.85, 36.96], ['two', 36.96, 37.15], ['thousand', 37.15, 37.58], ['nine', 37.58, 37.87], ['we', 37.87, 38.0], ['all', 38.0, 38.17], ['had', 38.17, 38.39], ['these', 38.39, 38.61], ['weird', 38.61, 38.98], ['little', 38.98, 39.18], ['things', 39.18, 39.57], ['called', 39.57, 40.09], ['attention', 40.35, 40.83], ['spans', 40.83, 41.58]]}]}, {'final': True, 'alternatives': [{'transcript': \"yeah they're gone they're gone we killed in the day \", 'confidence': 0.61, 'timestamps': [['yeah', 42.39, 42.64], [\"they're\", 42.76, 42.92], ['gone', 42.92, 43.21], [\"they're\", 43.27, 43.4], ['gone', 43.4, 43.61], ['we', 43.61, 43.72], ['killed', 43.72, 43.98], ['in', 43.98, 44.14], ['the', 44.8, 44.94], ['day', 44.94, 45.26]]}]}, {'final': True, 'alternatives': [{'transcript': \"I'm trying to think of the last time I watched and eighteen minutes had talked it's been years literally years so did you have any pets talk keep it quick I'm doing mine in under a minute \", 'confidence': 0.89, 'timestamps': [[\"I'm\", 46.28, 46.45], ['trying', 46.45, 46.65], ['to', 46.65, 46.72], ['think', 46.72, 46.91], ['of', 46.91, 46.99], ['the', 46.99, 47.08], ['last', 47.08, 47.4], ['time', 47.4, 47.66], ['I', 47.66, 47.88], ['watched', 47.88, 48.3], ['and', 48.3, 48.45], ['eighteen', 48.48, 48.93], ['minutes', 48.93, 49.24], ['had', 49.24, 49.44], ['talked', 49.44, 49.82], [\"it's\", 50.16, 50.25], ['been', 50.25, 50.44], ['years', 50.44, 50.81], ['literally', 51.1, 51.7], ['years', 51.76, 52.21], ['so', 52.86, 53.03], ['did', 53.03, 53.21], ['you', 53.21, 53.27], ['have', 53.27, 53.37], ['any', 53.37, 53.52], ['pets', 53.52, 53.82], ['talk', 53.82, 54.17], ['keep', 54.6, 54.83], ['it', 54.83, 54.92], ['quick', 54.92, 55.45], [\"I'm\", 55.71, 55.88], ['doing', 55.88, 56.1], ['mine', 56.1, 56.34], ['in', 56.34, 56.43], ['under', 56.43, 56.64], ['a', 56.64, 56.71], ['minute', 56.71, 57.04]]}]}, {'final': True, 'alternatives': [{'transcript': 'forty four seconds right now that means you got time for one final joke why are balloons so expensive ', 'confidence': 0.95, 'timestamps': [['forty', 57.93, 58.11], ['four', 58.11, 58.33], ['seconds', 58.33, 58.71], ['right', 58.71, 58.93], ['now', 58.93, 59.1], ['that', 59.1, 59.26], ['means', 59.26, 59.42], ['you', 59.42, 59.5], ['got', 59.5, 59.68], ['time', 59.68, 59.92], ['for', 59.92, 60.04], ['one', 60.04, 60.26], ['final', 60.26, 60.58], ['joke', 60.58, 61.04], ['why', 61.43, 62.01], ['are', 62.12, 62.3], ['balloons', 62.3, 63.04], ['so', 63.09, 63.34], ['expensive', 63.34, 64.2]]}]}, {'final': True, 'alternatives': [{'transcript': 'inflation ', 'confidence': 0.88, 'timestamps': [['inflation', 65.76, 66.45]]}]}]}\n",
    "\"\"\"\n"
   ]
  }
 ],
 "metadata": {
  "kernelspec": {
   "display_name": "Python 3 (ipykernel)",
   "language": "python",
   "name": "python3"
  },
  "language_info": {
   "codemirror_mode": {
    "name": "ipython",
    "version": 3
   },
   "file_extension": ".py",
   "mimetype": "text/x-python",
   "name": "python",
   "nbconvert_exporter": "python",
   "pygments_lexer": "ipython3",
   "version": "3.9.5"
  }
 },
 "nbformat": 4,
 "nbformat_minor": 4
}
