{
 "cells": [
  {
   "cell_type": "code",
   "execution_count": 2,
   "id": "94919ea4",
   "metadata": {},
   "outputs": [],
   "source": [
    "from caption import pipeline\n",
    "from bertQA import qa\n",
    "import json\n",
    "import time"
   ]
  },
  {
   "cell_type": "code",
   "execution_count": 3,
   "id": "f76b05cc",
   "metadata": {},
   "outputs": [
    {
     "name": "stdout",
     "output_type": "stream",
     "text": [
      "YoutubeCaption created\n",
      "Using BERT original\n",
      "time passed: 16.41398310661316 , answer: No answer found.\n",
      "Using BERT original\n",
      "time passed: 14.994192123413086 , answer: angular a typescript - based framework for building user interfaces\n",
      "YoutubeCaption created\n",
      "Using Longformer\n",
      "time passed: 91.43996119499207 , answer: No answer found.\n",
      "Using Longformer\n",
      "time passed: 93.72259283065796 , answer:  trading212\n"
     ]
    }
   ],
   "source": [
    "def qa_tests(qa):\n",
    "#     short videos: angular\n",
    "    caption = pipeline('https://www.youtube.com/watch?v=Ata9cSC2WpM')\n",
    "    text = caption[\"caption_fulltext\"]\n",
    "    \n",
    "# short & no answer\n",
    "    question = 'what is the cheapest Investing App In the UK?'\n",
    "    time_function(question, text)\n",
    "# short & answer\n",
    "    question = 'what is angular'\n",
    "    time_function(question, text)\n",
    "    \n",
    "# long & no answer\n",
    "    caption = pipeline('https://www.youtube.com/watch?v=bHOeacf8GkY')\n",
    "    text = caption[\"caption_fulltext\"]\n",
    "    question = 'what is the angular?'\n",
    "    \n",
    "    time_function(question, text)\n",
    "# long & answer\n",
    "    question = 'what is the cheapest Investing App In the UK?'\n",
    "    time_function(question, text)\n",
    "\n",
    "def time_function(question, text):\n",
    "    start = time.time()\n",
    "    answer = qa(question, text)\n",
    "    end = time.time()\n",
    "    print('time passed:', end - start, ', answer:', answer)\n",
    "\n",
    "qa_tests(qa)"
   ]
  },
  {
   "cell_type": "markdown",
   "id": "66394985",
   "metadata": {},
   "source": [
    "Note: (BERT) ~7 seconds per 1 minute video"
   ]
  },
  {
   "cell_type": "markdown",
   "id": "48c9869a",
   "metadata": {},
   "source": [
    "## Search test code"
   ]
  },
  {
   "cell_type": "code",
   "execution_count": 13,
   "id": "e4dd14d5",
   "metadata": {},
   "outputs": [
    {
     "data": {
      "text/plain": [
       "{'status': 200,\n",
       " 'videoId': 'TNhaISOUy6Q',\n",
       " 'videoTitle': '10 React Hooks Explained // Plus Build your own from Scratch',\n",
       " 'videoLength': 794,\n",
       " 'caption_sections': '[{\"section\": 1, \"time\": \"0.28:10.37\", \"subtitle\": \"react hooks use features of the react framework by calling special hook functions from within a component we can build static work done components and react by writing functions however\"}, {\"section\": 2, \"time\": \"10.46:20.36\", \"subtitle\": \"you I. components are often dynamic they may need to change the state of their data reacted lifecycle events access elements from the dom among many other things but prior to react\"}, {\"section\": 3, \"time\": \"20.36:30.08\", \"subtitle\": \"version sixteen point eight developers were required to write classes to take advantage of certain react features now you can still use classes and react but cooks generally providing more ergonomic\"}, {\"section\": 4, \"time\": \"30.08:40.13\", \"subtitle\": \"way to build components because you can reuse staple logic without changing your component hierarchy react has ten built in hooks and you\\'ll understand what every single one of them does by the end of today\\'s\"}, {\"section\": 5, \"time\": \"40.13:50.06\", \"subtitle\": \"video in addition you\\'ll learn how to build your own hooks from scratch to extract your own component logic into reusable functions if you\\'re new here like and subscribe and consider becoming a pro\"}, {\"section\": 6, \"time\": \"50.06:60.02\", \"subtitle\": \"member Aspyr ship by you know to get access to my upcoming next firebase course if you\\'re new to react it\\'s helpful to understand why hooks exist in the first place in the past staple\"}, {\"section\": 7, \"time\": \"60.02:70.38\", \"subtitle\": \"logic for data that changes within the application was tightly coupled to a class based component that means in order to work with reactive data you needed to create a component that seems reasonable\"}, {\"section\": 8, \"time\": \"70.52:80.18\", \"subtitle\": \"but what what you in reality was that complex tree %HESITATION of nested components no don\\'t like that and this is where I have to admit that I used to really just like react\"}, {\"section\": 9, \"time\": \"80.24:90.25\", \"subtitle\": \"because sure in any logic required some frustrating ju jitsu like higher order components and render props which are patterns that have you passing components as arguments to other components\"}, {\"section\": 10, \"time\": \"90.3:99.98\", \"subtitle\": \"and I just always felt way more complex to meet them patterns you find in other frameworks like angular fortunately hooks changed everything by giving you access to lower level features up react\"}, {\"section\": 11, \"time\": \"100.1:110.04\", \"subtitle\": \"outside of the context of a component when you work with her ex you can think of them like low level primitives of the react framework that give you special abilities that you wouldn\\'t otherwise have in the know what Java script\"}, {\"section\": 12, \"time\": \"110.21:120.05\", \"subtitle\": \"hooks themselves are functions which always start with the name of the use because you\\'re using the super powers of the react framework now before you start using her ex there\\'s really just one really\"}, {\"section\": 13, \"time\": \"120.05:129.96\", \"subtitle\": \"should be aware of and that\\'s to only call them at the top level of a functional component they don\\'t work inside of regular Java scrip functions nested functions loops or anything like that\"}, {\"section\": 14, \"time\": \"130.05:140.06\", \"subtitle\": \"the only exception to this rule is when building your own custom hooks which will look at towards the end of the video now the question becomes what are these primitives were hooks actually do let\\'s break them down one by\"}, {\"section\": 15, \"time\": \"140.06:150.07\", \"subtitle\": \"one starting with you state you state is usually the most important and often use tech to import it into react up type use N. C. I. D. E. and that should give you a list\"}, {\"section\": 16, \"time\": \"150.1:160.13\", \"subtitle\": \"of all the hooks that are available to you hi like you state and hit enter to automatically imported from react the purpose of you state is to handle reactive data any data\"}, {\"section\": 17, \"time\": \"160.13:170.46\", \"subtitle\": \"that changes in the application is called state and when the state changes you won\\'t react to update the U. Y. so the latest changes are reflected to the end user the hook takes one optional argument\"}, {\"section\": 18, \"time\": \"170.49:180.15\", \"subtitle\": \"which is the default state which will go head and set to zero the function returns an array that contains two values you can use within your component the reason I returned in an array is\"}, {\"section\": 19, \"time\": \"180.15:190.37\", \"subtitle\": \"because we can D. structure them with Java script to easily assigned the values to local variables that we can name whatever we want the first value is the reactive data or state if within reference\"}, {\"section\": 20, \"time\": \"190.37:200.07\", \"subtitle\": \"IT and the why and its value changes in the future react to automatically rebuild the U. Y. to show the latest value it\\'ll start with a value of zero our default in the hook but\"}, {\"section\": 21, \"time\": \"200.07:210.04\", \"subtitle\": \"how do we didn\\'t change its value in the future the second element in the array is a setter function for example we might listen to the on clicking on the button and when clicked we\\'ll call this that\"}, {\"section\": 22, \"time\": \"210.04:220.08\", \"subtitle\": \"count function to increment account by one if we compare this code it to a class based component you can see it\\'s far more complex we need a class to extend a react component in a constructor to\"}, {\"section\": 23, \"time\": \"220.08:230.25\", \"subtitle\": \"initialize the state and also notice how are required to reference the this keyword all over the place you state and my opinion is a much cleaner solution now we\\'re ready to tackle the second most important\"}, {\"section\": 24, \"time\": \"230.25:240.05\", \"subtitle\": \"hook use the fact which also happens to be one of the most confusing and in order to understand it you first need to understand the component lifecycle here in our whole class component work implement\"}, {\"section\": 25, \"time\": \"240.05:250.01\", \"subtitle\": \"E. methods to handle different life cycle events here\\'s a simplified breakdown of the component life cycle the component is added to the U. Y. or mounted which can only happen once\"}, {\"section\": 26, \"time\": \"250.13:259.98\", \"subtitle\": \"then reactive data on the component can change or it\\'s updated which can happen multiple times then finally at some point the component will be removed from the U. Y. or unmounted\"}, {\"section\": 27, \"time\": \"260.34:270.48\", \"subtitle\": \"now keep these three lifecycle events for side effects in mind as we talk about the use of factor which allows us to implement logic for all of them from within a single function API\"}, {\"section\": 28, \"time\": \"271.03:279.86\", \"subtitle\": \"use the fact is a function that takes a function you define as its first argument react within run your function or side of fact after it is updated the dom\"}, {\"section\": 29, \"time\": \"280.01:290.09\", \"subtitle\": \"with the current implementation it will run this function any time staple data changes on the component that means they\\'ll run once when the component is initialized with the default value then run again\"}, {\"section\": 30, \"time\": \"290.12:300.79\", \"subtitle\": \"each time the state or account is updated in most cases though you\\'ll likely want more fine grained control over that behavior for example imagine we need to fetch data when the component is first initialized\"}, {\"section\": 31, \"time\": \"300.84:310.11\", \"subtitle\": \"then update the state asynchronously after the data has been faxed this code would result in an infinite loop because every time we do the fetch with an update the state which then triggers\"}, {\"section\": 32, \"time\": \"310.11:320.05\", \"subtitle\": \"another batch and someone forever the way we address this is by adding a second argument to use a fact which is an array of dependencies if you add an empty array it means there\"}, {\"section\": 33, \"time\": \"320.05:330.31\", \"subtitle\": \"are no dependencies which means it will only run once when the component is first initialized but in other cases you might want to re run the function any time certain staple data has changed\"}, {\"section\": 34, \"time\": \"330.34:340.05\", \"subtitle\": \"you can do that by adding the state to the dependencies right now react will track that value and any time it changes it will re run this function now one last thing you might want to do with you is the\"}, {\"section\": 35, \"time\": \"340.05:350.0\", \"subtitle\": \"fact is run some tear down code when the component is destroyed the way we implemented a tear down function is to return a function from our use a fax call back react\"}, {\"section\": 36, \"time\": \"350.0:360.01\", \"subtitle\": \"will take the function returns here then call it when the component is destroyed and with that let\\'s move on to our next tech use context this allows you to work with remax calling to\"}, {\"section\": 37, \"time\": \"360.13:370.2\", \"subtitle\": \"stay PI which itself is a mechanism that allows you to Cher or scope values throughout the entire componentry let\\'s imagine we have an object called nudes that can be happy or\"}, {\"section\": 38, \"time\": \"370.2:380.26\", \"subtitle\": \"sad to show the current mood across multiple disconnected components we can create a context one part of the application might be happy so we use a contact provider to\"}, {\"section\": 39, \"time\": \"380.26:390.08\", \"subtitle\": \"scope the happy mood there now any child component inside of it can inherit that value without needing to pass props down to the children and that finally brings us to the use\"}, {\"section\": 40, \"time\": \"390.08:400.12\", \"subtitle\": \"contacts correct it allows us to access or consume the current value from the contacts provider which might live many levels higher in the componentry Reno Perrin value with these contacts\"}, {\"section\": 41, \"time\": \"400.15:410.02\", \"subtitle\": \"is much easier than passing props down through multiple children now to me changes from happy to sad and the Perrin provider the value here will be updated automatically now\"}, {\"section\": 42, \"time\": \"410.02:420.11\", \"subtitle\": \"if you\\'ve ever use react context in the past you\\'ve likely use the consumer can power at the use context tuck is basically a cleaner replacement for the consumer and now let\\'s switch gears\"}, {\"section\": 43, \"time\": \"420.11:430.25\", \"subtitle\": \"to use RAF this stock allows you to create a mutable object that will keep the same reference between renders it can be used when you have a value that changes kind of like set state\"}, {\"section\": 44, \"time\": \"430.28:440.01\", \"subtitle\": \"but the difference being that it doesn\\'t trigger a re render when the value changes for example if we try to build a counter button with use RAF we could reference the current counts by calling\"}, {\"section\": 45, \"time\": \"440.01:450.0\", \"subtitle\": \"account dot current however when we click the button account would never change in the U. Y. because use raft doesn\\'t trigger a remainder of likes that state does so that can be useful when you need a mutable\"}, {\"section\": 46, \"time\": \"450.0:460.01\", \"subtitle\": \"value but a more common use case for use raft is to grab H. T. M. L. elements from the dom we can start by creating a no reference called my button thing connected to the right H.\"}, {\"section\": 47, \"time\": \"460.01:470.16\", \"subtitle\": \"T. M. L. button using the rap attribute from there we can reference the H. T. M. L. button and a function to call native dom API\\'s like click in this example which would programmatic Lee click\"}, {\"section\": 48, \"time\": \"470.16:480.05\", \"subtitle\": \"the button the bottom line is that when you need to grab an element from the dom use raft is the hook you\\'re looking for the next to go look at is a pretty scary one use reducer by\"}, {\"section\": 49, \"time\": \"480.05:490.26\", \"subtitle\": \"what it does is actually very similar to set state it just goes about it in a different way using the redox pattern which works like this instead of updating the state directly you dispatch\"}, {\"section\": 50, \"time\": \"490.26:500.01\", \"subtitle\": \"actions that go to a reducer function and that reduce our function determines how to compute the next day now just like you state use reducer returns an\"}, {\"section\": 51, \"time\": \"500.01:510.16\", \"subtitle\": \"array of two values with the first value being the reactive state that you want to showing that you Y. the second value is where things get different instead of a function that okay it\\'s the state\"}, {\"section\": 52, \"time\": \"510.35:519.98\", \"subtitle\": \"you\\'re given a function that can dispatch an action in action it\\'s just an object that has a type which can be any string you want an optional data payload\"}, {\"section\": 53, \"time\": \"520.39:530.07\", \"subtitle\": \"you might dispatching action when a button is clicked which will trigger your reduce our function to reduce our function is something you define and passed as the argument to the use reducer\"}, {\"section\": 54, \"time\": \"530.07:540.08\", \"subtitle\": \"hook the function takes the current state and the action is arguments and use these two values to compute the next day which is usually handled inside of a switch statement and this example\"}, {\"section\": 55, \"time\": \"540.08:550.15\", \"subtitle\": \"if the action is increments we add one if it\\'s decrements we subtract one and lastly popping out the hook also takes the initial state as its second argument now you may be wondering\"}, {\"section\": 56, \"time\": \"550.18:560.08\", \"subtitle\": \"why you\\'d ever want to use code like this because it looks way more complex than just using such state the answer which not everyone will agree with is that it helps your code manage complexity as it grows\"}, {\"section\": 57, \"time\": \"560.24:570.13\", \"subtitle\": \"as you add more components to your app it becomes more difficult to manage state and a reliable and predictable way and the redox pattern can help with that never ready to move on to the use memo heck which can help\"}, {\"section\": 58, \"time\": \"570.13:580.13\", \"subtitle\": \"you optimize computation cost for improved performance by keep in mind that you don\\'t want to prematurely optimize performance so think of this work as an opt into all\"}, {\"section\": 59, \"time\": \"580.21:590.1\", \"subtitle\": \"to deal with expensive computations that you know are hurting performance let\\'s imagine we have a counter again but then we compute an additional property after that called expensive account\"}, {\"section\": 60, \"time\": \"590.16:600.05\", \"subtitle\": \"that requires some kind of expensive computation instead of re computing on every render we can memorize the value we write a function that returns the computed value then has a second are\"}, {\"section\": 61, \"time\": \"600.05:610.07\", \"subtitle\": \"you meant we have the dependency is to determine when this computation should be run which in this case would be whenever the account changes that\\'s great for memorizing return values but in other cases\"}, {\"section\": 62, \"time\": \"610.11:620.12\", \"subtitle\": \"you may want to memorize an entire function in which case you\\'re looking for the use a call back when you define a function in a component a new function object is created each time\"}, {\"section\": 63, \"time\": \"620.12:630.02\", \"subtitle\": \"the component is re rendered usually this isn\\'t a big deal for performance but in some cases you may want to memorize the function a common use case is when you pass the same function down to\"}, {\"section\": 64, \"time\": \"630.02:640.05\", \"subtitle\": \"multiple child components by wrapping the function and use call back we can prevent unnecessary renders of the children because the always be using the same function object now\"}, {\"section\": 65, \"time\": \"640.05:649.84\", \"subtitle\": \"let\\'s switch gears to one of the more confusing Huck\\'s use imperative handle if you build a reusable component library and react you may need to get access to the underlying DOM element\"}, {\"section\": 66, \"time\": \"650.0:660.41\", \"subtitle\": \"and then forward it so it can be accessed by the consumers of your component library you can access a native DOM element with the use rats park that we showed earlier then you can wrap the component\"}, {\"section\": 67, \"time\": \"660.44:670.03\", \"subtitle\": \"and for a graph to make that rep available when someone uses this component now use imperative handle comes and if you want to change the behavior of the Expos RAF you\"}, {\"section\": 68, \"time\": \"670.03:680.08\", \"subtitle\": \"might want to modify the message on the native element but in reality if the need for the circuit is probably pretty rare and speaking of rare another heart that you\\'re really need is usually out of fact\"}, {\"section\": 69, \"time\": \"680.12:690.1\", \"subtitle\": \"it works just like the use of fact check with one small difference your call back will run after rendering the component but before the actual updates have been painted to the screen that means react well wait for\"}, {\"section\": 70, \"time\": \"690.1:700.29\", \"subtitle\": \"your code to finish running before it updates to you why for the end user but there may be situations where you need to calculate a scroll position or something else and he why before the dawn is visually\"}, {\"section\": 71, \"time\": \"700.29:710.05\", \"subtitle\": \"updated and with that we reach the final bill ten hug use the back value but this hope will make a lot of sense until you start building your own custom hooks from scratch if you pull up your\"}, {\"section\": 72, \"time\": \"710.05:720.05\", \"subtitle\": \"app in the browser then open react Dev tools you\\'ll notice that every component and the tree will tell you a little bit about the hooks better define their the purpose of use D. back value is to my\"}, {\"section\": 73, \"time\": \"720.05:730.18\", \"subtitle\": \"it possible to define your own custom labels here and reactive tools when you start building custom hooks let\\'s go ahead and build a custom part now do you see that in action noticed our component\"}, {\"section\": 74, \"time\": \"730.22:740.24\", \"subtitle\": \"is using two hooks together we have you state to to find a display name for the user and then use a fact to fetch that username from the database somewhere now let\\'s imagine we have ten\"}, {\"section\": 75, \"time\": \"740.24:750.11\", \"subtitle\": \"other components that need to implement the same exact logic the great thing about FedEx is that we can easily do that by defining our own function call to use display name it\\'s just\"}, {\"section\": 76, \"time\": \"750.11:760.1\", \"subtitle\": \"a regular Java script function that implements the same code we had in our component the only difference is that we now want to return the display name from this function so we can use it\"}, {\"section\": 77, \"time\": \"760.1:770.19\", \"subtitle\": \"elsewhere in the application and we can now put it to use and multiple components one final touch here is to add use Deepak value to our customers the argument passed to the hook\"}, {\"section\": 78, \"time\": \"770.22:779.92\", \"subtitle\": \"will be the value shown and reactive tools as you can see here it shows the display name label along with the value as well as a break down of the primitive hooks that went into this customer\"}, {\"section\": 79, \"time\": \"780.33:790.18\", \"subtitle\": \"and with that we\\'ve looked at every single built and react %HESITATION if this video helped you please like and subscribe and consider becoming a prime members to get access to the upcoming react firebase course\"}, {\"section\": 80, \"time\": \"790.37:792.95\", \"subtitle\": \"thanks for watching and I will see you in the next one\"}]',\n",
       " 'caption_fulltext': \"react hooks use features of the react framework by calling special hook functions from within a component we can build static work done components and react by writing functions however you I. components are often dynamic they may need to change the state of their data reacted lifecycle events access elements from the dom among many other things but prior to react version sixteen point eight developers were required to write classes to take advantage of certain react features now you can still use classes and react but cooks generally providing more ergonomic way to build components because you can reuse staple logic without changing your component hierarchy react has ten built in hooks and you'll understand what every single one of them does by the end of today's video in addition you'll learn how to build your own hooks from scratch to extract your own component logic into reusable functions if you're new here like and subscribe and consider becoming a pro member Aspyr ship by you know to get access to my upcoming next firebase course if you're new to react it's helpful to understand why hooks exist in the first place in the past staple logic for data that changes within the application was tightly coupled to a class based component that means in order to work with reactive data you needed to create a component that seems reasonable but what what you in reality was that complex tree %HESITATION of nested components no don't like that and this is where I have to admit that I used to really just like react because sure in any logic required some frustrating ju jitsu like higher order components and render props which are patterns that have you passing components as arguments to other components and I just always felt way more complex to meet them patterns you find in other frameworks like angular fortunately hooks changed everything by giving you access to lower level features up react outside of the context of a component when you work with her ex you can think of them like low level primitives of the react framework that give you special abilities that you wouldn't otherwise have in the know what Java script hooks themselves are functions which always start with the name of the use because you're using the super powers of the react framework now before you start using her ex there's really just one really should be aware of and that's to only call them at the top level of a functional component they don't work inside of regular Java scrip functions nested functions loops or anything like that the only exception to this rule is when building your own custom hooks which will look at towards the end of the video now the question becomes what are these primitives were hooks actually do let's break them down one by one starting with you state you state is usually the most important and often use tech to import it into react up type use N. C. I. D. E. and that should give you a list of all the hooks that are available to you hi like you state and hit enter to automatically imported from react the purpose of you state is to handle reactive data any data that changes in the application is called state and when the state changes you won't react to update the U. Y. so the latest changes are reflected to the end user the hook takes one optional argument which is the default state which will go head and set to zero the function returns an array that contains two values you can use within your component the reason I returned in an array is because we can D. structure them with Java script to easily assigned the values to local variables that we can name whatever we want the first value is the reactive data or state if within reference IT and the why and its value changes in the future react to automatically rebuild the U. Y. to show the latest value it'll start with a value of zero our default in the hook but how do we didn't change its value in the future the second element in the array is a setter function for example we might listen to the on clicking on the button and when clicked we'll call this that count function to increment account by one if we compare this code it to a class based component you can see it's far more complex we need a class to extend a react component in a constructor to initialize the state and also notice how are required to reference the this keyword all over the place you state and my opinion is a much cleaner solution now we're ready to tackle the second most important hook use the fact which also happens to be one of the most confusing and in order to understand it you first need to understand the component lifecycle here in our whole class component work implement E. methods to handle different life cycle events here's a simplified breakdown of the component life cycle the component is added to the U. Y. or mounted which can only happen once then reactive data on the component can change or it's updated which can happen multiple times then finally at some point the component will be removed from the U. Y. or unmounted now keep these three lifecycle events for side effects in mind as we talk about the use of factor which allows us to implement logic for all of them from within a single function API use the fact is a function that takes a function you define as its first argument react within run your function or side of fact after it is updated the dom with the current implementation it will run this function any time staple data changes on the component that means they'll run once when the component is initialized with the default value then run again each time the state or account is updated in most cases though you'll likely want more fine grained control over that behavior for example imagine we need to fetch data when the component is first initialized then update the state asynchronously after the data has been faxed this code would result in an infinite loop because every time we do the fetch with an update the state which then triggers another batch and someone forever the way we address this is by adding a second argument to use a fact which is an array of dependencies if you add an empty array it means there are no dependencies which means it will only run once when the component is first initialized but in other cases you might want to re run the function any time certain staple data has changed you can do that by adding the state to the dependencies right now react will track that value and any time it changes it will re run this function now one last thing you might want to do with you is the fact is run some tear down code when the component is destroyed the way we implemented a tear down function is to return a function from our use a fax call back react will take the function returns here then call it when the component is destroyed and with that let's move on to our next tech use context this allows you to work with remax calling to stay PI which itself is a mechanism that allows you to Cher or scope values throughout the entire componentry let's imagine we have an object called nudes that can be happy or sad to show the current mood across multiple disconnected components we can create a context one part of the application might be happy so we use a contact provider to scope the happy mood there now any child component inside of it can inherit that value without needing to pass props down to the children and that finally brings us to the use contacts correct it allows us to access or consume the current value from the contacts provider which might live many levels higher in the componentry Reno Perrin value with these contacts is much easier than passing props down through multiple children now to me changes from happy to sad and the Perrin provider the value here will be updated automatically now if you've ever use react context in the past you've likely use the consumer can power at the use context tuck is basically a cleaner replacement for the consumer and now let's switch gears to use RAF this stock allows you to create a mutable object that will keep the same reference between renders it can be used when you have a value that changes kind of like set state but the difference being that it doesn't trigger a re render when the value changes for example if we try to build a counter button with use RAF we could reference the current counts by calling account dot current however when we click the button account would never change in the U. Y. because use raft doesn't trigger a remainder of likes that state does so that can be useful when you need a mutable value but a more common use case for use raft is to grab H. T. M. L. elements from the dom we can start by creating a no reference called my button thing connected to the right H. T. M. L. button using the rap attribute from there we can reference the H. T. M. L. button and a function to call native dom API's like click in this example which would programmatic Lee click the button the bottom line is that when you need to grab an element from the dom use raft is the hook you're looking for the next to go look at is a pretty scary one use reducer by what it does is actually very similar to set state it just goes about it in a different way using the redox pattern which works like this instead of updating the state directly you dispatch actions that go to a reducer function and that reduce our function determines how to compute the next day now just like you state use reducer returns an array of two values with the first value being the reactive state that you want to showing that you Y. the second value is where things get different instead of a function that okay it's the state you're given a function that can dispatch an action in action it's just an object that has a type which can be any string you want an optional data payload you might dispatching action when a button is clicked which will trigger your reduce our function to reduce our function is something you define and passed as the argument to the use reducer hook the function takes the current state and the action is arguments and use these two values to compute the next day which is usually handled inside of a switch statement and this example if the action is increments we add one if it's decrements we subtract one and lastly popping out the hook also takes the initial state as its second argument now you may be wondering why you'd ever want to use code like this because it looks way more complex than just using such state the answer which not everyone will agree with is that it helps your code manage complexity as it grows as you add more components to your app it becomes more difficult to manage state and a reliable and predictable way and the redox pattern can help with that never ready to move on to the use memo heck which can help you optimize computation cost for improved performance by keep in mind that you don't want to prematurely optimize performance so think of this work as an opt into all to deal with expensive computations that you know are hurting performance let's imagine we have a counter again but then we compute an additional property after that called expensive account that requires some kind of expensive computation instead of re computing on every render we can memorize the value we write a function that returns the computed value then has a second are you meant we have the dependency is to determine when this computation should be run which in this case would be whenever the account changes that's great for memorizing return values but in other cases you may want to memorize an entire function in which case you're looking for the use a call back when you define a function in a component a new function object is created each time the component is re rendered usually this isn't a big deal for performance but in some cases you may want to memorize the function a common use case is when you pass the same function down to multiple child components by wrapping the function and use call back we can prevent unnecessary renders of the children because the always be using the same function object now let's switch gears to one of the more confusing Huck's use imperative handle if you build a reusable component library and react you may need to get access to the underlying DOM element and then forward it so it can be accessed by the consumers of your component library you can access a native DOM element with the use rats park that we showed earlier then you can wrap the component and for a graph to make that rep available when someone uses this component now use imperative handle comes and if you want to change the behavior of the Expos RAF you might want to modify the message on the native element but in reality if the need for the circuit is probably pretty rare and speaking of rare another heart that you're really need is usually out of fact it works just like the use of fact check with one small difference your call back will run after rendering the component but before the actual updates have been painted to the screen that means react well wait for your code to finish running before it updates to you why for the end user but there may be situations where you need to calculate a scroll position or something else and he why before the dawn is visually updated and with that we reach the final bill ten hug use the back value but this hope will make a lot of sense until you start building your own custom hooks from scratch if you pull up your app in the browser then open react Dev tools you'll notice that every component and the tree will tell you a little bit about the hooks better define their the purpose of use D. back value is to my it possible to define your own custom labels here and reactive tools when you start building custom hooks let's go ahead and build a custom part now do you see that in action noticed our component is using two hooks together we have you state to to find a display name for the user and then use a fact to fetch that username from the database somewhere now let's imagine we have ten other components that need to implement the same exact logic the great thing about FedEx is that we can easily do that by defining our own function call to use display name it's just a regular Java script function that implements the same code we had in our component the only difference is that we now want to return the display name from this function so we can use it elsewhere in the application and we can now put it to use and multiple components one final touch here is to add use Deepak value to our customers the argument passed to the hook will be the value shown and reactive tools as you can see here it shows the display name label along with the value as well as a break down of the primitive hooks that went into this customer and with that we've looked at every single built and react %HESITATION if this video helped you please like and subscribe and consider becoming a prime members to get access to the upcoming react firebase course thanks for watching and I will see you in the next one\"}"
      ]
     },
     "execution_count": 13,
     "metadata": {},
     "output_type": "execute_result"
    }
   ],
   "source": [
    "# caption = pipeline('https://www.youtube.com/watch?v=TNhaISOUy6Q')\n",
    "\n",
    "import pickle\n",
    "\n",
    "# with open('reacthook_watson.pickle', 'wb') as f:\n",
    "#     pickle.dump(caption, f)\n",
    "\n",
    "with open('reacthook_watson.pickle', 'rb') as f:\n",
    "    caption = pickle.load(f)\n",
    "\n",
    "caption"
   ]
  },
  {
   "cell_type": "code",
   "execution_count": 8,
   "id": "e3a9eb98",
   "metadata": {},
   "outputs": [],
   "source": [
    "# import from nltk\n",
    "import nltk\n",
    "from nltk.corpus import stopwords, wordnet\n",
    "from nltk.tokenize import word_tokenize\n",
    "from nltk.stem import PorterStemmer, WordNetLemmatizer"
   ]
  },
  {
   "cell_type": "code",
   "execution_count": 6,
   "id": "63353850",
   "metadata": {},
   "outputs": [],
   "source": [
    "search_word = 'fatigue'"
   ]
  },
  {
   "cell_type": "code",
   "execution_count": 9,
   "id": "12b857af",
   "metadata": {},
   "outputs": [
    {
     "name": "stdout",
     "output_type": "stream",
     "text": [
      "{'tire', 'tire_out', 'fatigue_duty', 'tiredness', 'wear_upon', 'outwear', 'fatigue', 'pall', 'wear', 'wear_down', 'jade', 'wear_out', 'fag', 'weariness', 'weary', 'fag_out'} {'refresh'}\n"
     ]
    }
   ],
   "source": [
    "synonyms = []\n",
    "antonyms = []\n",
    "\n",
    "for syn in wordnet.synsets(search_word):\n",
    "    for l in syn.lemmas():\n",
    "        synonyms.append(l.name())\n",
    "        if l.antonyms():\n",
    "            antonyms.extend([n.name() for n in l.antonyms()])\n",
    "            \n",
    "print(set(synonyms), set(antonyms))"
   ]
  },
  {
   "cell_type": "code",
   "execution_count": null,
   "id": "6e133b25",
   "metadata": {},
   "outputs": [],
   "source": [
    "for section in json.loads(caption['caption_sections']):\n",
    "    if search_word in section['subtitle']:\n",
    "        print(section['section'])"
   ]
  },
  {
   "cell_type": "markdown",
   "id": "b807c91c",
   "metadata": {},
   "source": [
    "TODO: return search results in the form\n",
    "\n",
    "e.g. search word: 'component'\n",
    "\n",
    "{'results': [{'match': 'components', 'section': 1, 'match_type': 'exact'}, {'match': 'part', 'section': 2, 'match_type': 'synonym'}]}"
   ]
  },
  {
   "cell_type": "code",
   "execution_count": null,
   "id": "b2edba6c",
   "metadata": {},
   "outputs": [],
   "source": []
  }
 ],
 "metadata": {
  "kernelspec": {
   "display_name": "Python 3 (ipykernel)",
   "language": "python",
   "name": "python3"
  },
  "language_info": {
   "codemirror_mode": {
    "name": "ipython",
    "version": 3
   },
   "file_extension": ".py",
   "mimetype": "text/x-python",
   "name": "python",
   "nbconvert_exporter": "python",
   "pygments_lexer": "ipython3",
   "version": "3.9.5"
  }
 },
 "nbformat": 4,
 "nbformat_minor": 5
}
