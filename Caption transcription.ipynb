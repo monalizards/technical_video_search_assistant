{
 "cells": [
  {
   "cell_type": "code",
   "execution_count": 1,
   "metadata": {},
   "outputs": [],
   "source": [
    "# YoutubeCaption class\n",
    "class YoutubeCaption:\n",
    "    def __init__(self, caption):\n",
    "        self.caption = caption\n",
    "        self.sectionlist = self.format_sections()\n",
    "        self.text = self.compile_sections()\n",
    "        \n",
    "#     print and preview caption\n",
    "    def __str__(self):\n",
    "        return f'<YoutubeCaption text=\"{self.text[:100]}... \">'\n",
    "    \n",
    "#     function to convert srt into a list of itmes in the format {\"time\": {time}, \"subtitle\": {subtitle}}\n",
    "    def format_sections(self):\n",
    "        sections = []\n",
    "        caption = self.caption.split('\\n')\n",
    "#         Divide caption into sections (each sections is 4 lines each: 1. section number, 2. timestamps, 3. text, 4. newline)\n",
    "        for index in range(len(caption) // 4):\n",
    "            base = index * 4\n",
    "#             create new item in subtitle\n",
    "            sections.append({\n",
    "            \"section\": caption[base],\n",
    "            \"time_original\": caption[base+1],\n",
    "            \"time\": self.format_time(caption[base + 1]),\n",
    "            \"subtitle\": caption[base + 2]\n",
    "            })\n",
    "        return sections\n",
    "    \n",
    "    def compile_sections(self):\n",
    "        text = \" \".join([section[\"subtitle\"] for section in self.sectionlist])\n",
    "        return text\n",
    "    \n",
    "    def list_sections(self):\n",
    "        return self.sectionlist\n",
    "    \n",
    "    def full_text(self):\n",
    "        return self.text\n",
    "    \n",
    "    @classmethod\n",
    "    def format_time(cls, time):\n",
    "        \"\"\"return starttime:endtime in seconds from original format, e.g. '00:00:00,000 --> 00:00:07,000'\"\"\"\n",
    "        start_time, end_time = time.split(' --> ')\n",
    "        start_time, end_time = cls.timestamp_to_seconds(start_time), cls.timestamp_to_seconds(end_time)\n",
    "        return f'{start_time}:{end_time}'\n",
    "        \n",
    "    @classmethod\n",
    "    def timestamp_to_seconds(cls, timestamp):\n",
    "        hh, mm, ss = timestamp.split(':')\n",
    "        ss, ms = ss.split(',')\n",
    "        seconds = int(hh) * 60 * 60 + int(mm) * 60 + int(ss) + int(ms) / 1000\n",
    "        return seconds\n",
    "        "
   ]
  },
  {
   "cell_type": "code",
   "execution_count": 59,
   "metadata": {},
   "outputs": [],
   "source": [
    "# WatsonCaption class\n",
    "class WatsonCaption:\n",
    "    def __init__(self, result):\n",
    "        self.result = result\n",
    "        self.sectionlist = self.format_sections()\n",
    "        self.text = self.compile_sections()\n",
    "        \n",
    "#     print and preview caption\n",
    "    def __str__(self):\n",
    "        return f'<WatsonCaption text=\"{self.text[:100]}... \">'\n",
    "\n",
    "    # convert to srt-like format\n",
    "    @staticmethod\n",
    "    def format_section(section):\n",
    "        subtitle = section['transcript']\n",
    "        start_time = section['timestamps'][0][1]\n",
    "        end_time = section['timestamps'][-1][2]\n",
    "        return {'time': f\"{start_time}:{end_time}\", 'subtitle': subtitle}\n",
    "    \n",
    "    # format sections from result in format {'section', 'time', 'subtitle'}    \n",
    "    def format_sections(self):\n",
    "        sections = []\n",
    "        for index, section in enumerate(self.result[\"results\"]):\n",
    "            s = {'section': index + 1}\n",
    "            s = {**s, **self.format_section(section['alternatives'][0])}\n",
    "            sections.append(s)\n",
    "        return sections\n",
    "    \n",
    "    def compile_sections(self):\n",
    "        text = \" \".join([section[\"subtitle\"] for section in self.sectionlist])\n",
    "        return text\n",
    "    \n",
    "    def list_sections(self):\n",
    "        return self.sectionlist\n",
    "    \n",
    "    def full_text(self):\n",
    "        return self.text"
   ]
  },
  {
   "cell_type": "markdown",
   "metadata": {},
   "source": [
    "### Extract caption from youtube"
   ]
  },
  {
   "cell_type": "code",
   "execution_count": 7,
   "metadata": {},
   "outputs": [],
   "source": [
    "# imports\n",
    "import sys\n",
    "from pytube import YouTube, Caption\n"
   ]
  },
  {
   "cell_type": "markdown",
   "metadata": {},
   "source": [
    "## helper functions"
   ]
  },
  {
   "cell_type": "code",
   "execution_count": 5,
   "metadata": {},
   "outputs": [],
   "source": [
    "# Original method a.en: English (auto-generated), en: English (US), en-GB: English (UK)\n",
    "# Failed case: <Caption lang=\"English - jamake\" code=\"en.FmoQciUtYSc\"> (https://en.jamake.io/)\n",
    "\n",
    "def find_en_caption(yt):\n",
    "    \"\"\"\n",
    "    returns English caption for a given Pytube's Youtube object\n",
    "    \"\"\"\n",
    "    for c in yt.caption_tracks:\n",
    "        if 'en' in c.code:\n",
    "            return c\n",
    "    return None"
   ]
  },
  {
   "cell_type": "code",
   "execution_count": 6,
   "metadata": {},
   "outputs": [],
   "source": [
    "def yt_find_id(yt):\n",
    "    \"\"\"\n",
    "    return videoID for a given Pytube's Youtube object\n",
    "    \"\"\"\n",
    "    return yt.initial_data[\"currentVideoEndpoint\"][\"watchEndpoint\"][\"videoId\"]"
   ]
  },
  {
   "cell_type": "markdown",
   "metadata": {},
   "source": [
    "## Download & extract audio"
   ]
  },
  {
   "cell_type": "code",
   "execution_count": 10,
   "metadata": {},
   "outputs": [],
   "source": [
    "# Download and extract audio\n",
    "def download_audio(yt):\n",
    "    if 'AudioFileClip' not in dir():\n",
    "        from moviepy.editor import AudioFileClip\n",
    "    videoId = yt_find_id(yt)\n",
    "    path = yt.streams.first().download(output_path=f\"download/{videoId}\", filename=f\"{videoId}\")\n",
    "\n",
    "    audioclip = AudioFileClip(path)\n",
    "    audio_filename = f\"download/{videoId}/{videoId}.mp3\"\n",
    "    audioclip.write_audiofile(audio_filename)\n",
    "    return audio_filename"
   ]
  },
  {
   "cell_type": "markdown",
   "metadata": {},
   "source": [
    "## Transcription using watson speech to text"
   ]
  },
  {
   "cell_type": "code",
   "execution_count": 26,
   "metadata": {},
   "outputs": [],
   "source": [
    "def setup_watson():\n",
    "    if 'speech_to_text' in dir():\n",
    "        return speech_to_text\n",
    "    else:\n",
    "        from ibm_watson import SpeechToTextV1\n",
    "        from ibm_cloud_sdk_core.authenticators import IAMAuthenticator\n",
    "\n",
    "        apikey = 'PvFDc759NRCbfBhRgKlqi87QsDl7kpNvQYkJZTaEfGCA'\n",
    "        url = 'https://api.eu-gb.speech-to-text.watson.cloud.ibm.com/instances/33ecdf1d-e4a5-4521-83e6-d3c3c574d9b0'\n",
    "\n",
    "        # authentication\n",
    "        authenticator = IAMAuthenticator(apikey)\n",
    "        speech_to_text = SpeechToTextV1(authenticator=authenticator)\n",
    "        speech_to_text.set_service_url(url)\n",
    "    return speech_to_text"
   ]
  },
  {
   "cell_type": "code",
   "execution_count": 44,
   "metadata": {},
   "outputs": [],
   "source": [
    "def stt(file, sttmodel):\n",
    "    with open(file, 'rb') as audio_file:\n",
    "        result = sttmodel.recognize(\n",
    "            audio=audio_file,\n",
    "            content_type=\"audio/mp3\",\n",
    "            model='en-US_NarrowbandModel',\n",
    "            timestamps=True\n",
    "        ).get_result()\n",
    "    return result"
   ]
  },
  {
   "cell_type": "code",
   "execution_count": 45,
   "metadata": {},
   "outputs": [],
   "source": [
    "def generate_watson_caption(yt):\n",
    "    speech_to_text = setup_watson()\n",
    "    audio_filename = download_audio(yt)\n",
    "    speech_recognition_result = stt(audio_filename, speech_to_text)\n",
    "    return speech_recognition_result"
   ]
  },
  {
   "cell_type": "code",
   "execution_count": 46,
   "metadata": {},
   "outputs": [
    {
     "ename": "NameError",
     "evalue": "name 'speech_recognition_result' is not defined",
     "output_type": "error",
     "traceback": [
      "\u001b[0;31m---------------------------------------------------------------------------\u001b[0m",
      "\u001b[0;31mNameError\u001b[0m                                 Traceback (most recent call last)",
      "\u001b[0;32m<ipython-input-46-0d8fd5150bd4>\u001b[0m in \u001b[0;36m<module>\u001b[0;34m\u001b[0m\n\u001b[1;32m      1\u001b[0m \u001b[0;31m# generate_watson_caption(yt)\u001b[0m\u001b[0;34m\u001b[0m\u001b[0;34m\u001b[0m\u001b[0;34m\u001b[0m\u001b[0m\n\u001b[0;32m----> 2\u001b[0;31m \u001b[0mspeech_recognition_result\u001b[0m\u001b[0;34m\u001b[0m\u001b[0;34m\u001b[0m\u001b[0m\n\u001b[0m",
      "\u001b[0;31mNameError\u001b[0m: name 'speech_recognition_result' is not defined"
     ]
    }
   ],
   "source": [
    "# generate_watson_caption(yt)\n",
    "speech_recognition_result"
   ]
  },
  {
   "cell_type": "code",
   "execution_count": 65,
   "metadata": {},
   "outputs": [
    {
     "name": "stderr",
     "output_type": "stream",
     "text": [
      "chunk:   2%|▏         | 173/9072 [00:00<00:05, 1729.81it/s, now=None]"
     ]
    },
    {
     "name": "stdout",
     "output_type": "stream",
     "text": [
      "MoviePy - Writing audio in download/DjdECYIfGgY/DjdECYIfGgY.mp3\n"
     ]
    },
    {
     "name": "stderr",
     "output_type": "stream",
     "text": [
      "                                                                      \r"
     ]
    },
    {
     "name": "stdout",
     "output_type": "stream",
     "text": [
      "MoviePy - Done.\n",
      "WatsonCaption created\n"
     ]
    }
   ],
   "source": [
    "# Transcription pipeline\n",
    "# Create Youtube object with a link\n",
    "\n",
    "url = \"https://www.youtube.com/watch?v=DjdECYIfGgY\"\n",
    "yt = YouTube(url)\n",
    "\n",
    "try:\n",
    "#     Use youtube caption\n",
    "    c = find_en_caption(yt)\n",
    "    if c:\n",
    "        caption = YoutubeCaption(c.generate_srt_captions())\n",
    "        print(\"YoutubeCaption created\")\n",
    "    else:\n",
    "#     use Watson API\n",
    "        speech_recognition_result = generate_watson_caption(yt)\n",
    "        \n",
    "        caption = WatsonCaption(speech_recognition_result)\n",
    "        print(\"WatsonCaption created\")\n",
    "except:\n",
    "    print(\"no caption created\")\n",
    "    pass"
   ]
  },
  {
   "cell_type": "code",
   "execution_count": 48,
   "metadata": {},
   "outputs": [
    {
     "ename": "AttributeError",
     "evalue": "'NoneType' object has no attribute 'generate_srt_captions'",
     "output_type": "error",
     "traceback": [
      "\u001b[0;31m---------------------------------------------------------------------------\u001b[0m",
      "\u001b[0;31mAttributeError\u001b[0m                            Traceback (most recent call last)",
      "\u001b[0;32m<ipython-input-48-acca730e0f2b>\u001b[0m in \u001b[0;36m<module>\u001b[0;34m\u001b[0m\n\u001b[0;32m----> 1\u001b[0;31m \u001b[0myoutube\u001b[0m \u001b[0;34m=\u001b[0m \u001b[0mYoutubeCaption\u001b[0m\u001b[0;34m(\u001b[0m\u001b[0mc\u001b[0m\u001b[0;34m.\u001b[0m\u001b[0mgenerate_srt_captions\u001b[0m\u001b[0;34m(\u001b[0m\u001b[0;34m)\u001b[0m\u001b[0;34m)\u001b[0m\u001b[0;34m\u001b[0m\u001b[0;34m\u001b[0m\u001b[0m\n\u001b[0m\u001b[1;32m      2\u001b[0m \u001b[0mwatson\u001b[0m \u001b[0;34m=\u001b[0m \u001b[0mWatsonCaption\u001b[0m\u001b[0;34m(\u001b[0m\u001b[0mspeech_recognition_results_US\u001b[0m\u001b[0;34m)\u001b[0m\u001b[0;34m\u001b[0m\u001b[0;34m\u001b[0m\u001b[0m\n",
      "\u001b[0;31mAttributeError\u001b[0m: 'NoneType' object has no attribute 'generate_srt_captions'"
     ]
    }
   ],
   "source": [
    "youtube = YoutubeCaption(c.generate_srt_captions())\n",
    "watson = WatsonCaption(speech_recognition_results_US)"
   ]
  },
  {
   "cell_type": "code",
   "execution_count": 66,
   "metadata": {},
   "outputs": [
    {
     "data": {
      "text/plain": [
       "[{'section': 1,\n",
       "  'time': '0.0:120.0',\n",
       "  'subtitle': \"Hey guys news Justin by now stop old withdrawals in U. K. this is a really important element that is a major concern for any U. K. customers were using bina in fact I think this might be of concern to any other point of Christmas as well because if this is the response the finances going within U. K. one of a similar situation with the regulator was cool right in another country in the future anyway so today's news has broken up by NASA blocked old card withdrawal from the platform for you to use in this news comes in the back of the bank account withdrawals by a past the payment being blocked yesterday so this leave anybody in U. K. we've known by a way of getting that money out of finance this is a massive massive problem thank you you may be able to make it out to another platform but then you'll need to have an account now you have to Kerry at the transfer and then cash out from the other possible this is presuming the crypto transferred and get bands just like cash and card withdrawals already happy and for U. K. customers oldest comes on the back of the S. U. decision to buy I'm buying them on Friday last week I made a video about that were explain in detail exactly what happened feel free to check out the description below I like most of the comedy because I actually read that the note is not that much short a warning because the notice explained everything a lot more detail unfortunately quite a few people left coming from that you're saying that I am wrong and I. bypasses north bound but unfortunately that's just not correct the FAA has specifically said the need the finance market limited the U. K. coming no any other part of buying a group have S. C. permissions to run a regulated activities and U. K. buying a crypto is not regulated activity in U. K. I knew that but operating an exchange the last people to transfer money and buy and sell crypto ease a regulated entity so while the customers I'm not doing anything wrong with the operational Curtis change without being properly registered with the FDA is illegal in the U. K. and presumably this is what has caused the issues with the payments to okay so now if you \"},\n",
       " {'section': 2,\n",
       "  'time': '120.0:239.71',\n",
       "  'subtitle': \"live in U. K. and you have an account with by now the only two methods available for withdrawing pound starting back to your current account for whatever else %HESITATION both unavailable they have both mysteriously disappeared and being placed on the maintenance now over the weekend by has been lined the way any issues at all they said the best movie just in no way affect anything on the ramp or a minor dot com on Twitter by police to the chain that said we are aware of recent reports about next year you could notice in relation to finance markets limited B. M. L. B. a male is a separate legal entity and does not offer any products or services by %HESITATION by Nance dot the by nine dot com website the Bynum group acquired B. M. L. may twenty twenty and has not get lost if you can %HESITATION use this S. yeah regulation commission for questions please be email please contact compliance a binder U. K. I'm gonna continue to spread the S. C. you can I just have no direct impact on the service provided a minus dot com I relationship with a user has not changed we think the collaborative approach and working with regulators and we take a compliance obligations very seriously we are actively keeping abreast of changing policies rules and laws and you space it appears that this thread was somewhat misleading I would argue that the fact that you take a longer withdrawal money from the pineapple by any means within hours of the threes going up definitely a direct impact on the services provided abundance dot com and the relationship with users have most definitely changed they also they said that they take a collaborative approach him working with regulations but reports of the last couple days have just the opposite I cannot verify these reports but it has been reported very different force the by now it's pulled out of the process of registration would be S. A. F. U. either in may or June I missed a call from the SCA came shortly after that happened apparently the reason for pulling out of because the regulators wanted to know more information about finances company structure that for regal struck an old all the information \"},\n",
       " {'section': 3,\n",
       "  'time': '240.0:243.78',\n",
       "  'subtitle': 'but by now I did not want to disclose and there in lies '},\n",
       " {'section': 4,\n",
       "  'time': '244.81:279.04',\n",
       "  'subtitle': 'problem financial company does not want to disclose basic operational information to regulate the every other financial company that is authorized and regulated Nikkei does disclose surely question marks would naturally appear why would you pull out of the registration process what information is buying us wanting to hide from the regulated to the point of pulling out of the registration process well that information is requested with the payments yesterday it is not clear exactly what happened did faster payments block by now from being a personal payment %HESITATION the bi have simply stopped processing this payment '},\n",
       " {'section': 5,\n",
       "  'time': '279.92:308.24',\n",
       "  'subtitle': \"today's development would cost is much more serious the guardian is reporting that the visa spokesperson said there were no issues with his service and they %HESITATION the company providing the facility to buy now full coverage rules so based on that sounds are buying out some decided unilaterally to stop U. K. customers from being able to take the money out and this is extremely boring and concerning because that is a very bad sign I hope this actually is some we have temporary blog I read you read \"},\n",
       " {'section': 6,\n",
       "  'time': '309.12:312.1',\n",
       "  'subtitle': 'history shows that too often this is a very bad sign '},\n",
       " {'section': 7,\n",
       "  'time': '312.91:382.56',\n",
       "  'subtitle': \"now in the last few minutes not west to become the Lakers bank to block transfers to crypt those changes including finance joining a long list that is growing very fast W. T. bank %HESITATION service company so then exactly the same thing in the last few days is that you know how to find U. K. bank the dazzle out unfortunately it appears a bina I choosing to ignore this whole issue as if nothing happened there's been no update Adil Ahmed Twitter which is their primary social media account it seems I don't know about the payment situation you pay many customers are reporting absolutely no response to the queries and anytime that twisted by now since with the keep celebrating right at G. emails record number the transaction and I've even posted a letter from the U. K. southeastern regional organized crime unit which thanks for the help of battling illegal activities now if a company that holds the money decides to hold onto it and stop you from being able to get it back stop C. B. M. to access it would you expect them to maybe say something about it make some kind of a now according to financial times check out dot com pay you pay I'm clear junction %HESITATION involved in the processing of payments for you get customers from buying and all of them have declined to comment on the situation \"},\n",
       " {'section': 8,\n",
       "  'time': '383.61:399.03',\n",
       "  'subtitle': \"you make your own decisions as to what's happening it is clear that something's happening and it isn't looking good I hope you find it useful if you have please if you get hit the like button because I'm sure a lot of people are going to be doing the exact opposite thank you so much for watching every we appreciate another way I'll see you guys later \"}]"
      ]
     },
     "execution_count": 66,
     "metadata": {},
     "output_type": "execute_result"
    }
   ],
   "source": [
    "caption.full_text()\n",
    "caption.sectionlist"
   ]
  },
  {
   "cell_type": "code",
   "execution_count": null,
   "metadata": {},
   "outputs": [],
   "source": [
    "# Testing code\n",
    "\n",
    "# for c in yt.caption_tracks:\n",
    "#     print(c)\n",
    "\n",
    "caption.text.replace(\"\\'\",\"\")"
   ]
  },
  {
   "cell_type": "code",
   "execution_count": 70,
   "metadata": {},
   "outputs": [],
   "source": [
    "# import json \n",
    "\n",
    "# with open('example_watsoncaption.txt', 'w') as f:\n",
    "#     f.writelines(json.dumps(caption.sectionlist))"
   ]
  },
  {
   "cell_type": "markdown",
   "metadata": {},
   "source": [
    "# example output Youtube SRT caption.generate_srt_captions()\n",
    "\"\"\"'1\\n00:00:00,000 --> 00:00:07,000\\nTranscriber: Victor Borges Reviewer: David DeRuwe\\n\\n2\\n00:00:11,791 --> 00:00:12,799\\nWow,\\n\\n3\\n00:00:13,030 --> 00:00:14,220\\nwhat an audience.\\n\\n4\\n00:00:14,515 --> 00:00:17,531\\nBut if I\\'m being honest, I don\\'t care what you think of my talk.\\n\\n5\\n00:00:18,097 --> 00:00:19,101\\nI don\\'t.\\n\\n6\\n00:00:19,101 --> 00:00:21,100\\nI care what the internet thinks of my talk.\\n\\n7\\n00:00:21,100 --> 00:00:22,101\\n(Laughter)\\n\\n8\\n00:00:22,101 --> 00:00:24,579\\nBecause they are the ones who get it seen and shared.\\n\\n9\\n00:00:24,579 --> 00:00:26,907\\nAnd I think that\\'s where most people get it wrong.\\n\\n10\\n00:00:26,907 --> 00:00:28,574\\nThey\\'re talking to you, here,\\n\\n11\\n00:00:28,660 --> 00:00:33,290\\ninstead of talking to you, random person scrolling Facebook.\\n\\n12\\n00:00:34,323 --> 00:00:35,503\\nThanks for the click.\\n\\n13\\n00:00:36,141 --> 00:00:37,825\\nYou see, back in 2009,\\n\\n14\\n00:00:37,855 --> 00:00:41,400\\nwe all had these weird little things called attention spans.\\n\\n15\\n00:00:41,400 --> 00:00:42,400\\n(Laughter)\\n\\n16\\n00:00:42,400 --> 00:00:45,596\\nYeah, they\\'re gone. They\\'re gone. We killed them. They\\'re dead.\\n\\n17\\n00:00:46,287 --> 00:00:50,060\\nI\\'m trying to think of the last time I watched an 18-minute TED talk.\\n\\n18\\n00:00:50,140 --> 00:00:52,640\\nIt\\'s been years, literally years.\\n\\n19\\n00:00:52,865 --> 00:00:55,560\\nSo if you\\'re giving a TED talk, keep it quick.\\n\\n20\\n00:00:55,700 --> 00:00:57,500\\nI\\'m doing mine in under a minute.\\n\\n21\\n00:00:57,560 --> 00:00:59,155\\nI\\'m at 44 seconds right now;\\n\\n22\\n00:00:59,155 --> 00:01:01,283\\nthat means we\\'ve got time for one final joke.\\n\\n23\\n00:01:01,450 --> 00:01:04,500\\nWhy are balloons so expensive?\\n\\n24\\n00:01:04,580 --> 00:01:05,705\\n(Audience) \"Why?\"\\n\\n25\\n00:01:05,705 --> 00:01:06,941\\nWoody Roseland: Inflation.\\n\\n26\\n00:01:06,941 --> 00:01:08,000\\n(Laughter)\\n\\n27\\n00:01:08,000 --> 00:01:10,666\\n(Applause)'\"\"\""
   ]
  },
  {
   "cell_type": "markdown",
   "metadata": {},
   "source": [
    "# example output: speech_recognition_results_US\n",
    "\"\"\"\n",
    "{'result_index': 0, 'results': [{'final': True, 'alternatives': [{'transcript': '%HESITATION ', 'confidence': 0.79, 'timestamps': [['%HESITATION', 0.0, 0.64]]}]}, {'final': True, 'alternatives': [{'transcript': 'wow ', 'confidence': 0.96, 'timestamps': [['wow', 11.79, 12.17]]}]}, {'final': True, 'alternatives': [{'transcript': \"what an audience but if I'm being honest I don't care what you think of my talk \", 'confidence': 0.84, 'timestamps': [['what', 13.04, 13.25], ['an', 13.25, 13.34], ['audience', 13.34, 13.9], ['but', 14.5, 14.64], ['if', 14.64, 14.71], [\"I'm\", 14.71, 14.79], ['being', 14.79, 15.0], ['honest', 15.0, 15.47], ['I', 15.81, 15.9], [\"don't\", 15.9, 16.07], ['care', 16.07, 16.23], ['what', 16.23, 16.32], ['you', 16.32, 16.41], ['think', 16.41, 16.57], ['of', 16.57, 16.63], ['my', 16.63, 16.72], ['talk', 16.72, 17.13]]}]}, {'final': True, 'alternatives': [{'transcript': \"I don't like you're the internet thanks my talk \", 'confidence': 0.77, 'timestamps': [['I', 18.15, 18.26], [\"don't\", 18.26, 18.52], ['like', 19.02, 19.16], [\"you're\", 19.16, 19.3], ['the', 19.3, 19.45], ['internet', 19.45, 19.77], ['thanks', 19.77, 19.98], ['my', 19.98, 20.16], ['talk', 20.16, 20.54]]}]}, {'final': True, 'alternatives': [{'transcript': \"because they're the ones who get it seen and get a Cher and I think that's where most people get it wrong you're talking to you here sort of talking to you random person scrolling Facebook \", 'confidence': 0.83, 'timestamps': [['because', 21.84, 21.95], [\"they're\", 21.95, 22.11], ['the', 22.11, 22.21], ['ones', 22.21, 22.47], ['who', 22.47, 22.56], ['get', 22.56, 22.68], ['it', 22.68, 22.79], ['seen', 22.79, 23.25], ['and', 23.29, 23.45], ['get', 23.45, 23.56], ['a', 23.56, 23.61], ['Cher', 23.61, 24.02], ['and', 24.44, 24.58], ['I', 24.58, 24.63], ['think', 24.63, 24.84], [\"that's\", 24.84, 24.99], ['where', 24.99, 25.11], ['most', 25.11, 25.38], ['people', 25.38, 25.59], ['get', 25.59, 25.72], ['it', 25.72, 25.8], ['wrong', 25.8, 26.2], [\"you're\", 26.37, 26.5], ['talking', 26.5, 26.78], ['to', 26.78, 26.86], ['you', 26.86, 27.28], ['here', 27.59, 28.22], ['sort', 28.68, 28.93], ['of', 28.93, 29.0], ['talking', 29.0, 29.28], ['to', 29.28, 29.35], ['you', 29.35, 29.77], ['random', 30.08, 30.71], ['person', 30.75, 31.41], ['scrolling', 31.58, 32.36], ['Facebook', 32.43, 33.22]]}]}, {'final': True, 'alternatives': [{'transcript': 'thanks for the quick ', 'confidence': 0.71, 'timestamps': [['thanks', 34.36, 34.61], ['for', 34.61, 34.68], ['the', 34.68, 34.77], ['quick', 34.77, 35.17]]}]}, {'final': True, 'alternatives': [{'transcript': 'you see back in two thousand nine we all had these weird little things called attention spans ', 'confidence': 0.93, 'timestamps': [['you', 36.17, 36.33], ['see', 36.33, 36.54], ['back', 36.54, 36.85], ['in', 36.85, 36.96], ['two', 36.96, 37.15], ['thousand', 37.15, 37.58], ['nine', 37.58, 37.87], ['we', 37.87, 38.0], ['all', 38.0, 38.17], ['had', 38.17, 38.39], ['these', 38.39, 38.61], ['weird', 38.61, 38.98], ['little', 38.98, 39.18], ['things', 39.18, 39.57], ['called', 39.57, 40.09], ['attention', 40.35, 40.83], ['spans', 40.83, 41.58]]}]}, {'final': True, 'alternatives': [{'transcript': \"yeah they're gone they're gone we killed in the day \", 'confidence': 0.61, 'timestamps': [['yeah', 42.39, 42.64], [\"they're\", 42.76, 42.92], ['gone', 42.92, 43.21], [\"they're\", 43.27, 43.4], ['gone', 43.4, 43.61], ['we', 43.61, 43.72], ['killed', 43.72, 43.98], ['in', 43.98, 44.14], ['the', 44.8, 44.94], ['day', 44.94, 45.26]]}]}, {'final': True, 'alternatives': [{'transcript': \"I'm trying to think of the last time I watched and eighteen minutes had talked it's been years literally years so did you have any pets talk keep it quick I'm doing mine in under a minute \", 'confidence': 0.89, 'timestamps': [[\"I'm\", 46.28, 46.45], ['trying', 46.45, 46.65], ['to', 46.65, 46.72], ['think', 46.72, 46.91], ['of', 46.91, 46.99], ['the', 46.99, 47.08], ['last', 47.08, 47.4], ['time', 47.4, 47.66], ['I', 47.66, 47.88], ['watched', 47.88, 48.3], ['and', 48.3, 48.45], ['eighteen', 48.48, 48.93], ['minutes', 48.93, 49.24], ['had', 49.24, 49.44], ['talked', 49.44, 49.82], [\"it's\", 50.16, 50.25], ['been', 50.25, 50.44], ['years', 50.44, 50.81], ['literally', 51.1, 51.7], ['years', 51.76, 52.21], ['so', 52.86, 53.03], ['did', 53.03, 53.21], ['you', 53.21, 53.27], ['have', 53.27, 53.37], ['any', 53.37, 53.52], ['pets', 53.52, 53.82], ['talk', 53.82, 54.17], ['keep', 54.6, 54.83], ['it', 54.83, 54.92], ['quick', 54.92, 55.45], [\"I'm\", 55.71, 55.88], ['doing', 55.88, 56.1], ['mine', 56.1, 56.34], ['in', 56.34, 56.43], ['under', 56.43, 56.64], ['a', 56.64, 56.71], ['minute', 56.71, 57.04]]}]}, {'final': True, 'alternatives': [{'transcript': 'forty four seconds right now that means you got time for one final joke why are balloons so expensive ', 'confidence': 0.95, 'timestamps': [['forty', 57.93, 58.11], ['four', 58.11, 58.33], ['seconds', 58.33, 58.71], ['right', 58.71, 58.93], ['now', 58.93, 59.1], ['that', 59.1, 59.26], ['means', 59.26, 59.42], ['you', 59.42, 59.5], ['got', 59.5, 59.68], ['time', 59.68, 59.92], ['for', 59.92, 60.04], ['one', 60.04, 60.26], ['final', 60.26, 60.58], ['joke', 60.58, 61.04], ['why', 61.43, 62.01], ['are', 62.12, 62.3], ['balloons', 62.3, 63.04], ['so', 63.09, 63.34], ['expensive', 63.34, 64.2]]}]}, {'final': True, 'alternatives': [{'transcript': 'inflation ', 'confidence': 0.88, 'timestamps': [['inflation', 65.76, 66.45]]}]}]}\n",
    "\"\"\"\n"
   ]
  }
 ],
 "metadata": {
  "kernelspec": {
   "display_name": "Python 3",
   "language": "python",
   "name": "python3"
  },
  "language_info": {
   "codemirror_mode": {
    "name": "ipython",
    "version": 3
   },
   "file_extension": ".py",
   "mimetype": "text/x-python",
   "name": "python",
   "nbconvert_exporter": "python",
   "pygments_lexer": "ipython3",
   "version": "3.8.5"
  }
 },
 "nbformat": 4,
 "nbformat_minor": 4
}
